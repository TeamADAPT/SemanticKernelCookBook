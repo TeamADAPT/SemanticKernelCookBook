{
 "cells": [
  {
   "cell_type": "code",
   "execution_count": 1,
   "metadata": {},
   "outputs": [
    {
     "name": "stdout",
     "output_type": "stream",
     "text": [
      "Requirement already satisfied: semantic-kernel in /Users/lokinfey/conda/envs/pydev/lib/python3.10/site-packages (0.9.4b1)\n",
      "Requirement already satisfied: aiohttp<4.0,>=3.8 in /Users/lokinfey/conda/envs/pydev/lib/python3.10/site-packages (from semantic-kernel) (3.8.5)\n",
      "Requirement already satisfied: defusedxml<0.8.0,>=0.7.1 in /Users/lokinfey/conda/envs/pydev/lib/python3.10/site-packages (from semantic-kernel) (0.7.1)\n",
      "Requirement already satisfied: grpcio>=1.50.0 in /Users/lokinfey/conda/envs/pydev/lib/python3.10/site-packages (from semantic-kernel) (1.62.1)\n",
      "Requirement already satisfied: jinja2<4.0.0,>=3.1.3 in /Users/lokinfey/conda/envs/pydev/lib/python3.10/site-packages (from semantic-kernel) (3.1.3)\n",
      "Requirement already satisfied: motor<4.0.0,>=3.3.2 in /Users/lokinfey/conda/envs/pydev/lib/python3.10/site-packages (from semantic-kernel) (3.3.2)\n",
      "Requirement already satisfied: nest-asyncio<2.0.0,>=1.6.0 in /Users/lokinfey/conda/envs/pydev/lib/python3.10/site-packages (from semantic-kernel) (1.6.0)\n",
      "Requirement already satisfied: numpy>=1.25 in /Users/lokinfey/conda/envs/pydev/lib/python3.10/site-packages (from semantic-kernel) (1.26.0)\n",
      "Requirement already satisfied: openai>=1.0 in /Users/lokinfey/conda/envs/pydev/lib/python3.10/site-packages (from semantic-kernel) (1.3.9)\n",
      "Requirement already satisfied: openapi_core<0.20,>=0.18 in /Users/lokinfey/conda/envs/pydev/lib/python3.10/site-packages (from semantic-kernel) (0.18.1)\n",
      "Requirement already satisfied: prance<24.0.0.0,>=23.6.21.0 in /Users/lokinfey/conda/envs/pydev/lib/python3.10/site-packages (from semantic-kernel) (23.6.21.0)\n",
      "Requirement already satisfied: pybars4<0.10.0,>=0.9.13 in /Users/lokinfey/conda/envs/pydev/lib/python3.10/site-packages (from semantic-kernel) (0.9.13)\n",
      "Requirement already satisfied: pydantic<3,>=2 in /Users/lokinfey/conda/envs/pydev/lib/python3.10/site-packages (from semantic-kernel) (2.5.2)\n",
      "Requirement already satisfied: python-dotenv<2.0.0,>=1.0.1 in /Users/lokinfey/conda/envs/pydev/lib/python3.10/site-packages (from semantic-kernel) (1.0.1)\n",
      "Requirement already satisfied: regex<2024.0.0,>=2023.6.3 in /Users/lokinfey/conda/envs/pydev/lib/python3.10/site-packages (from semantic-kernel) (2023.8.8)\n",
      "Requirement already satisfied: scipy>=1.5.0 in /Users/lokinfey/conda/envs/pydev/lib/python3.10/site-packages (from semantic-kernel) (1.11.3)\n",
      "Requirement already satisfied: attrs>=17.3.0 in /Users/lokinfey/conda/envs/pydev/lib/python3.10/site-packages (from aiohttp<4.0,>=3.8->semantic-kernel) (23.1.0)\n",
      "Requirement already satisfied: charset-normalizer<4.0,>=2.0 in /Users/lokinfey/conda/envs/pydev/lib/python3.10/site-packages (from aiohttp<4.0,>=3.8->semantic-kernel) (3.3.0)\n",
      "Requirement already satisfied: multidict<7.0,>=4.5 in /Users/lokinfey/conda/envs/pydev/lib/python3.10/site-packages (from aiohttp<4.0,>=3.8->semantic-kernel) (6.0.4)\n",
      "Requirement already satisfied: async-timeout<5.0,>=4.0.0a3 in /Users/lokinfey/conda/envs/pydev/lib/python3.10/site-packages (from aiohttp<4.0,>=3.8->semantic-kernel) (4.0.3)\n",
      "Requirement already satisfied: yarl<2.0,>=1.0 in /Users/lokinfey/conda/envs/pydev/lib/python3.10/site-packages (from aiohttp<4.0,>=3.8->semantic-kernel) (1.9.2)\n",
      "Requirement already satisfied: frozenlist>=1.1.1 in /Users/lokinfey/conda/envs/pydev/lib/python3.10/site-packages (from aiohttp<4.0,>=3.8->semantic-kernel) (1.4.0)\n",
      "Requirement already satisfied: aiosignal>=1.1.2 in /Users/lokinfey/conda/envs/pydev/lib/python3.10/site-packages (from aiohttp<4.0,>=3.8->semantic-kernel) (1.3.1)\n",
      "Requirement already satisfied: MarkupSafe>=2.0 in /Users/lokinfey/conda/envs/pydev/lib/python3.10/site-packages (from jinja2<4.0.0,>=3.1.3->semantic-kernel) (2.1.3)\n",
      "Requirement already satisfied: pymongo<5,>=4.5 in /Users/lokinfey/conda/envs/pydev/lib/python3.10/site-packages (from motor<4.0.0,>=3.3.2->semantic-kernel) (4.6.1)\n",
      "Requirement already satisfied: anyio<5,>=3.5.0 in /Users/lokinfey/conda/envs/pydev/lib/python3.10/site-packages (from openai>=1.0->semantic-kernel) (4.0.0)\n",
      "Requirement already satisfied: distro<2,>=1.7.0 in /Users/lokinfey/conda/envs/pydev/lib/python3.10/site-packages (from openai>=1.0->semantic-kernel) (1.8.0)\n",
      "Requirement already satisfied: httpx<1,>=0.23.0 in /Users/lokinfey/conda/envs/pydev/lib/python3.10/site-packages (from openai>=1.0->semantic-kernel) (0.25.2)\n",
      "Requirement already satisfied: sniffio in /Users/lokinfey/conda/envs/pydev/lib/python3.10/site-packages (from openai>=1.0->semantic-kernel) (1.3.0)\n",
      "Requirement already satisfied: tqdm>4 in /Users/lokinfey/conda/envs/pydev/lib/python3.10/site-packages (from openai>=1.0->semantic-kernel) (4.66.1)\n",
      "Requirement already satisfied: typing-extensions<5,>=4.5 in /Users/lokinfey/conda/envs/pydev/lib/python3.10/site-packages (from openai>=1.0->semantic-kernel) (4.8.0)\n",
      "Requirement already satisfied: asgiref<4.0.0,>=3.6.0 in /Users/lokinfey/conda/envs/pydev/lib/python3.10/site-packages (from openapi_core<0.20,>=0.18->semantic-kernel) (3.7.2)\n",
      "Requirement already satisfied: isodate in /Users/lokinfey/conda/envs/pydev/lib/python3.10/site-packages (from openapi_core<0.20,>=0.18->semantic-kernel) (0.6.1)\n",
      "Requirement already satisfied: jsonschema<5.0.0,>=4.18.0 in /Users/lokinfey/conda/envs/pydev/lib/python3.10/site-packages (from openapi_core<0.20,>=0.18->semantic-kernel) (4.19.1)\n",
      "Requirement already satisfied: jsonschema-spec<0.3.0,>=0.2.3 in /Users/lokinfey/conda/envs/pydev/lib/python3.10/site-packages (from openapi_core<0.20,>=0.18->semantic-kernel) (0.2.4)\n",
      "Requirement already satisfied: more-itertools in /Users/lokinfey/conda/envs/pydev/lib/python3.10/site-packages (from openapi_core<0.20,>=0.18->semantic-kernel) (10.1.0)\n",
      "Requirement already satisfied: openapi-schema-validator<0.7.0,>=0.6.0 in /Users/lokinfey/conda/envs/pydev/lib/python3.10/site-packages (from openapi_core<0.20,>=0.18->semantic-kernel) (0.6.1)\n",
      "Requirement already satisfied: openapi-spec-validator<0.7.0,>=0.6.0 in /Users/lokinfey/conda/envs/pydev/lib/python3.10/site-packages (from openapi_core<0.20,>=0.18->semantic-kernel) (0.6.0)\n",
      "Requirement already satisfied: parse in /Users/lokinfey/conda/envs/pydev/lib/python3.10/site-packages (from openapi_core<0.20,>=0.18->semantic-kernel) (1.19.1)\n",
      "Requirement already satisfied: werkzeug in /Users/lokinfey/conda/envs/pydev/lib/python3.10/site-packages (from openapi_core<0.20,>=0.18->semantic-kernel) (3.0.0)\n",
      "Requirement already satisfied: chardet>=3.0 in /Users/lokinfey/conda/envs/pydev/lib/python3.10/site-packages (from prance<24.0.0.0,>=23.6.21.0->semantic-kernel) (5.2.0)\n",
      "Requirement already satisfied: ruamel.yaml>=0.17.10 in /Users/lokinfey/conda/envs/pydev/lib/python3.10/site-packages (from prance<24.0.0.0,>=23.6.21.0->semantic-kernel) (0.17.35)\n",
      "Requirement already satisfied: requests>=2.25 in /Users/lokinfey/conda/envs/pydev/lib/python3.10/site-packages (from prance<24.0.0.0,>=23.6.21.0->semantic-kernel) (2.31.0)\n",
      "Requirement already satisfied: six~=1.15 in /Users/lokinfey/conda/envs/pydev/lib/python3.10/site-packages (from prance<24.0.0.0,>=23.6.21.0->semantic-kernel) (1.16.0)\n",
      "Requirement already satisfied: packaging>=21.3 in /Users/lokinfey/conda/envs/pydev/lib/python3.10/site-packages (from prance<24.0.0.0,>=23.6.21.0->semantic-kernel) (23.1)\n",
      "Requirement already satisfied: PyMeta3>=0.5.1 in /Users/lokinfey/conda/envs/pydev/lib/python3.10/site-packages (from pybars4<0.10.0,>=0.9.13->semantic-kernel) (0.5.1)\n",
      "Requirement already satisfied: annotated-types>=0.4.0 in /Users/lokinfey/conda/envs/pydev/lib/python3.10/site-packages (from pydantic<3,>=2->semantic-kernel) (0.6.0)\n",
      "Requirement already satisfied: pydantic-core==2.14.5 in /Users/lokinfey/conda/envs/pydev/lib/python3.10/site-packages (from pydantic<3,>=2->semantic-kernel) (2.14.5)\n",
      "Requirement already satisfied: idna>=2.8 in /Users/lokinfey/conda/envs/pydev/lib/python3.10/site-packages (from anyio<5,>=3.5.0->openai>=1.0->semantic-kernel) (3.4)\n",
      "Requirement already satisfied: exceptiongroup>=1.0.2 in /Users/lokinfey/conda/envs/pydev/lib/python3.10/site-packages (from anyio<5,>=3.5.0->openai>=1.0->semantic-kernel) (1.1.3)\n",
      "Requirement already satisfied: certifi in /Users/lokinfey/conda/envs/pydev/lib/python3.10/site-packages (from httpx<1,>=0.23.0->openai>=1.0->semantic-kernel) (2023.7.22)\n",
      "Requirement already satisfied: httpcore==1.* in /Users/lokinfey/conda/envs/pydev/lib/python3.10/site-packages (from httpx<1,>=0.23.0->openai>=1.0->semantic-kernel) (1.0.2)\n",
      "Requirement already satisfied: h11<0.15,>=0.13 in /Users/lokinfey/conda/envs/pydev/lib/python3.10/site-packages (from httpcore==1.*->httpx<1,>=0.23.0->openai>=1.0->semantic-kernel) (0.14.0)\n",
      "Requirement already satisfied: jsonschema-specifications>=2023.03.6 in /Users/lokinfey/conda/envs/pydev/lib/python3.10/site-packages (from jsonschema<5.0.0,>=4.18.0->openapi_core<0.20,>=0.18->semantic-kernel) (2023.7.1)\n",
      "Requirement already satisfied: referencing>=0.28.4 in /Users/lokinfey/conda/envs/pydev/lib/python3.10/site-packages (from jsonschema<5.0.0,>=4.18.0->openapi_core<0.20,>=0.18->semantic-kernel) (0.30.2)\n",
      "Requirement already satisfied: rpds-py>=0.7.1 in /Users/lokinfey/conda/envs/pydev/lib/python3.10/site-packages (from jsonschema<5.0.0,>=4.18.0->openapi_core<0.20,>=0.18->semantic-kernel) (0.10.3)\n",
      "Requirement already satisfied: PyYAML>=5.1 in /Users/lokinfey/conda/envs/pydev/lib/python3.10/site-packages (from jsonschema-spec<0.3.0,>=0.2.3->openapi_core<0.20,>=0.18->semantic-kernel) (6.0.1)\n",
      "Requirement already satisfied: pathable<0.5.0,>=0.4.1 in /Users/lokinfey/conda/envs/pydev/lib/python3.10/site-packages (from jsonschema-spec<0.3.0,>=0.2.3->openapi_core<0.20,>=0.18->semantic-kernel) (0.4.3)\n",
      "Requirement already satisfied: rfc3339-validator in /Users/lokinfey/conda/envs/pydev/lib/python3.10/site-packages (from openapi-schema-validator<0.7.0,>=0.6.0->openapi_core<0.20,>=0.18->semantic-kernel) (0.1.4)\n",
      "Requirement already satisfied: lazy-object-proxy<2.0.0,>=1.7.1 in /Users/lokinfey/conda/envs/pydev/lib/python3.10/site-packages (from openapi-spec-validator<0.7.0,>=0.6.0->openapi_core<0.20,>=0.18->semantic-kernel) (1.9.0)\n",
      "Requirement already satisfied: dnspython<3.0.0,>=1.16.0 in /Users/lokinfey/conda/envs/pydev/lib/python3.10/site-packages (from pymongo<5,>=4.5->motor<4.0.0,>=3.3.2->semantic-kernel) (2.4.2)\n",
      "Requirement already satisfied: urllib3<3,>=1.21.1 in /Users/lokinfey/conda/envs/pydev/lib/python3.10/site-packages (from requests>=2.25->prance<24.0.0.0,>=23.6.21.0->semantic-kernel) (2.0.5)\n",
      "Requirement already satisfied: ruamel.yaml.clib>=0.2.7 in /Users/lokinfey/conda/envs/pydev/lib/python3.10/site-packages (from ruamel.yaml>=0.17.10->prance<24.0.0.0,>=23.6.21.0->semantic-kernel) (0.2.8)\n",
      "Collecting qdrant_client\n",
      "  Obtaining dependency information for qdrant_client from https://files.pythonhosted.org/packages/cf/07/b5ad4d11ed64e61aec3f7ab13a5f372b845e0d40363c0da67091c0552b40/qdrant_client-1.8.2-py3-none-any.whl.metadata\n",
      "  Downloading qdrant_client-1.8.2-py3-none-any.whl.metadata (9.5 kB)\n",
      "Requirement already satisfied: grpcio>=1.41.0 in /Users/lokinfey/conda/envs/pydev/lib/python3.10/site-packages (from qdrant_client) (1.62.1)\n",
      "Collecting grpcio-tools>=1.41.0 (from qdrant_client)\n",
      "  Obtaining dependency information for grpcio-tools>=1.41.0 from https://files.pythonhosted.org/packages/96/fa/099067af43926b658da01665d6a7cb98f2abd51b6504f9238fa645031d4b/grpcio_tools-1.62.1-cp310-cp310-macosx_12_0_universal2.whl.metadata\n",
      "  Downloading grpcio_tools-1.62.1-cp310-cp310-macosx_12_0_universal2.whl.metadata (6.2 kB)\n",
      "Requirement already satisfied: httpx[http2]>=0.20.0 in /Users/lokinfey/conda/envs/pydev/lib/python3.10/site-packages (from qdrant_client) (0.25.2)\n",
      "Requirement already satisfied: numpy>=1.21 in /Users/lokinfey/conda/envs/pydev/lib/python3.10/site-packages (from qdrant_client) (1.26.0)\n",
      "Requirement already satisfied: portalocker<3.0.0,>=2.7.0 in /Users/lokinfey/conda/envs/pydev/lib/python3.10/site-packages (from qdrant_client) (2.8.2)\n",
      "Requirement already satisfied: pydantic>=1.10.8 in /Users/lokinfey/conda/envs/pydev/lib/python3.10/site-packages (from qdrant_client) (2.5.2)\n",
      "Requirement already satisfied: urllib3<3,>=1.26.14 in /Users/lokinfey/conda/envs/pydev/lib/python3.10/site-packages (from qdrant_client) (2.0.5)\n",
      "Requirement already satisfied: protobuf<5.0dev,>=4.21.6 in /Users/lokinfey/conda/envs/pydev/lib/python3.10/site-packages (from grpcio-tools>=1.41.0->qdrant_client) (4.24.3)\n",
      "Requirement already satisfied: setuptools in /Users/lokinfey/conda/envs/pydev/lib/python3.10/site-packages (from grpcio-tools>=1.41.0->qdrant_client) (68.2.2)\n",
      "Requirement already satisfied: anyio in /Users/lokinfey/conda/envs/pydev/lib/python3.10/site-packages (from httpx[http2]>=0.20.0->qdrant_client) (4.0.0)\n",
      "Requirement already satisfied: certifi in /Users/lokinfey/conda/envs/pydev/lib/python3.10/site-packages (from httpx[http2]>=0.20.0->qdrant_client) (2023.7.22)\n",
      "Requirement already satisfied: httpcore==1.* in /Users/lokinfey/conda/envs/pydev/lib/python3.10/site-packages (from httpx[http2]>=0.20.0->qdrant_client) (1.0.2)\n",
      "Requirement already satisfied: idna in /Users/lokinfey/conda/envs/pydev/lib/python3.10/site-packages (from httpx[http2]>=0.20.0->qdrant_client) (3.4)\n",
      "Requirement already satisfied: sniffio in /Users/lokinfey/conda/envs/pydev/lib/python3.10/site-packages (from httpx[http2]>=0.20.0->qdrant_client) (1.3.0)\n",
      "Collecting h2<5,>=3 (from httpx[http2]>=0.20.0->qdrant_client)\n",
      "  Obtaining dependency information for h2<5,>=3 from https://files.pythonhosted.org/packages/2a/e5/db6d438da759efbb488c4f3fbdab7764492ff3c3f953132efa6b9f0e9e53/h2-4.1.0-py3-none-any.whl.metadata\n",
      "  Downloading h2-4.1.0-py3-none-any.whl.metadata (3.6 kB)\n",
      "Requirement already satisfied: h11<0.15,>=0.13 in /Users/lokinfey/conda/envs/pydev/lib/python3.10/site-packages (from httpcore==1.*->httpx[http2]>=0.20.0->qdrant_client) (0.14.0)\n",
      "Requirement already satisfied: annotated-types>=0.4.0 in /Users/lokinfey/conda/envs/pydev/lib/python3.10/site-packages (from pydantic>=1.10.8->qdrant_client) (0.6.0)\n",
      "Requirement already satisfied: pydantic-core==2.14.5 in /Users/lokinfey/conda/envs/pydev/lib/python3.10/site-packages (from pydantic>=1.10.8->qdrant_client) (2.14.5)\n",
      "Requirement already satisfied: typing-extensions>=4.6.1 in /Users/lokinfey/conda/envs/pydev/lib/python3.10/site-packages (from pydantic>=1.10.8->qdrant_client) (4.8.0)\n",
      "Collecting hyperframe<7,>=6.0 (from h2<5,>=3->httpx[http2]>=0.20.0->qdrant_client)\n",
      "  Obtaining dependency information for hyperframe<7,>=6.0 from https://files.pythonhosted.org/packages/d7/de/85a784bcc4a3779d1753a7ec2dee5de90e18c7bcf402e71b51fcf150b129/hyperframe-6.0.1-py3-none-any.whl.metadata\n",
      "  Downloading hyperframe-6.0.1-py3-none-any.whl.metadata (2.7 kB)\n",
      "Collecting hpack<5,>=4.0 (from h2<5,>=3->httpx[http2]>=0.20.0->qdrant_client)\n",
      "  Obtaining dependency information for hpack<5,>=4.0 from https://files.pythonhosted.org/packages/d5/34/e8b383f35b77c402d28563d2b8f83159319b509bc5f760b15d60b0abf165/hpack-4.0.0-py3-none-any.whl.metadata\n",
      "  Downloading hpack-4.0.0-py3-none-any.whl.metadata (2.5 kB)\n",
      "Requirement already satisfied: exceptiongroup>=1.0.2 in /Users/lokinfey/conda/envs/pydev/lib/python3.10/site-packages (from anyio->httpx[http2]>=0.20.0->qdrant_client) (1.1.3)\n",
      "Downloading qdrant_client-1.8.2-py3-none-any.whl (223 kB)\n",
      "\u001b[2K   \u001b[90m━━━━━━━━━━━━━━━━━━━━━━━━━━━━━━━━━━━━━━━\u001b[0m \u001b[32m223.2/223.2 kB\u001b[0m \u001b[31m716.5 kB/s\u001b[0m eta \u001b[36m0:00:00\u001b[0ma \u001b[36m0:00:01\u001b[0m\n",
      "\u001b[?25hDownloading grpcio_tools-1.62.1-cp310-cp310-macosx_12_0_universal2.whl (5.1 MB)\n",
      "\u001b[2K   \u001b[90m━━━━━━━━━━━━━━━━━━━━━━━━━━━━━━━━━━━━━━━━\u001b[0m \u001b[32m5.1/5.1 MB\u001b[0m \u001b[31m1.1 MB/s\u001b[0m eta \u001b[36m0:00:00\u001b[0m00:01\u001b[0m00:01\u001b[0m0m\n",
      "\u001b[?25hDownloading h2-4.1.0-py3-none-any.whl (57 kB)\n",
      "\u001b[2K   \u001b[90m━━━━━━━━━━━━━━━━━━━━━━━━━━━━━━━━━━━━━━━━\u001b[0m \u001b[32m57.5/57.5 kB\u001b[0m \u001b[31m2.4 MB/s\u001b[0m eta \u001b[36m0:00:00\u001b[0m\n",
      "\u001b[?25hDownloading hpack-4.0.0-py3-none-any.whl (32 kB)\n",
      "Downloading hyperframe-6.0.1-py3-none-any.whl (12 kB)\n",
      "Installing collected packages: hyperframe, hpack, grpcio-tools, h2, qdrant_client\n",
      "Successfully installed grpcio-tools-1.62.1 h2-4.1.0 hpack-4.0.0 hyperframe-6.0.1 qdrant_client-1.8.2\n"
     ]
    }
   ],
   "source": [
    "! pip install semantic-kernel -U\n",
    "! pip install qdrant_client -U"
   ]
  },
  {
   "cell_type": "code",
   "execution_count": 2,
   "metadata": {},
   "outputs": [],
   "source": [
    "import semantic_kernel as sk\n",
    "import semantic_kernel.connectors.ai.open_ai as skaoai\n",
    "from semantic_kernel.connectors.ai.open_ai import AzureChatCompletion, AzureTextEmbedding\n",
    "from semantic_kernel.connectors.memory.qdrant import QdrantMemoryStore\n",
    "from semantic_kernel.memory.semantic_text_memory import SemanticTextMemory"
   ]
  },
  {
   "cell_type": "code",
   "execution_count": 3,
   "metadata": {},
   "outputs": [],
   "source": [
    "deployment, api_key, endpoint = sk.azure_openai_settings_from_dot_env()"
   ]
  },
  {
   "cell_type": "code",
   "execution_count": 4,
   "metadata": {},
   "outputs": [],
   "source": [
    "kernel = sk.Kernel()"
   ]
  },
  {
   "cell_type": "code",
   "execution_count": 5,
   "metadata": {},
   "outputs": [],
   "source": [
    "chat_service = skaoai.AzureChatCompletion(\"Your Azure OpenAI Service gpt-35-turbo-16k Model Delployment Name\",endpoint,api_key=api_key,api_version = \"2023-12-01-preview\")\n",
    "embedding_gen = skaoai.AzureTextEmbedding(\"Your Azure OpenAI Service text-embedding-ada-002 Model Delployment Name\", endpoint,api_key=api_key,api_version = \"2023-12-01-preview\")"
   ]
  },
  {
   "cell_type": "code",
   "execution_count": 6,
   "metadata": {},
   "outputs": [],
   "source": [
    "\n",
    "kernel.add_service(chat_service)\n",
    "\n",
    "kernel.add_service(embedding_gen)"
   ]
  },
  {
   "cell_type": "code",
   "execution_count": 7,
   "metadata": {},
   "outputs": [],
   "source": [
    "qdrant_store = QdrantMemoryStore(vector_size=1536, url=\"http://localhost\",port=6333)\n",
    "await qdrant_store.create_collection('aboutMe')"
   ]
  },
  {
   "cell_type": "code",
   "execution_count": 8,
   "metadata": {},
   "outputs": [],
   "source": [
    "# kernel.register_memory_store(memory_store=qdrant_store)\n",
    "memory = SemanticTextMemory(storage=qdrant_store, embeddings_generator=embedding_gen)"
   ]
  },
  {
   "cell_type": "code",
   "execution_count": 9,
   "metadata": {},
   "outputs": [],
   "source": [
    "base_vectordb = 'aboutMe'"
   ]
  },
  {
   "cell_type": "code",
   "execution_count": 10,
   "metadata": {},
   "outputs": [],
   "source": [
    "await memory.save_information(base_vectordb, id=\"info1\", text=\"Kinfey is Microsoft Cloud Advocate\")\n",
    "await memory.save_information(base_vectordb, id=\"info2\", text=\"Kinfey is ex-Microsoft MVP\")\n",
    "await memory.save_information(base_vectordb, id=\"info3\", text=\"Kinfei is AI Expert\")\n",
    "await memory.save_information(base_vectordb, id=\"info4\", text=\"OpenAI is a company that is developing artificial general intelligence (AGI) with widely distributed economic benefits.\")"
   ]
  },
  {
   "cell_type": "code",
   "execution_count": 11,
   "metadata": {},
   "outputs": [],
   "source": [
    "ask = \"who is kinfey？\"\n",
    "\n",
    "memories = await memory.search(\n",
    "    base_vectordb, ask, limit=5, min_relevance_score=0.8\n",
    ")"
   ]
  },
  {
   "cell_type": "code",
   "execution_count": 12,
   "metadata": {},
   "outputs": [
    {
     "name": "stdout",
     "output_type": "stream",
     "text": [
      "Top 1 Result: Kinfey is ex-Microsoft MVP with score 0.86921084\n",
      "Top 2 Result: Kinfey is Microsoft Cloud Advocate with score 0.8400177\n",
      "Top 3 Result: Kinfei is AI Expert with score 0.8256959\n"
     ]
    }
   ],
   "source": [
    "i = 0\n",
    "for memory in memories:\n",
    "    i = i + 1\n",
    "    print(f\"Top {i} Result: {memory.text} with score {memory.relevance}\")"
   ]
  }
 ],
 "metadata": {
  "kernelspec": {
   "display_name": "pydev",
   "language": "python",
   "name": "python3"
  },
  "language_info": {
   "codemirror_mode": {
    "name": "ipython",
    "version": 3
   },
   "file_extension": ".py",
   "mimetype": "text/x-python",
   "name": "python",
   "nbconvert_exporter": "python",
   "pygments_lexer": "ipython3",
   "version": "3.10.12"
  }
 },
 "nbformat": 4,
 "nbformat_minor": 2
}
