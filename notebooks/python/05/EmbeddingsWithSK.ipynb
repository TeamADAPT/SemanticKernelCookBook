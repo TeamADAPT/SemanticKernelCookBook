{
 "cells": [
  {
   "cell_type": "code",
   "execution_count": 1,
   "metadata": {},
   "outputs": [
    {
     "name": "stdout",
     "output_type": "stream",
     "text": [
      "Requirement already satisfied: semantic-kernel in /Users/lokinfey/conda/envs/skdev/lib/python3.10/site-packages (0.9.1b1)\n",
      "Requirement already satisfied: aiofiles<24.0.0,>=23.1.0 in /Users/lokinfey/conda/envs/skdev/lib/python3.10/site-packages (from semantic-kernel) (23.2.1)\n",
      "Requirement already satisfied: aiohttp<4.0,>=3.8 in /Users/lokinfey/conda/envs/skdev/lib/python3.10/site-packages (from semantic-kernel) (3.9.3)\n",
      "Requirement already satisfied: defusedxml<0.8.0,>=0.7.1 in /Users/lokinfey/conda/envs/skdev/lib/python3.10/site-packages (from semantic-kernel) (0.7.1)\n",
      "Requirement already satisfied: motor<4.0.0,>=3.3.2 in /Users/lokinfey/conda/envs/skdev/lib/python3.10/site-packages (from semantic-kernel) (3.3.2)\n",
      "Requirement already satisfied: numpy<2.0.0,>=1.24.2 in /Users/lokinfey/conda/envs/skdev/lib/python3.10/site-packages (from semantic-kernel) (1.26.4)\n",
      "Requirement already satisfied: openai>=1.0 in /Users/lokinfey/conda/envs/skdev/lib/python3.10/site-packages (from semantic-kernel) (1.12.0)\n",
      "Requirement already satisfied: openapi_core<0.19.0,>=0.18.0 in /Users/lokinfey/conda/envs/skdev/lib/python3.10/site-packages (from semantic-kernel) (0.18.2)\n",
      "Requirement already satisfied: prance<24.0.0.0,>=23.6.21.0 in /Users/lokinfey/conda/envs/skdev/lib/python3.10/site-packages (from semantic-kernel) (23.6.21.0)\n",
      "Requirement already satisfied: pydantic>2 in /Users/lokinfey/conda/envs/skdev/lib/python3.10/site-packages (from semantic-kernel) (2.6.1)\n",
      "Requirement already satisfied: python-dotenv==1.0.1 in /Users/lokinfey/conda/envs/skdev/lib/python3.10/site-packages (from semantic-kernel) (1.0.1)\n",
      "Requirement already satisfied: regex<2024.0.0,>=2023.6.3 in /Users/lokinfey/conda/envs/skdev/lib/python3.10/site-packages (from semantic-kernel) (2023.12.25)\n",
      "Requirement already satisfied: aiosignal>=1.1.2 in /Users/lokinfey/conda/envs/skdev/lib/python3.10/site-packages (from aiohttp<4.0,>=3.8->semantic-kernel) (1.3.1)\n",
      "Requirement already satisfied: attrs>=17.3.0 in /Users/lokinfey/conda/envs/skdev/lib/python3.10/site-packages (from aiohttp<4.0,>=3.8->semantic-kernel) (23.2.0)\n",
      "Requirement already satisfied: frozenlist>=1.1.1 in /Users/lokinfey/conda/envs/skdev/lib/python3.10/site-packages (from aiohttp<4.0,>=3.8->semantic-kernel) (1.4.1)\n",
      "Requirement already satisfied: multidict<7.0,>=4.5 in /Users/lokinfey/conda/envs/skdev/lib/python3.10/site-packages (from aiohttp<4.0,>=3.8->semantic-kernel) (6.0.5)\n",
      "Requirement already satisfied: yarl<2.0,>=1.0 in /Users/lokinfey/conda/envs/skdev/lib/python3.10/site-packages (from aiohttp<4.0,>=3.8->semantic-kernel) (1.9.4)\n",
      "Requirement already satisfied: async-timeout<5.0,>=4.0 in /Users/lokinfey/conda/envs/skdev/lib/python3.10/site-packages (from aiohttp<4.0,>=3.8->semantic-kernel) (4.0.3)\n",
      "Requirement already satisfied: pymongo<5,>=4.5 in /Users/lokinfey/conda/envs/skdev/lib/python3.10/site-packages (from motor<4.0.0,>=3.3.2->semantic-kernel) (4.6.1)\n",
      "Requirement already satisfied: anyio<5,>=3.5.0 in /Users/lokinfey/conda/envs/skdev/lib/python3.10/site-packages (from openai>=1.0->semantic-kernel) (4.2.0)\n",
      "Requirement already satisfied: distro<2,>=1.7.0 in /Users/lokinfey/conda/envs/skdev/lib/python3.10/site-packages (from openai>=1.0->semantic-kernel) (1.9.0)\n",
      "Requirement already satisfied: httpx<1,>=0.23.0 in /Users/lokinfey/conda/envs/skdev/lib/python3.10/site-packages (from openai>=1.0->semantic-kernel) (0.26.0)\n",
      "Requirement already satisfied: sniffio in /Users/lokinfey/conda/envs/skdev/lib/python3.10/site-packages (from openai>=1.0->semantic-kernel) (1.3.0)\n",
      "Requirement already satisfied: tqdm>4 in /Users/lokinfey/conda/envs/skdev/lib/python3.10/site-packages (from openai>=1.0->semantic-kernel) (4.66.2)\n",
      "Requirement already satisfied: typing-extensions<5,>=4.7 in /Users/lokinfey/conda/envs/skdev/lib/python3.10/site-packages (from openai>=1.0->semantic-kernel) (4.9.0)\n",
      "Requirement already satisfied: asgiref<4.0.0,>=3.6.0 in /Users/lokinfey/conda/envs/skdev/lib/python3.10/site-packages (from openapi_core<0.19.0,>=0.18.0->semantic-kernel) (3.7.2)\n",
      "Requirement already satisfied: isodate in /Users/lokinfey/conda/envs/skdev/lib/python3.10/site-packages (from openapi_core<0.19.0,>=0.18.0->semantic-kernel) (0.6.1)\n",
      "Requirement already satisfied: jsonschema<5.0.0,>=4.18.0 in /Users/lokinfey/conda/envs/skdev/lib/python3.10/site-packages (from openapi_core<0.19.0,>=0.18.0->semantic-kernel) (4.21.1)\n",
      "Requirement already satisfied: jsonschema-spec<0.3.0,>=0.2.3 in /Users/lokinfey/conda/envs/skdev/lib/python3.10/site-packages (from openapi_core<0.19.0,>=0.18.0->semantic-kernel) (0.2.4)\n",
      "Requirement already satisfied: more-itertools in /Users/lokinfey/conda/envs/skdev/lib/python3.10/site-packages (from openapi_core<0.19.0,>=0.18.0->semantic-kernel) (10.2.0)\n",
      "Requirement already satisfied: openapi-schema-validator<0.7.0,>=0.6.0 in /Users/lokinfey/conda/envs/skdev/lib/python3.10/site-packages (from openapi_core<0.19.0,>=0.18.0->semantic-kernel) (0.6.2)\n",
      "Requirement already satisfied: openapi-spec-validator<0.8.0,>=0.7.1 in /Users/lokinfey/conda/envs/skdev/lib/python3.10/site-packages (from openapi_core<0.19.0,>=0.18.0->semantic-kernel) (0.7.1)\n",
      "Requirement already satisfied: parse in /Users/lokinfey/conda/envs/skdev/lib/python3.10/site-packages (from openapi_core<0.19.0,>=0.18.0->semantic-kernel) (1.20.1)\n",
      "Requirement already satisfied: werkzeug in /Users/lokinfey/conda/envs/skdev/lib/python3.10/site-packages (from openapi_core<0.19.0,>=0.18.0->semantic-kernel) (3.0.1)\n",
      "Requirement already satisfied: chardet>=3.0 in /Users/lokinfey/conda/envs/skdev/lib/python3.10/site-packages (from prance<24.0.0.0,>=23.6.21.0->semantic-kernel) (5.2.0)\n",
      "Requirement already satisfied: ruamel.yaml>=0.17.10 in /Users/lokinfey/conda/envs/skdev/lib/python3.10/site-packages (from prance<24.0.0.0,>=23.6.21.0->semantic-kernel) (0.18.6)\n",
      "Requirement already satisfied: requests>=2.25 in /Users/lokinfey/conda/envs/skdev/lib/python3.10/site-packages (from prance<24.0.0.0,>=23.6.21.0->semantic-kernel) (2.31.0)\n",
      "Requirement already satisfied: six~=1.15 in /Users/lokinfey/conda/envs/skdev/lib/python3.10/site-packages (from prance<24.0.0.0,>=23.6.21.0->semantic-kernel) (1.16.0)\n",
      "Requirement already satisfied: packaging>=21.3 in /Users/lokinfey/conda/envs/skdev/lib/python3.10/site-packages (from prance<24.0.0.0,>=23.6.21.0->semantic-kernel) (23.2)\n",
      "Requirement already satisfied: annotated-types>=0.4.0 in /Users/lokinfey/conda/envs/skdev/lib/python3.10/site-packages (from pydantic>2->semantic-kernel) (0.6.0)\n",
      "Requirement already satisfied: pydantic-core==2.16.2 in /Users/lokinfey/conda/envs/skdev/lib/python3.10/site-packages (from pydantic>2->semantic-kernel) (2.16.2)\n",
      "Requirement already satisfied: idna>=2.8 in /Users/lokinfey/conda/envs/skdev/lib/python3.10/site-packages (from anyio<5,>=3.5.0->openai>=1.0->semantic-kernel) (3.6)\n",
      "Requirement already satisfied: exceptiongroup>=1.0.2 in /Users/lokinfey/conda/envs/skdev/lib/python3.10/site-packages (from anyio<5,>=3.5.0->openai>=1.0->semantic-kernel) (1.2.0)\n",
      "Requirement already satisfied: certifi in /Users/lokinfey/conda/envs/skdev/lib/python3.10/site-packages (from httpx<1,>=0.23.0->openai>=1.0->semantic-kernel) (2024.2.2)\n",
      "Requirement already satisfied: httpcore==1.* in /Users/lokinfey/conda/envs/skdev/lib/python3.10/site-packages (from httpx<1,>=0.23.0->openai>=1.0->semantic-kernel) (1.0.2)\n",
      "Requirement already satisfied: h11<0.15,>=0.13 in /Users/lokinfey/conda/envs/skdev/lib/python3.10/site-packages (from httpcore==1.*->httpx<1,>=0.23.0->openai>=1.0->semantic-kernel) (0.14.0)\n",
      "Requirement already satisfied: jsonschema-specifications>=2023.03.6 in /Users/lokinfey/conda/envs/skdev/lib/python3.10/site-packages (from jsonschema<5.0.0,>=4.18.0->openapi_core<0.19.0,>=0.18.0->semantic-kernel) (2023.7.1)\n",
      "Requirement already satisfied: referencing>=0.28.4 in /Users/lokinfey/conda/envs/skdev/lib/python3.10/site-packages (from jsonschema<5.0.0,>=4.18.0->openapi_core<0.19.0,>=0.18.0->semantic-kernel) (0.30.2)\n",
      "Requirement already satisfied: rpds-py>=0.7.1 in /Users/lokinfey/conda/envs/skdev/lib/python3.10/site-packages (from jsonschema<5.0.0,>=4.18.0->openapi_core<0.19.0,>=0.18.0->semantic-kernel) (0.18.0)\n",
      "Requirement already satisfied: PyYAML>=5.1 in /Users/lokinfey/conda/envs/skdev/lib/python3.10/site-packages (from jsonschema-spec<0.3.0,>=0.2.3->openapi_core<0.19.0,>=0.18.0->semantic-kernel) (6.0.1)\n",
      "Requirement already satisfied: pathable<0.5.0,>=0.4.1 in /Users/lokinfey/conda/envs/skdev/lib/python3.10/site-packages (from jsonschema-spec<0.3.0,>=0.2.3->openapi_core<0.19.0,>=0.18.0->semantic-kernel) (0.4.3)\n",
      "Requirement already satisfied: rfc3339-validator in /Users/lokinfey/conda/envs/skdev/lib/python3.10/site-packages (from openapi-schema-validator<0.7.0,>=0.6.0->openapi_core<0.19.0,>=0.18.0->semantic-kernel) (0.1.4)\n",
      "Requirement already satisfied: jsonschema-path<0.4.0,>=0.3.1 in /Users/lokinfey/conda/envs/skdev/lib/python3.10/site-packages (from openapi-spec-validator<0.8.0,>=0.7.1->openapi_core<0.19.0,>=0.18.0->semantic-kernel) (0.3.2)\n",
      "Requirement already satisfied: lazy-object-proxy<2.0.0,>=1.7.1 in /Users/lokinfey/conda/envs/skdev/lib/python3.10/site-packages (from openapi-spec-validator<0.8.0,>=0.7.1->openapi_core<0.19.0,>=0.18.0->semantic-kernel) (1.10.0)\n",
      "Requirement already satisfied: dnspython<3.0.0,>=1.16.0 in /Users/lokinfey/conda/envs/skdev/lib/python3.10/site-packages (from pymongo<5,>=4.5->motor<4.0.0,>=3.3.2->semantic-kernel) (2.5.0)\n",
      "Requirement already satisfied: charset-normalizer<4,>=2 in /Users/lokinfey/conda/envs/skdev/lib/python3.10/site-packages (from requests>=2.25->prance<24.0.0.0,>=23.6.21.0->semantic-kernel) (3.3.2)\n",
      "Requirement already satisfied: urllib3<3,>=1.21.1 in /Users/lokinfey/conda/envs/skdev/lib/python3.10/site-packages (from requests>=2.25->prance<24.0.0.0,>=23.6.21.0->semantic-kernel) (2.2.0)\n",
      "Requirement already satisfied: ruamel.yaml.clib>=0.2.7 in /Users/lokinfey/conda/envs/skdev/lib/python3.10/site-packages (from ruamel.yaml>=0.17.10->prance<24.0.0.0,>=23.6.21.0->semantic-kernel) (0.2.8)\n",
      "Requirement already satisfied: MarkupSafe>=2.1.1 in /Users/lokinfey/conda/envs/skdev/lib/python3.10/site-packages (from werkzeug->openapi_core<0.19.0,>=0.18.0->semantic-kernel) (2.1.5)\n",
      "Requirement already satisfied: qdrant_client in /Users/lokinfey/conda/envs/skdev/lib/python3.10/site-packages (1.8.0)\n",
      "Requirement already satisfied: grpcio>=1.41.0 in /Users/lokinfey/conda/envs/skdev/lib/python3.10/site-packages (from qdrant_client) (1.60.1)\n",
      "Requirement already satisfied: grpcio-tools>=1.41.0 in /Users/lokinfey/conda/envs/skdev/lib/python3.10/site-packages (from qdrant_client) (1.60.1)\n",
      "Requirement already satisfied: httpx>=0.14.0 in /Users/lokinfey/conda/envs/skdev/lib/python3.10/site-packages (from httpx[http2]>=0.14.0->qdrant_client) (0.26.0)\n",
      "Requirement already satisfied: numpy>=1.21 in /Users/lokinfey/conda/envs/skdev/lib/python3.10/site-packages (from qdrant_client) (1.26.4)\n",
      "Requirement already satisfied: portalocker<3.0.0,>=2.7.0 in /Users/lokinfey/conda/envs/skdev/lib/python3.10/site-packages (from qdrant_client) (2.8.2)\n",
      "Requirement already satisfied: pydantic>=1.10.8 in /Users/lokinfey/conda/envs/skdev/lib/python3.10/site-packages (from qdrant_client) (2.6.1)\n",
      "Requirement already satisfied: urllib3<3,>=1.26.14 in /Users/lokinfey/conda/envs/skdev/lib/python3.10/site-packages (from qdrant_client) (2.2.0)\n",
      "Requirement already satisfied: protobuf<5.0dev,>=4.21.6 in /Users/lokinfey/conda/envs/skdev/lib/python3.10/site-packages (from grpcio-tools>=1.41.0->qdrant_client) (4.25.2)\n",
      "Requirement already satisfied: setuptools in /Users/lokinfey/conda/envs/skdev/lib/python3.10/site-packages (from grpcio-tools>=1.41.0->qdrant_client) (69.0.3)\n",
      "Requirement already satisfied: anyio in /Users/lokinfey/conda/envs/skdev/lib/python3.10/site-packages (from httpx>=0.14.0->httpx[http2]>=0.14.0->qdrant_client) (4.2.0)\n",
      "Requirement already satisfied: certifi in /Users/lokinfey/conda/envs/skdev/lib/python3.10/site-packages (from httpx>=0.14.0->httpx[http2]>=0.14.0->qdrant_client) (2024.2.2)\n",
      "Requirement already satisfied: httpcore==1.* in /Users/lokinfey/conda/envs/skdev/lib/python3.10/site-packages (from httpx>=0.14.0->httpx[http2]>=0.14.0->qdrant_client) (1.0.2)\n",
      "Requirement already satisfied: idna in /Users/lokinfey/conda/envs/skdev/lib/python3.10/site-packages (from httpx>=0.14.0->httpx[http2]>=0.14.0->qdrant_client) (3.6)\n",
      "Requirement already satisfied: sniffio in /Users/lokinfey/conda/envs/skdev/lib/python3.10/site-packages (from httpx>=0.14.0->httpx[http2]>=0.14.0->qdrant_client) (1.3.0)\n",
      "Requirement already satisfied: h11<0.15,>=0.13 in /Users/lokinfey/conda/envs/skdev/lib/python3.10/site-packages (from httpcore==1.*->httpx>=0.14.0->httpx[http2]>=0.14.0->qdrant_client) (0.14.0)\n",
      "Requirement already satisfied: h2<5,>=3 in /Users/lokinfey/conda/envs/skdev/lib/python3.10/site-packages (from httpx[http2]>=0.14.0->qdrant_client) (4.1.0)\n",
      "Requirement already satisfied: annotated-types>=0.4.0 in /Users/lokinfey/conda/envs/skdev/lib/python3.10/site-packages (from pydantic>=1.10.8->qdrant_client) (0.6.0)\n",
      "Requirement already satisfied: pydantic-core==2.16.2 in /Users/lokinfey/conda/envs/skdev/lib/python3.10/site-packages (from pydantic>=1.10.8->qdrant_client) (2.16.2)\n",
      "Requirement already satisfied: typing-extensions>=4.6.1 in /Users/lokinfey/conda/envs/skdev/lib/python3.10/site-packages (from pydantic>=1.10.8->qdrant_client) (4.9.0)\n",
      "Requirement already satisfied: hyperframe<7,>=6.0 in /Users/lokinfey/conda/envs/skdev/lib/python3.10/site-packages (from h2<5,>=3->httpx[http2]>=0.14.0->qdrant_client) (6.0.1)\n",
      "Requirement already satisfied: hpack<5,>=4.0 in /Users/lokinfey/conda/envs/skdev/lib/python3.10/site-packages (from h2<5,>=3->httpx[http2]>=0.14.0->qdrant_client) (4.0.0)\n",
      "Requirement already satisfied: exceptiongroup>=1.0.2 in /Users/lokinfey/conda/envs/skdev/lib/python3.10/site-packages (from anyio->httpx>=0.14.0->httpx[http2]>=0.14.0->qdrant_client) (1.2.0)\n"
     ]
    }
   ],
   "source": [
    "! pip install semantic-kernel -U\n",
    "! pip install qdrant_client -U"
   ]
  },
  {
   "cell_type": "code",
   "execution_count": 2,
   "metadata": {},
   "outputs": [],
   "source": [
    "import semantic_kernel as sk\n",
    "import semantic_kernel.connectors.ai.open_ai as skaoai\n",
    "from semantic_kernel.connectors.ai.open_ai import AzureChatCompletion, AzureTextEmbedding\n",
    "from semantic_kernel.connectors.memory.qdrant import QdrantMemoryStore\n",
    "from semantic_kernel.memory.semantic_text_memory import SemanticTextMemory"
   ]
  },
  {
   "cell_type": "code",
   "execution_count": 3,
   "metadata": {},
   "outputs": [],
   "source": [
    "deployment, api_key, endpoint = sk.azure_openai_settings_from_dot_env()"
   ]
  },
  {
   "cell_type": "code",
   "execution_count": 4,
   "metadata": {},
   "outputs": [],
   "source": [
    "kernel = sk.Kernel()"
   ]
  },
  {
   "cell_type": "code",
   "execution_count": 5,
   "metadata": {},
   "outputs": [],
   "source": [
    "chat_service = skaoai.AzureChatCompletion(\"Your Azure OpenAI Service gpt-35-turbo-16k Model Delployment Name\",endpoint,api_key=api_key,api_version = \"2023-12-01-preview\")\n",
    "embedding_gen = skaoai.AzureTextEmbedding(\"Your Azure OpenAI Service text-embedding-ada-002 Model Delployment Name\", endpoint,api_key=api_key,api_version = \"2023-12-01-preview\")"
   ]
  },
  {
   "cell_type": "code",
   "execution_count": 6,
   "metadata": {},
   "outputs": [],
   "source": [
    "\n",
    "kernel.add_service(chat_service)\n",
    "\n",
    "kernel.add_service(embedding_gen)"
   ]
  },
  {
   "cell_type": "code",
   "execution_count": 7,
   "metadata": {},
   "outputs": [],
   "source": [
    "qdrant_store = QdrantMemoryStore(vector_size=1536, url=\"http://localhost\",port=6333)\n",
    "await qdrant_store.create_collection('aboutMe')"
   ]
  },
  {
   "cell_type": "code",
   "execution_count": 8,
   "metadata": {},
   "outputs": [],
   "source": [
    "# kernel.register_memory_store(memory_store=qdrant_store)\n",
    "memory = SemanticTextMemory(storage=qdrant_store, embeddings_generator=embedding_gen)"
   ]
  },
  {
   "cell_type": "code",
   "execution_count": 9,
   "metadata": {},
   "outputs": [],
   "source": [
    "base_vectordb = 'aboutMe'"
   ]
  },
  {
   "cell_type": "code",
   "execution_count": 10,
   "metadata": {},
   "outputs": [],
   "source": [
    "await memory.save_information(base_vectordb, id=\"info1\", text=\"Kinfey is Microsoft Cloud Advocate\")\n",
    "await memory.save_information(base_vectordb, id=\"info2\", text=\"Kinfey is ex-Microsoft MVP\")\n",
    "await memory.save_information(base_vectordb, id=\"info3\", text=\"Kinfei is AI Expert\")\n",
    "await memory.save_information(base_vectordb, id=\"info4\", text=\"OpenAI is a company that is developing artificial general intelligence (AGI) with widely distributed economic benefits.\")"
   ]
  },
  {
   "cell_type": "code",
   "execution_count": 11,
   "metadata": {},
   "outputs": [],
   "source": [
    "ask = \"who is kinfey？\"\n",
    "\n",
    "memories = await memory.search(\n",
    "    base_vectordb, ask, limit=5, min_relevance_score=0.8\n",
    ")"
   ]
  },
  {
   "cell_type": "code",
   "execution_count": 12,
   "metadata": {},
   "outputs": [
    {
     "name": "stdout",
     "output_type": "stream",
     "text": [
      "Top 1 Result: Kinfey is ex-Microsoft MVP with score 0.86921084\n",
      "Top 2 Result: Kinfey is Microsoft Cloud Advocate with score 0.8400177\n",
      "Top 3 Result: Kinfei is AI Expert with score 0.8256959\n"
     ]
    }
   ],
   "source": [
    "i = 0\n",
    "for memory in memories:\n",
    "    i = i + 1\n",
    "    print(f\"Top {i} Result: {memory.text} with score {memory.relevance}\")"
   ]
  }
 ],
 "metadata": {
  "kernelspec": {
   "display_name": "pydev",
   "language": "python",
   "name": "python3"
  },
  "language_info": {
   "codemirror_mode": {
    "name": "ipython",
    "version": 3
   },
   "file_extension": ".py",
   "mimetype": "text/x-python",
   "name": "python",
   "nbconvert_exporter": "python",
   "pygments_lexer": "ipython3",
   "version": "3.10.12"
  }
 },
 "nbformat": 4,
 "nbformat_minor": 2
}
