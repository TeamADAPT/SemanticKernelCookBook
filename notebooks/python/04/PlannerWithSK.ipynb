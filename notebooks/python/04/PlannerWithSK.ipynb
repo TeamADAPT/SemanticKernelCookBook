{
 "cells": [
  {
   "cell_type": "code",
   "execution_count": 1,
   "metadata": {},
   "outputs": [
    {
     "name": "stdout",
     "output_type": "stream",
     "text": [
      "Requirement already satisfied: semantic-kernel in /Users/lokinfey/conda/envs/skdev/lib/python3.10/site-packages (0.9.5b1)\n",
      "Requirement already satisfied: aiohttp<4.0,>=3.8 in /Users/lokinfey/conda/envs/skdev/lib/python3.10/site-packages (from semantic-kernel) (3.9.3)\n",
      "Requirement already satisfied: defusedxml<0.8.0,>=0.7.1 in /Users/lokinfey/conda/envs/skdev/lib/python3.10/site-packages (from semantic-kernel) (0.7.1)\n",
      "Requirement already satisfied: grpcio>=1.50.0 in /Users/lokinfey/conda/envs/skdev/lib/python3.10/site-packages (from semantic-kernel) (1.60.1)\n",
      "Requirement already satisfied: jinja2<4.0.0,>=3.1.3 in /Users/lokinfey/conda/envs/skdev/lib/python3.10/site-packages (from semantic-kernel) (3.1.3)\n",
      "Requirement already satisfied: motor<4.0.0,>=3.3.2 in /Users/lokinfey/conda/envs/skdev/lib/python3.10/site-packages (from semantic-kernel) (3.3.2)\n",
      "Requirement already satisfied: nest-asyncio<2.0.0,>=1.6.0 in /Users/lokinfey/conda/envs/skdev/lib/python3.10/site-packages (from semantic-kernel) (1.6.0)\n",
      "Requirement already satisfied: numpy>=1.25 in /Users/lokinfey/conda/envs/skdev/lib/python3.10/site-packages (from semantic-kernel) (1.26.4)\n",
      "Requirement already satisfied: openai>=1.0 in /Users/lokinfey/conda/envs/skdev/lib/python3.10/site-packages (from semantic-kernel) (1.12.0)\n",
      "Requirement already satisfied: openapi_core<0.20,>=0.18 in /Users/lokinfey/conda/envs/skdev/lib/python3.10/site-packages (from semantic-kernel) (0.18.2)\n",
      "Requirement already satisfied: prance<24.0.0.0,>=23.6.21.0 in /Users/lokinfey/conda/envs/skdev/lib/python3.10/site-packages (from semantic-kernel) (23.6.21.0)\n",
      "Requirement already satisfied: pybars4<0.10.0,>=0.9.13 in /Users/lokinfey/conda/envs/skdev/lib/python3.10/site-packages (from semantic-kernel) (0.9.13)\n",
      "Requirement already satisfied: pydantic<3,>=2 in /Users/lokinfey/conda/envs/skdev/lib/python3.10/site-packages (from semantic-kernel) (2.6.1)\n",
      "Requirement already satisfied: python-dotenv<2.0.0,>=1.0.1 in /Users/lokinfey/conda/envs/skdev/lib/python3.10/site-packages (from semantic-kernel) (1.0.1)\n",
      "Requirement already satisfied: regex<2024.0.0,>=2023.6.3 in /Users/lokinfey/conda/envs/skdev/lib/python3.10/site-packages (from semantic-kernel) (2023.12.25)\n",
      "Requirement already satisfied: scipy>=1.5.0 in /Users/lokinfey/conda/envs/skdev/lib/python3.10/site-packages (from semantic-kernel) (1.12.0)\n",
      "Requirement already satisfied: aiosignal>=1.1.2 in /Users/lokinfey/conda/envs/skdev/lib/python3.10/site-packages (from aiohttp<4.0,>=3.8->semantic-kernel) (1.3.1)\n",
      "Requirement already satisfied: attrs>=17.3.0 in /Users/lokinfey/conda/envs/skdev/lib/python3.10/site-packages (from aiohttp<4.0,>=3.8->semantic-kernel) (23.2.0)\n",
      "Requirement already satisfied: frozenlist>=1.1.1 in /Users/lokinfey/conda/envs/skdev/lib/python3.10/site-packages (from aiohttp<4.0,>=3.8->semantic-kernel) (1.4.1)\n",
      "Requirement already satisfied: multidict<7.0,>=4.5 in /Users/lokinfey/conda/envs/skdev/lib/python3.10/site-packages (from aiohttp<4.0,>=3.8->semantic-kernel) (6.0.5)\n",
      "Requirement already satisfied: yarl<2.0,>=1.0 in /Users/lokinfey/conda/envs/skdev/lib/python3.10/site-packages (from aiohttp<4.0,>=3.8->semantic-kernel) (1.9.4)\n",
      "Requirement already satisfied: async-timeout<5.0,>=4.0 in /Users/lokinfey/conda/envs/skdev/lib/python3.10/site-packages (from aiohttp<4.0,>=3.8->semantic-kernel) (4.0.3)\n",
      "Requirement already satisfied: MarkupSafe>=2.0 in /Users/lokinfey/conda/envs/skdev/lib/python3.10/site-packages (from jinja2<4.0.0,>=3.1.3->semantic-kernel) (2.1.5)\n",
      "Requirement already satisfied: pymongo<5,>=4.5 in /Users/lokinfey/conda/envs/skdev/lib/python3.10/site-packages (from motor<4.0.0,>=3.3.2->semantic-kernel) (4.6.1)\n",
      "Requirement already satisfied: anyio<5,>=3.5.0 in /Users/lokinfey/conda/envs/skdev/lib/python3.10/site-packages (from openai>=1.0->semantic-kernel) (4.2.0)\n",
      "Requirement already satisfied: distro<2,>=1.7.0 in /Users/lokinfey/conda/envs/skdev/lib/python3.10/site-packages (from openai>=1.0->semantic-kernel) (1.9.0)\n",
      "Requirement already satisfied: httpx<1,>=0.23.0 in /Users/lokinfey/conda/envs/skdev/lib/python3.10/site-packages (from openai>=1.0->semantic-kernel) (0.26.0)\n",
      "Requirement already satisfied: sniffio in /Users/lokinfey/conda/envs/skdev/lib/python3.10/site-packages (from openai>=1.0->semantic-kernel) (1.3.0)\n",
      "Requirement already satisfied: tqdm>4 in /Users/lokinfey/conda/envs/skdev/lib/python3.10/site-packages (from openai>=1.0->semantic-kernel) (4.66.2)\n",
      "Requirement already satisfied: typing-extensions<5,>=4.7 in /Users/lokinfey/conda/envs/skdev/lib/python3.10/site-packages (from openai>=1.0->semantic-kernel) (4.9.0)\n",
      "Requirement already satisfied: asgiref<4.0.0,>=3.6.0 in /Users/lokinfey/conda/envs/skdev/lib/python3.10/site-packages (from openapi_core<0.20,>=0.18->semantic-kernel) (3.7.2)\n",
      "Requirement already satisfied: isodate in /Users/lokinfey/conda/envs/skdev/lib/python3.10/site-packages (from openapi_core<0.20,>=0.18->semantic-kernel) (0.6.1)\n",
      "Requirement already satisfied: jsonschema<5.0.0,>=4.18.0 in /Users/lokinfey/conda/envs/skdev/lib/python3.10/site-packages (from openapi_core<0.20,>=0.18->semantic-kernel) (4.21.1)\n",
      "Requirement already satisfied: jsonschema-spec<0.3.0,>=0.2.3 in /Users/lokinfey/conda/envs/skdev/lib/python3.10/site-packages (from openapi_core<0.20,>=0.18->semantic-kernel) (0.2.4)\n",
      "Requirement already satisfied: more-itertools in /Users/lokinfey/conda/envs/skdev/lib/python3.10/site-packages (from openapi_core<0.20,>=0.18->semantic-kernel) (10.2.0)\n",
      "Requirement already satisfied: openapi-schema-validator<0.7.0,>=0.6.0 in /Users/lokinfey/conda/envs/skdev/lib/python3.10/site-packages (from openapi_core<0.20,>=0.18->semantic-kernel) (0.6.2)\n",
      "Requirement already satisfied: openapi-spec-validator<0.8.0,>=0.7.1 in /Users/lokinfey/conda/envs/skdev/lib/python3.10/site-packages (from openapi_core<0.20,>=0.18->semantic-kernel) (0.7.1)\n",
      "Requirement already satisfied: parse in /Users/lokinfey/conda/envs/skdev/lib/python3.10/site-packages (from openapi_core<0.20,>=0.18->semantic-kernel) (1.20.1)\n",
      "Requirement already satisfied: werkzeug in /Users/lokinfey/conda/envs/skdev/lib/python3.10/site-packages (from openapi_core<0.20,>=0.18->semantic-kernel) (3.0.1)\n",
      "Requirement already satisfied: chardet>=3.0 in /Users/lokinfey/conda/envs/skdev/lib/python3.10/site-packages (from prance<24.0.0.0,>=23.6.21.0->semantic-kernel) (5.2.0)\n",
      "Requirement already satisfied: ruamel.yaml>=0.17.10 in /Users/lokinfey/conda/envs/skdev/lib/python3.10/site-packages (from prance<24.0.0.0,>=23.6.21.0->semantic-kernel) (0.18.6)\n",
      "Requirement already satisfied: requests>=2.25 in /Users/lokinfey/conda/envs/skdev/lib/python3.10/site-packages (from prance<24.0.0.0,>=23.6.21.0->semantic-kernel) (2.31.0)\n",
      "Requirement already satisfied: six~=1.15 in /Users/lokinfey/conda/envs/skdev/lib/python3.10/site-packages (from prance<24.0.0.0,>=23.6.21.0->semantic-kernel) (1.16.0)\n",
      "Requirement already satisfied: packaging>=21.3 in /Users/lokinfey/conda/envs/skdev/lib/python3.10/site-packages (from prance<24.0.0.0,>=23.6.21.0->semantic-kernel) (23.2)\n",
      "Requirement already satisfied: PyMeta3>=0.5.1 in /Users/lokinfey/conda/envs/skdev/lib/python3.10/site-packages (from pybars4<0.10.0,>=0.9.13->semantic-kernel) (0.5.1)\n",
      "Requirement already satisfied: annotated-types>=0.4.0 in /Users/lokinfey/conda/envs/skdev/lib/python3.10/site-packages (from pydantic<3,>=2->semantic-kernel) (0.6.0)\n",
      "Requirement already satisfied: pydantic-core==2.16.2 in /Users/lokinfey/conda/envs/skdev/lib/python3.10/site-packages (from pydantic<3,>=2->semantic-kernel) (2.16.2)\n",
      "Requirement already satisfied: idna>=2.8 in /Users/lokinfey/conda/envs/skdev/lib/python3.10/site-packages (from anyio<5,>=3.5.0->openai>=1.0->semantic-kernel) (3.6)\n",
      "Requirement already satisfied: exceptiongroup>=1.0.2 in /Users/lokinfey/conda/envs/skdev/lib/python3.10/site-packages (from anyio<5,>=3.5.0->openai>=1.0->semantic-kernel) (1.2.0)\n",
      "Requirement already satisfied: certifi in /Users/lokinfey/conda/envs/skdev/lib/python3.10/site-packages (from httpx<1,>=0.23.0->openai>=1.0->semantic-kernel) (2024.2.2)\n",
      "Requirement already satisfied: httpcore==1.* in /Users/lokinfey/conda/envs/skdev/lib/python3.10/site-packages (from httpx<1,>=0.23.0->openai>=1.0->semantic-kernel) (1.0.2)\n",
      "Requirement already satisfied: h11<0.15,>=0.13 in /Users/lokinfey/conda/envs/skdev/lib/python3.10/site-packages (from httpcore==1.*->httpx<1,>=0.23.0->openai>=1.0->semantic-kernel) (0.14.0)\n",
      "Requirement already satisfied: jsonschema-specifications>=2023.03.6 in /Users/lokinfey/conda/envs/skdev/lib/python3.10/site-packages (from jsonschema<5.0.0,>=4.18.0->openapi_core<0.20,>=0.18->semantic-kernel) (2023.7.1)\n",
      "Requirement already satisfied: referencing>=0.28.4 in /Users/lokinfey/conda/envs/skdev/lib/python3.10/site-packages (from jsonschema<5.0.0,>=4.18.0->openapi_core<0.20,>=0.18->semantic-kernel) (0.30.2)\n",
      "Requirement already satisfied: rpds-py>=0.7.1 in /Users/lokinfey/conda/envs/skdev/lib/python3.10/site-packages (from jsonschema<5.0.0,>=4.18.0->openapi_core<0.20,>=0.18->semantic-kernel) (0.18.0)\n",
      "Requirement already satisfied: PyYAML>=5.1 in /Users/lokinfey/conda/envs/skdev/lib/python3.10/site-packages (from jsonschema-spec<0.3.0,>=0.2.3->openapi_core<0.20,>=0.18->semantic-kernel) (6.0.1)\n",
      "Requirement already satisfied: pathable<0.5.0,>=0.4.1 in /Users/lokinfey/conda/envs/skdev/lib/python3.10/site-packages (from jsonschema-spec<0.3.0,>=0.2.3->openapi_core<0.20,>=0.18->semantic-kernel) (0.4.3)\n",
      "Requirement already satisfied: rfc3339-validator in /Users/lokinfey/conda/envs/skdev/lib/python3.10/site-packages (from openapi-schema-validator<0.7.0,>=0.6.0->openapi_core<0.20,>=0.18->semantic-kernel) (0.1.4)\n",
      "Requirement already satisfied: jsonschema-path<0.4.0,>=0.3.1 in /Users/lokinfey/conda/envs/skdev/lib/python3.10/site-packages (from openapi-spec-validator<0.8.0,>=0.7.1->openapi_core<0.20,>=0.18->semantic-kernel) (0.3.2)\n",
      "Requirement already satisfied: lazy-object-proxy<2.0.0,>=1.7.1 in /Users/lokinfey/conda/envs/skdev/lib/python3.10/site-packages (from openapi-spec-validator<0.8.0,>=0.7.1->openapi_core<0.20,>=0.18->semantic-kernel) (1.10.0)\n",
      "Requirement already satisfied: dnspython<3.0.0,>=1.16.0 in /Users/lokinfey/conda/envs/skdev/lib/python3.10/site-packages (from pymongo<5,>=4.5->motor<4.0.0,>=3.3.2->semantic-kernel) (2.5.0)\n",
      "Requirement already satisfied: charset-normalizer<4,>=2 in /Users/lokinfey/conda/envs/skdev/lib/python3.10/site-packages (from requests>=2.25->prance<24.0.0.0,>=23.6.21.0->semantic-kernel) (3.3.2)\n",
      "Requirement already satisfied: urllib3<3,>=1.21.1 in /Users/lokinfey/conda/envs/skdev/lib/python3.10/site-packages (from requests>=2.25->prance<24.0.0.0,>=23.6.21.0->semantic-kernel) (2.2.0)\n",
      "Requirement already satisfied: ruamel.yaml.clib>=0.2.7 in /Users/lokinfey/conda/envs/skdev/lib/python3.10/site-packages (from ruamel.yaml>=0.17.10->prance<24.0.0.0,>=23.6.21.0->semantic-kernel) (0.2.8)\n"
     ]
    }
   ],
   "source": [
    "! pip install semantic-kernel -U"
   ]
  },
  {
   "cell_type": "code",
   "execution_count": 2,
   "metadata": {},
   "outputs": [],
   "source": [
    "import os\n",
    "import sys\n",
    "\n",
    "import semantic_kernel as sk"
   ]
  },
  {
   "cell_type": "code",
   "execution_count": 3,
   "metadata": {},
   "outputs": [],
   "source": [
    "\n",
    "kernel = sk.Kernel()"
   ]
  },
  {
   "cell_type": "code",
   "execution_count": 4,
   "metadata": {},
   "outputs": [],
   "source": [
    "import semantic_kernel.connectors.ai.open_ai as skaoai"
   ]
  },
  {
   "cell_type": "code",
   "execution_count": 5,
   "metadata": {},
   "outputs": [],
   "source": [
    "service_id = None"
   ]
  },
  {
   "cell_type": "code",
   "execution_count": 6,
   "metadata": {},
   "outputs": [],
   "source": [
    "deployment, api_key, endpoint = sk.azure_openai_settings_from_dot_env()\n",
    "kernel.add_service(skaoai.AzureChatCompletion(deployment_name=deployment,endpoint=endpoint,api_key=api_key,api_version = \"2023-12-01-preview\"))"
   ]
  },
  {
   "cell_type": "code",
   "execution_count": 7,
   "metadata": {},
   "outputs": [],
   "source": [
    "from semantic_kernel.planners.basic_planner import BasicPlanner"
   ]
  },
  {
   "cell_type": "code",
   "execution_count": 8,
   "metadata": {},
   "outputs": [],
   "source": [
    "\n",
    "planner = BasicPlanner(service_id)"
   ]
  },
  {
   "cell_type": "code",
   "execution_count": 9,
   "metadata": {},
   "outputs": [],
   "source": [
    "base_skills_directory = '../../../plugins'"
   ]
  },
  {
   "cell_type": "code",
   "execution_count": 10,
   "metadata": {},
   "outputs": [],
   "source": [
    "import APIPlugin.CustomAPIPlugin as custom_plugin"
   ]
  },
  {
   "cell_type": "code",
   "execution_count": 11,
   "metadata": {},
   "outputs": [],
   "source": [
    "\n",
    "custom_plugin = kernel.import_plugin_from_object(custom_plugin.CustomAPIPlugin(), plugin_name=\"CustomAPI\")  #.import_native_skill_from_directory(base_plugin , \"APIPlugin\")\n",
    "writer_plugin = kernel.import_plugin_from_prompt_directory(base_skills_directory, \"WriterPlugin\")\n",
    "email_plugin = kernel.import_plugin_from_prompt_directory(base_skills_directory, \"EmailPlugin\")\n",
    "translate_plugin = kernel.import_plugin_from_prompt_directory(base_skills_directory, \"TranslatePlugin\")"
   ]
  },
  {
   "cell_type": "code",
   "execution_count": 12,
   "metadata": {},
   "outputs": [],
   "source": [
    "ask = \"\"\"\n",
    "Write email about  travellings tips based on  getting current weather in Guangzhou and translate email to Chinese\"\"\""
   ]
  },
  {
   "cell_type": "code",
   "execution_count": 13,
   "metadata": {},
   "outputs": [],
   "source": [
    "service_id"
   ]
  },
  {
   "cell_type": "code",
   "execution_count": 14,
   "metadata": {},
   "outputs": [],
   "source": [
    "\n",
    "plan = await planner.create_plan(ask, kernel)"
   ]
  },
  {
   "cell_type": "code",
   "execution_count": 15,
   "metadata": {},
   "outputs": [
    {
     "name": "stdout",
     "output_type": "stream",
     "text": [
      "{\n",
      "    \"input\": \"Travelling Tips\",\n",
      "    \"subtasks\": [\n",
      "        {\"function\": \"CustomAPI.WeatherFunction\", \"args\": {\"city\": \"Guangzhou\"}},\n",
      "        {\"function\": \"WriterPlugin.Tips\", \"args\": {\"input\": \"weather\"}},\n",
      "        {\"function\": \"EmailPlugin.WeatherMail\", \"args\": {\"input\": \"weather tips\"}},\n",
      "        {\"function\": \"TranslatePlugin.MultiLanguage\", \"args\": {\"language\": \"Chinese\"}}\n",
      "    ]\n",
      "}\n"
     ]
    }
   ],
   "source": [
    "print(plan.generated_plan)"
   ]
  },
  {
   "cell_type": "code",
   "execution_count": 16,
   "metadata": {},
   "outputs": [],
   "source": [
    "results = await planner.execute_plan(plan, kernel)"
   ]
  },
  {
   "cell_type": "code",
   "execution_count": 17,
   "metadata": {},
   "outputs": [
    {
     "data": {
      "text/plain": [
       "'主题：重要的天气和穿着提示，以确保安全出行\\n\\n亲爱的团队，\\n\\n希望这封邮件找到你们时一切都好。我们都知道，我们的工作经常需要我们去不同的地方，而各地的天气条件可能会有很大的差异。因此，及时了解天气预报并适当穿着是至关重要的，以确保我们的舒适和安全。\\n\\n以下是我们应该牢记的一些天气提示：\\n\\n1. 出发前总是要检查你的目的地的天气预报。这将帮助你适当地打包行李并规划你的活动。\\n\\n2. 注意严重的天气警告。如果有任何关于暴风雨、大雨或极端温度的警报，可能更安全的做法是重新安排你的行程。\\n\\n3. 如果你要去的地方气候炎热，记得要保持水分并使用防晒霜来保护你的皮肤免受有害紫外线的伤害。\\n\\n4. 对于寒冷的气候，穿多层衣服以保暖。别忘了带帽子、手套和一件暖和的大衣。\\n\\n5. 如果你要去的地方有很大的下雨概率，记得要带一件防水夹克和雨伞。\\n\\n请记住，成功的旅行的关键是准备。适应天气的穿着不仅可以确保你的舒适，还可以降低患上中暑或低体温症等健康问题的风险。\\n\\n请始终注意旅行条件。你们的安全和健康是我们的首要任务。如果你有任何疑虑或需要更多的信息，随时联系我们。\\n\\n祝你们旅途平安！\\n\\n顺祝商祺，\\n\\n[你的名字]\\n\\n[你的职位]'"
      ]
     },
     "execution_count": 17,
     "metadata": {},
     "output_type": "execute_result"
    }
   ],
   "source": [
    "results"
   ]
  }
 ],
 "metadata": {
  "kernelspec": {
   "display_name": "pydev",
   "language": "python",
   "name": "python3"
  },
  "language_info": {
   "codemirror_mode": {
    "name": "ipython",
    "version": 3
   },
   "file_extension": ".py",
   "mimetype": "text/x-python",
   "name": "python",
   "nbconvert_exporter": "python",
   "pygments_lexer": "ipython3",
   "version": "3.10.12"
  },
  "orig_nbformat": 4
 },
 "nbformat": 4,
 "nbformat_minor": 2
}
