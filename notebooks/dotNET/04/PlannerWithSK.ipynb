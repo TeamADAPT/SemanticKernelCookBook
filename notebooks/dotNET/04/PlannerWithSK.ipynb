{
 "cells": [
  {
   "cell_type": "code",
   "execution_count": 1,
   "metadata": {
    "dotnet_interactive": {
     "language": "csharp"
    },
    "polyglot_notebook": {
     "kernelName": "csharp"
    },
    "vscode": {
     "languageId": "polyglot-notebook"
    }
   },
   "outputs": [
    {
     "data": {
      "text/html": [
       "<div><div></div><div></div><div><strong>Installed Packages</strong><ul><li><span>Microsoft.SemanticKernel, 1.3.0</span></li><li><span>Microsoft.SemanticKernel.Planners.Handlebars, 1.3.0-preview</span></li></ul></div></div>"
      ]
     },
     "metadata": {},
     "output_type": "display_data"
    }
   ],
   "source": [
    "#r \"nuget: Microsoft.SemanticKernel, *-*\"\n",
    "#r \"nuget: Microsoft.SemanticKernel.Planners.Handlebars, *-*\""
   ]
  },
  {
   "cell_type": "code",
   "execution_count": 2,
   "metadata": {
    "dotnet_interactive": {
     "language": "csharp"
    },
    "polyglot_notebook": {
     "kernelName": "csharp"
    },
    "vscode": {
     "languageId": "polyglot-notebook"
    }
   },
   "outputs": [],
   "source": [
    "using Microsoft.SemanticKernel;\n",
    "using Microsoft.SemanticKernel.Memory;\n",
    "using Microsoft.SemanticKernel.Connectors.OpenAI;\n",
    "using Microsoft.SemanticKernel.Planning;\n"
   ]
  },
  {
   "cell_type": "code",
   "execution_count": 3,
   "metadata": {
    "dotnet_interactive": {
     "language": "csharp"
    },
    "polyglot_notebook": {
     "kernelName": "csharp"
    },
    "vscode": {
     "languageId": "polyglot-notebook"
    }
   },
   "outputs": [],
   "source": [
    "#!import ../Utils/Settings.cs\n",
    "#!import ../../../Plugins/CustomPlugin/CompanySearchPlugin.cs"
   ]
  },
  {
   "cell_type": "code",
   "execution_count": 4,
   "metadata": {
    "dotnet_interactive": {
     "language": "csharp"
    },
    "polyglot_notebook": {
     "kernelName": "csharp"
    },
    "vscode": {
     "languageId": "polyglot-notebook"
    }
   },
   "outputs": [],
   "source": [
    "using System;\n",
    "using System.Collections.Generic;\n",
    "using System.Diagnostics;\n",
    "using System.IO;\n",
    "using System.Net.Http;\n",
    "using System.Text.Json;\n",
    "using System.Threading.Tasks;"
   ]
  },
  {
   "cell_type": "code",
   "execution_count": 5,
   "metadata": {
    "dotnet_interactive": {
     "language": "csharp"
    },
    "polyglot_notebook": {
     "kernelName": "csharp"
    },
    "vscode": {
     "languageId": "polyglot-notebook"
    }
   },
   "outputs": [],
   "source": [
    "Kernel kernel = Kernel.CreateBuilder()\n",
    "            .AddAzureOpenAIChatCompletion(\"Your Azure OpenAI Service gpt-35-turbo-16k Deployment Name\", Settings.AOAIEndpoint, Settings.AOAIKey)\n",
    "            .Build();"
   ]
  },
  {
   "cell_type": "code",
   "execution_count": 6,
   "metadata": {
    "dotnet_interactive": {
     "language": "csharp"
    },
    "polyglot_notebook": {
     "kernelName": "csharp"
    },
    "vscode": {
     "languageId": "polyglot-notebook"
    }
   },
   "outputs": [],
   "source": [
    "var companySearchPluginObj = new CompanySearchPlugin();\n",
    "var companySearchPlugin = kernel.ImportPluginFromObject(companySearchPluginObj, \"CompanySearchPlugin\");"
   ]
  },
  {
   "cell_type": "code",
   "execution_count": 7,
   "metadata": {
    "dotnet_interactive": {
     "language": "csharp"
    },
    "polyglot_notebook": {
     "kernelName": "csharp"
    },
    "vscode": {
     "languageId": "polyglot-notebook"
    }
   },
   "outputs": [],
   "source": [
    "var pluginDirectory = Path.Combine(\"../../..\", \"plugins\");"
   ]
  },
  {
   "cell_type": "code",
   "execution_count": 8,
   "metadata": {
    "dotnet_interactive": {
     "language": "csharp"
    },
    "polyglot_notebook": {
     "kernelName": "csharp"
    },
    "vscode": {
     "languageId": "polyglot-notebook"
    }
   },
   "outputs": [],
   "source": [
    "var writetPlugin =  kernel.ImportPluginFromPromptDirectory(Path.Combine(pluginDirectory, \"WriterPlugin\"));\n",
    "var emailPlugin =  kernel.ImportPluginFromPromptDirectory(Path.Combine(pluginDirectory, \"EmailPlugin\"));\n",
    "var translatePlugin =  kernel.ImportPluginFromPromptDirectory(Path.Combine(pluginDirectory, \"TranslatePlugin\"));"
   ]
  },
  {
   "cell_type": "code",
   "execution_count": 9,
   "metadata": {
    "dotnet_interactive": {
     "language": "csharp"
    },
    "polyglot_notebook": {
     "kernelName": "csharp"
    },
    "vscode": {
     "languageId": "polyglot-notebook"
    }
   },
   "outputs": [],
   "source": [
    "string goal =  \"\"\"\n",
    "Check the weather in Guangzhou, use spanish to write emails abount dressing tips based on the results\n",
    "\"\"\";"
   ]
  },
  {
   "cell_type": "code",
   "execution_count": 10,
   "metadata": {
    "dotnet_interactive": {
     "language": "csharp"
    },
    "polyglot_notebook": {
     "kernelName": "csharp"
    },
    "vscode": {
     "languageId": "polyglot-notebook"
    }
   },
   "outputs": [],
   "source": [
    "using Microsoft.SemanticKernel.Planning.Handlebars;\n",
    "\n",
    "#pragma warning disable SKEXP0060\n",
    "\n",
    "var planner = new HandlebarsPlanner();"
   ]
  },
  {
   "cell_type": "code",
   "execution_count": 11,
   "metadata": {
    "dotnet_interactive": {
     "language": "csharp"
    },
    "polyglot_notebook": {
     "kernelName": "csharp"
    },
    "vscode": {
     "languageId": "polyglot-notebook"
    }
   },
   "outputs": [],
   "source": [
    "#pragma warning disable SKEXP0060\n",
    "\n",
    "var originalPlan = await planner.CreatePlanAsync(kernel, goal);"
   ]
  },
  {
   "cell_type": "code",
   "execution_count": 12,
   "metadata": {
    "dotnet_interactive": {
     "language": "csharp"
    },
    "polyglot_notebook": {
     "kernelName": "csharp"
    },
    "vscode": {
     "languageId": "polyglot-notebook"
    }
   },
   "outputs": [
    {
     "name": "stdout",
     "output_type": "stream",
     "text": [
      "{{!-- Step 1: Identify key values --}}\n",
      "{{set \"city\" \"Guangzhou\"}}\n",
      "{{set \"language\" \"spanish\"}}\n",
      "\n",
      "{{!-- Step 2: Call WeatherSearch helper with the city --}}\n",
      "{{set \"weather\" (CompanySearchPlugin-WeatherSearch city)}}\n",
      "\n",
      "{{!-- Step 3: Call Tips helper with the weather and language --}}\n",
      "{{set \"tips\" (WriterPlugin-Tips input=weather language=language)}}\n",
      "\n",
      "{{!-- Step 4: Call WeatherMail helper with the tips --}}\n",
      "{{set \"email\" (EmailPlugin-WeatherMail input=tips)}}\n",
      "\n",
      "{{!-- Step 5: Print the resulting email --}}\n",
      "{{json email}}\n"
     ]
    }
   ],
   "source": [
    "Console.WriteLine(originalPlan);"
   ]
  },
  {
   "cell_type": "code",
   "execution_count": 13,
   "metadata": {
    "dotnet_interactive": {
     "language": "csharp"
    },
    "polyglot_notebook": {
     "kernelName": "csharp"
    },
    "vscode": {
     "languageId": "polyglot-notebook"
    }
   },
   "outputs": [
    {
     "data": {
      "text/plain": [
       "{{!-- Step 1: Identify key values --}}\n",
       "{{set \"city\" \"Guangzhou\"}}\n",
       "{{set \"language\" \"spanish\"}}\n",
       "\n",
       "{{!-- Step 2: Call WeatherSearch helper with the city --}}\n",
       "{{set \"weather\" (CompanySearchPlugin-WeatherSearch city)}}\n",
       "\n",
       "{{!-- Step 3: Call Tips helper with the weather and language --}}\n",
       "{{set \"tips\" (WriterPlugin-Tips input=weather language=language)}}\n",
       "\n",
       "{{!-- Step 4: Call WeatherMail helper with the tips --}}\n",
       "{{set \"email\" (EmailPlugin-WeatherMail input=tips)}}\n",
       "\n",
       "{{!-- Step 5: Print the resulting email --}}\n",
       "{{json email}}"
      ]
     },
     "metadata": {},
     "output_type": "display_data"
    }
   ],
   "source": [
    "originalPlan.ToString()"
   ]
  },
  {
   "cell_type": "code",
   "execution_count": 14,
   "metadata": {
    "dotnet_interactive": {
     "language": "csharp"
    },
    "polyglot_notebook": {
     "kernelName": "csharp"
    },
    "vscode": {
     "languageId": "polyglot-notebook"
    }
   },
   "outputs": [],
   "source": [
    "#pragma warning disable SKEXP0060\n",
    "var originalPlanResult = await originalPlan.InvokeAsync(kernel, new KernelArguments());"
   ]
  },
  {
   "cell_type": "code",
   "execution_count": 15,
   "metadata": {
    "dotnet_interactive": {
     "language": "csharp"
    },
    "polyglot_notebook": {
     "kernelName": "csharp"
    },
    "vscode": {
     "languageId": "polyglot-notebook"
    }
   },
   "outputs": [
    {
     "name": "stdout",
     "output_type": "stream",
     "text": [
      "Queridos colegas de viaje,\n",
      "\n",
      "Espero que estén teniendo un buen viaje hasta ahora. Quería recordarles que estén atentos a las condiciones de viaje en todo momento, especialmente considerando el clima en Guangzhou. Según los consejos de vestimenta que recibimos, se espera que el clima sea de 2 grados y lluvioso.\n",
      "\n",
      "Aquí hay algunas recomendaciones para vestirse adecuadamente:\n",
      "\n",
      "1. Vístete en capas: Debido a las bajas temperaturas, es importante vestirse en capas para mantenerse abrigado. Recuerden llevar una camiseta de manga larga debajo de un suéter o chaqueta.\n",
      "\n",
      "2. Lleven un abrigo impermeable: Dado que el clima es lluvioso, es recomendable llevar un abrigo impermeable o una chaqueta con capucha para protegernos de la lluvia.\n",
      "\n",
      "3. Utilicen botas o zapatos impermeables: Para evitar que nuestros pies se mojen, es mejor usar botas o zapatos impermeables durante los días lluviosos.\n",
      "\n",
      "4. No olviden llevar una bufanda y guantes: Estos accesorios nos ayudarán a protegernos del frío y el viento. Son especialmente útiles cuando la temperatura baja aún más o cuando hay ráfagas de viento.\n",
      "\n",
      "5. Opten por pantalones largos: Para mantener nuestras piernas abrigadas, es mejor usar pantalones largos en lugar de faldas o vestidos cortos.\n",
      "\n",
      "6. Utilicen calcetines térmicos: Para proteger nuestros pies del frío, es recomendable usar calcetines térmicos o de lana. Esto nos ayudará a mantener nuestros pies calientes durante el clima frío y lluvioso.\n",
      "\n",
      "7. Consideren llevar un sombrero o gorro: Un sombrero o gorro puede ayudarnos a mantener nuestra cabeza abrigada y protegernos de la lluvia.\n",
      "\n",
      "8. No olviden llevar un paraguas plegable: Siempre es importante llevar un paraguas plegable para protegernos de la lluvia.\n",
      "\n",
      "Recuerden que es importante estar preparados para las condiciones climáticas y vestirse adecuadamente para mantenernos cómodos durante nuestro viaje. Si tienen alguna pregunta o inquietud, no duden en comunicarse conmigo.\n",
      "\n",
      "¡Que tengan un buen viaje!\n",
      "\n",
      "Saludos cordiales,\n",
      "[Nombre]\n"
     ]
    }
   ],
   "source": [
    "Console.WriteLine(originalPlanResult);"
   ]
  }
 ],
 "metadata": {
  "kernelspec": {
   "display_name": "pydev",
   "language": "python",
   "name": "python3"
  },
  "language_info": {
   "codemirror_mode": {
    "name": "ipython",
    "version": 3
   },
   "file_extension": ".py",
   "mimetype": "text/x-python",
   "name": "python",
   "nbconvert_exporter": "python",
   "pygments_lexer": "ipython3",
   "version": "3.10.12"
  }
 },
 "nbformat": 4,
 "nbformat_minor": 2
}
