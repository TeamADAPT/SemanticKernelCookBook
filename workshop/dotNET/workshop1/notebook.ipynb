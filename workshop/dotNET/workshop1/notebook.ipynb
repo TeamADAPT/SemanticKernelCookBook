{
 "cells": [
  {
   "cell_type": "code",
   "execution_count": 1,
   "metadata": {
    "dotnet_interactive": {
     "language": "csharp"
    },
    "polyglot_notebook": {
     "kernelName": "csharp"
    },
    "vscode": {
     "languageId": "polyglot-notebook"
    }
   },
   "outputs": [
    {
     "data": {
      "text/html": [
       "<div><div></div><div></div><div><strong>Installed Packages</strong><ul><li><span>Microsoft.SemanticKernel, 1.3.0</span></li><li><span>Microsoft.SemanticKernel.Connectors.Qdrant, 1.3.0-alpha</span></li></ul></div></div>"
      ]
     },
     "metadata": {},
     "output_type": "display_data"
    }
   ],
   "source": [
    "#r \"nuget: Microsoft.SemanticKernel, *-*\"\n",
    "#r \"nuget: Microsoft.SemanticKernel.Connectors.Qdrant, *-*\""
   ]
  },
  {
   "cell_type": "code",
   "execution_count": 2,
   "metadata": {
    "dotnet_interactive": {
     "language": "csharp"
    },
    "polyglot_notebook": {
     "kernelName": "csharp"
    },
    "vscode": {
     "languageId": "polyglot-notebook"
    }
   },
   "outputs": [],
   "source": [
    "using Microsoft.SemanticKernel;\n",
    "using Microsoft.SemanticKernel.Embeddings;\n",
    "using Microsoft.SemanticKernel.Memory;\n",
    "using Microsoft.SemanticKernel.Connectors.Qdrant;\n",
    "using Microsoft.SemanticKernel.Connectors.OpenAI;"
   ]
  },
  {
   "cell_type": "code",
   "execution_count": 3,
   "metadata": {
    "dotnet_interactive": {
     "language": "csharp"
    },
    "polyglot_notebook": {
     "kernelName": "csharp"
    },
    "vscode": {
     "languageId": "polyglot-notebook"
    }
   },
   "outputs": [],
   "source": [
    "using System;\n",
    "using System.IO;\n",
    "using System.Text.Json;"
   ]
  },
  {
   "cell_type": "code",
   "execution_count": 4,
   "metadata": {
    "dotnet_interactive": {
     "language": "csharp"
    },
    "polyglot_notebook": {
     "kernelName": "csharp"
    },
    "vscode": {
     "languageId": "polyglot-notebook"
    }
   },
   "outputs": [],
   "source": [
    "Kernel kernel = Kernel.CreateBuilder()\n",
    "            .AddAzureOpenAIChatCompletion(\"Your Azure OpenAI Service Deployment Name\" , \"Your Azure OpenAI Service Endpoint\", \"Your Azure OpenAI Service API Key\")\n",
    "            .Build();"
   ]
  },
  {
   "cell_type": "code",
   "execution_count": 5,
   "metadata": {
    "dotnet_interactive": {
     "language": "csharp"
    },
    "polyglot_notebook": {
     "kernelName": "csharp"
    },
    "vscode": {
     "languageId": "polyglot-notebook"
    }
   },
   "outputs": [],
   "source": [
    "var pluginDirectory =  System.IO.Directory.GetCurrentDirectory() + \"/Plugins\";"
   ]
  },
  {
   "cell_type": "code",
   "execution_count": 6,
   "metadata": {
    "dotnet_interactive": {
     "language": "csharp"
    },
    "polyglot_notebook": {
     "kernelName": "csharp"
    },
    "vscode": {
     "languageId": "polyglot-notebook"
    }
   },
   "outputs": [],
   "source": [
    "var filePlugin = kernel.CreatePluginFromPromptDirectory(Path.Combine(pluginDirectory, \"FilePlugin\"));\n",
    "var answerPlugin = kernel.CreatePluginFromPromptDirectory(Path.Combine(pluginDirectory, \"AnswerPlugin\"));"
   ]
  },
  {
   "cell_type": "code",
   "execution_count": 7,
   "metadata": {
    "dotnet_interactive": {
     "language": "csharp"
    },
    "polyglot_notebook": {
     "kernelName": "csharp"
    },
    "vscode": {
     "languageId": "polyglot-notebook"
    }
   },
   "outputs": [],
   "source": [
    "public class KB\n",
    "{\n",
    "    public string kb { get; set; }\n",
    "    public string content { get; set; }\n",
    "}"
   ]
  },
  {
   "cell_type": "code",
   "execution_count": 8,
   "metadata": {
    "dotnet_interactive": {
     "language": "csharp"
    },
    "polyglot_notebook": {
     "kernelName": "csharp"
    },
    "vscode": {
     "languageId": "polyglot-notebook"
    }
   },
   "outputs": [],
   "source": [
    "DirectoryInfo transcriptsFolder = new DirectoryInfo(@\"./data/transcripts\");    \n",
    "FileInfo[] transcriptsFiles = transcriptsFolder.GetFiles();"
   ]
  },
  {
   "cell_type": "code",
   "execution_count": 9,
   "metadata": {
    "dotnet_interactive": {
     "language": "csharp"
    },
    "polyglot_notebook": {
     "kernelName": "csharp"
    },
    "vscode": {
     "languageId": "polyglot-notebook"
    }
   },
   "outputs": [],
   "source": [
    "IList<KB> kbList = new List<KB>();\n",
    "\n",
    "foreach(var file in transcriptsFiles)\n",
    "{\n",
    "    string content = File.ReadAllText(file.FullName);\n",
    "    var jsonResult = await kernel.InvokeAsync( filePlugin[\"Transcrips\"],new(){[\"input\"] = content});\n",
    "    var result = JsonSerializer.Deserialize<List<KB>>(jsonResult.ToString());\n",
    "    foreach(var item in result)\n",
    "    {\n",
    "        kbList.Add(item);\n",
    "    }\n",
    "}"
   ]
  },
  {
   "cell_type": "code",
   "execution_count": 10,
   "metadata": {
    "dotnet_interactive": {
     "language": "csharp"
    },
    "polyglot_notebook": {
     "kernelName": "csharp"
    },
    "vscode": {
     "languageId": "polyglot-notebook"
    }
   },
   "outputs": [
    {
     "data": {
      "text/html": [
       "<table><thead><tr><th><i>index</i></th><th>value</th></tr></thead><tbody><tr><td>0</td><td><details class=\"dni-treeview\"><summary><span class=\"dni-code-hint\"><code>Submission#7+KB</code></span></summary><div><table><thead><tr></tr></thead><tbody><tr><td>kb</td><td><div class=\"dni-plaintext\"><pre>Alan Turing and the Turing test</pre></div></td></tr><tr><td>content</td><td><div class=\"dni-plaintext\"><pre>Alan Turing is credited with helping to lay the foundation for the concept of a machine that can think. He created the Turing test in 1950, where an interrogator questions both a human and a computer to determine which one is which.</pre></div></td></tr></tbody></table></div></details></td></tr><tr><td>1</td><td><details class=\"dni-treeview\"><summary><span class=\"dni-code-hint\"><code>Submission#7+KB</code></span></summary><div><table><thead><tr></tr></thead><tbody><tr><td>kb</td><td><div class=\"dni-plaintext\"><pre>The Dartmouth Summer Research Project on AI</pre></div></td></tr><tr><td>content</td><td><div class=\"dni-plaintext\"><pre>The term artificial intelligence was coined in 1956 at the Dartmouth College conference. This event marked the birth of AI research.</pre></div></td></tr></tbody></table></div></details></td></tr><tr><td>2</td><td><details class=\"dni-treeview\"><summary><span class=\"dni-code-hint\"><code>Submission#7+KB</code></span></summary><div><table><thead><tr></tr></thead><tbody><tr><td>kb</td><td><div class=\"dni-plaintext\"><pre>The golden years of AI</pre></div></td></tr><tr><td>content</td><td><div class=\"dni-plaintext\"><pre>From 1956 to 1974, known as the Golden Years of AI, there was optimism and hope that AI could solve many problems. Natural language processing research flourished, computation and algorithms advanced, and prototypes of intelligent machines were built.</pre></div></td></tr></tbody></table></div></details></td></tr><tr><td>3</td><td><details class=\"dni-treeview\"><summary><span class=\"dni-code-hint\"><code>Submission#7+KB</code></span></summary><div><table><thead><tr></tr></thead><tbody><tr><td>kb</td><td><div class=\"dni-plaintext\"><pre>The AI winter</pre></div></td></tr><tr><td>content</td><td><div class=\"dni-plaintext\"><pre>In the 1970s, it became apparent that making intelligent machines was more complex than anticipated. Funding dried up, and confidence in the field slowed, marking the beginning of an AI winter.</pre></div></td></tr></tbody></table></div></details></td></tr><tr><td>4</td><td><details class=\"dni-treeview\"><summary><span class=\"dni-code-hint\"><code>Submission#7+KB</code></span></summary><div><table><thead><tr></tr></thead><tbody><tr><td>kb</td><td><div class=\"dni-plaintext\"><pre>Resurgence and fall of AI for expert systems</pre></div></td></tr><tr><td>content</td><td><div class=\"dni-plaintext\"><pre>In the 1980s, there was a resurgence of optimism as expert systems became more successful. However, they were too specialized and unlikely to achieve machine intelligence. The rise of personal computers also competed with these systems.</pre></div></td></tr></tbody></table></div></details></td></tr><tr><td>5</td><td><details class=\"dni-treeview\"><summary><span class=\"dni-code-hint\"><code>Submission#7+KB</code></span></summary><div><table><thead><tr></tr></thead><tbody><tr><td>kb</td><td><div class=\"dni-plaintext\"><pre>Growth in AI driven by more data and more powerful hardware</pre></div></td></tr><tr><td>content</td><td><div class=\"dni-plaintext\"><pre>In the mid-1990s, compute and storage capabilities grew exponentially, enabling the processing of larger data sets. The rise of the internet and smartphones contributed to increasing amounts of data. Throughout the 2000s, significant advancements were made in computer vision and natural language processing.</pre></div></td></tr></tbody></table></div></details></td></tr><tr><td>6</td><td><details class=\"dni-treeview\"><summary><span class=\"dni-code-hint\"><code>Submission#7+KB</code></span></summary><div><table><thead><tr></tr></thead><tbody><tr><td>kb</td><td><div class=\"dni-plaintext\"><pre>Big Data</pre></div></td></tr><tr><td>content</td><td><div class=\"dni-plaintext\"><pre>In the past decade, machine learning has been capable of solving even more problems due to the growth in compute power and the size of data sets. Machine learning now touches almost every part of our lives.</pre></div></td></tr></tbody></table></div></details></td></tr><tr><td>7</td><td><details class=\"dni-treeview\"><summary><span class=\"dni-code-hint\"><code>Submission#7+KB</code></span></summary><div><table><thead><tr></tr></thead><tbody><tr><td>kb</td><td><div class=\"dni-plaintext\"><pre>Increased awareness of ethical and responsible AI</pre></div></td></tr><tr><td>content</td><td><div class=\"dni-plaintext\"><pre>There is an increased awareness of potential ethical issues in machine learning and significant research in the field of responsible AI. The goal is to have AI that is responsible and doesn&#39;t amplify human bias.</pre></div></td></tr></tbody></table></div></details></td></tr><tr><td>8</td><td><details class=\"dni-treeview\"><summary><span class=\"dni-code-hint\"><code>Submission#7+KB</code></span></summary><div><table><thead><tr></tr></thead><tbody><tr><td>kb</td><td><div class=\"dni-plaintext\"><pre>Introducing ML for Beginners</pre></div></td></tr><tr><td>content</td><td><div class=\"dni-plaintext\"><pre>based on the free open source 26 lesson ml for beginners curriculum from Microsoft</pre></div></td></tr></tbody></table></div></details></td></tr><tr><td>9</td><td><details class=\"dni-treeview\"><summary><span class=\"dni-code-hint\"><code>Submission#7+KB</code></span></summary><div><table><thead><tr></tr></thead><tbody><tr><td>kb</td><td><div class=\"dni-plaintext\"><pre>The difference between AI and ML</pre></div></td></tr><tr><td>content</td><td><div class=\"dni-plaintext\"><pre>AI is a science of getting machines to accomplish tasks that typically require human level intelligence</pre></div></td></tr></tbody></table></div></details></td></tr><tr><td>10</td><td><details class=\"dni-treeview\"><summary><span class=\"dni-code-hint\"><code>Submission#7+KB</code></span></summary><div><table><thead><tr></tr></thead><tbody><tr><td>kb</td><td><div class=\"dni-plaintext\"><pre>What you&#39;ll learn in this course</pre></div></td></tr><tr><td>content</td><td><div class=\"dni-plaintext\"><pre>going to cover what we call classical machine learning you&#39;ll learn some Core Concepts of ml a bit of History statistical techniques like regression classification clustering and more</pre></div></td></tr></tbody></table></div></details></td></tr><tr><td>11</td><td><details class=\"dni-treeview\"><summary><span class=\"dni-code-hint\"><code>Submission#7+KB</code></span></summary><div><table><thead><tr></tr></thead><tbody><tr><td>kb</td><td><div class=\"dni-plaintext\"><pre>Advanced Techniques</pre></div></td></tr><tr><td>content</td><td><div class=\"dni-plaintext\"><pre>the concepts you&#39;ll learn here will serve you well as you progress to more</pre></div></td></tr></tbody></table></div></details></td></tr><tr><td>12</td><td><details class=\"dni-treeview\"><summary><span class=\"dni-code-hint\"><code>Submission#7+KB</code></span></summary><div><table><thead><tr></tr></thead><tbody><tr><td>kb</td><td><div class=\"dni-plaintext\"><pre>Why study Machine Learning</pre></div></td></tr><tr><td>content</td><td><div class=\"dni-plaintext\"><pre>Hot Topic because it&#39;s solving complex real-world problems in so many areas Finance earth science space exploration cognitive science and many more Fields have adopted machine learning to solve problems specific to their domains</pre></div></td></tr></tbody></table></div></details></td></tr><tr><td>13</td><td><details class=\"dni-treeview\"><summary><span class=\"dni-code-hint\"><code>Submission#7+KB</code></span></summary><div><table><thead><tr></tr></thead><tbody><tr><td>kb</td><td><div class=\"dni-plaintext\"><pre>Decide if AI is the right approach</pre></div></td></tr><tr><td>content</td><td><div class=\"dni-plaintext\"><pre>traditional software is well suited to solve problems where the solution can be described as a formal set of rules in contrast AI shines in solving problems where the solution can be extracted from data many of the problems we encountered in our daily life can be efficiently solved with traditional programming if an engineer can break up the solution of a problem and Define it using precise rules then traditional programming is a great tool to use but many of the problems we encounter in our day-to-day aren&#39;t quite as easy to Define as a set of rules thankfully for many of those problems we have access to plenty of real life data containing useful information which means that AI can help us find a solution one good example is translating from one language to another writing a set of rules that full encodes all the parallels between two languages is not easy but there are many examples of translation online so AI has been able to do a much better job of translation than previous attempts so our first step when we&#39;re starting a new project should be to analyze the problem and determine which technique is best to solve it if you&#39;re able to obtain plenty of data that contains useful information about your solution then AI is a promising approach once you decided that</pre></div></td></tr></tbody></table></div></details></td></tr><tr><td>14</td><td><details class=\"dni-treeview\"><summary><span class=\"dni-code-hint\"><code>Submission#7+KB</code></span></summary><div><table><thead><tr></tr></thead><tbody><tr><td>kb</td><td><div class=\"dni-plaintext\"><pre>Collect and prepare data</pre></div></td></tr><tr><td>content</td><td><div class=\"dni-plaintext\"><pre>AI is the right method for you you need to collect and prepare your data for example you may need to normalize it or convert it to a different form or remove rows that are missing certain Fields once your data is clean you need to decide about which aspects of your data or features you&#39;re going to use as input to your prediction and which feature you want to predict for example if you have medical data you may decide to use features that describe the patient&#39;s medical history as input and a chance of a particular disease as the output feature you want to predict and finally you need to split your data into training and test sets a usual split is 80 for your training data and 20 for test</pre></div></td></tr></tbody></table></div></details></td></tr><tr><td>15</td><td><details class=\"dni-treeview\"><summary><span class=\"dni-code-hint\"><code>Submission#7+KB</code></span></summary><div><table><thead><tr></tr></thead><tbody><tr><td>kb</td><td><div class=\"dni-plaintext\"><pre>Train your model</pre></div></td></tr><tr><td>content</td><td><div class=\"dni-plaintext\"><pre>next you need to choose a machine learning algorithm which you&#39;ll learn a lot about in the coming videos if you&#39;re undecided between a few good algorithms you may want to try them all and see which one performs best then you need to train your model using the training set you collected earlier and the algorithm you chose training a model may take a while especially if the model is large</pre></div></td></tr></tbody></table></div></details></td></tr><tr><td>16</td><td><details class=\"dni-treeview\"><summary><span class=\"dni-code-hint\"><code>Submission#7+KB</code></span></summary><div><table><thead><tr></tr></thead><tbody><tr><td>kb</td><td><div class=\"dni-plaintext\"><pre>Evaluate your model</pre></div></td></tr><tr><td>content</td><td><div class=\"dni-plaintext\"><pre>once the model is trained you can test it using the test data set that you split earlier it&#39;s important that you test the algorithm with data that it hasn&#39;t seen during training to ensure that it generalizes well to new scenarios</pre></div></td></tr></tbody></table></div></details></td></tr><tr><td>17</td><td><details class=\"dni-treeview\"><summary><span class=\"dni-code-hint\"><code>Submission#7+KB</code></span></summary><div><table><thead><tr></tr></thead><tbody><tr><td>kb</td><td><div class=\"dni-plaintext\"><pre>Tune the hyperparameters</pre></div></td></tr><tr><td>content</td><td><div class=\"dni-plaintext\"><pre>some algorithms contain hyper parameters which are settings that control key aspects of their inner workings choosing good hyper parameters is important because they can make a big difference in your results if you want to be systematic about your hyper parameter search you can write code that tries lots of different combinations and helps you discover the best values for your data once you get good test results it&#39;s time to see how well your model performs within the context of its intended use</pre></div></td></tr></tbody></table></div></details></td></tr><tr><td>18</td><td><details class=\"dni-treeview\"><summary><span class=\"dni-code-hint\"><code>Submission#7+KB</code></span></summary><div><table><thead><tr></tr></thead><tbody><tr><td>kb</td><td><div class=\"dni-plaintext\"><pre>Test the model in the real world</pre></div></td></tr><tr><td>content</td><td><div class=\"dni-plaintext\"><pre>for example this could involve collecting live data from a sensor and using it to make predictions or deploying a model to a few users of your application if it all looks good then you&#39;re ready to release it to production and enjoy its benefits make sure you watch the next video where we&#39;ll start getting Hands-On with machine learning by configuring all the tools we&#39;ll use in the rest of the series I&#39;ll see you there</pre></div></td></tr></tbody></table></div></details></td></tr></tbody></table><style>\r\n",
       ".dni-code-hint {\r\n",
       "    font-style: italic;\r\n",
       "    overflow: hidden;\r\n",
       "    white-space: nowrap;\r\n",
       "}\r\n",
       ".dni-treeview {\r\n",
       "    white-space: nowrap;\r\n",
       "}\r\n",
       ".dni-treeview td {\r\n",
       "    vertical-align: top;\r\n",
       "    text-align: start;\r\n",
       "}\r\n",
       "details.dni-treeview {\r\n",
       "    padding-left: 1em;\r\n",
       "}\r\n",
       "table td {\r\n",
       "    text-align: start;\r\n",
       "}\r\n",
       "table tr { \r\n",
       "    vertical-align: top; \r\n",
       "    margin: 0em 0px;\r\n",
       "}\r\n",
       "table tr td pre \r\n",
       "{ \r\n",
       "    vertical-align: top !important; \r\n",
       "    margin: 0em 0px !important;\r\n",
       "} \r\n",
       "table th {\r\n",
       "    text-align: start;\r\n",
       "}\r\n",
       "</style>"
      ]
     },
     "metadata": {},
     "output_type": "display_data"
    }
   ],
   "source": [
    "kbList"
   ]
  },
  {
   "cell_type": "code",
   "execution_count": 11,
   "metadata": {
    "dotnet_interactive": {
     "language": "csharp"
    },
    "polyglot_notebook": {
     "kernelName": "csharp"
    },
    "vscode": {
     "languageId": "polyglot-notebook"
    }
   },
   "outputs": [],
   "source": [
    "DirectoryInfo notesFolder = new DirectoryInfo(@\"./data/notes\");    \n",
    "FileInfo[] notesFiles = notesFolder.GetFiles();"
   ]
  },
  {
   "cell_type": "code",
   "execution_count": 12,
   "metadata": {
    "dotnet_interactive": {
     "language": "csharp"
    },
    "polyglot_notebook": {
     "kernelName": "csharp"
    },
    "vscode": {
     "languageId": "polyglot-notebook"
    }
   },
   "outputs": [
    {
     "name": "stdout",
     "output_type": "stream",
     "text": [
      "{\"kb\": \"History of machine learning\", \"content\": \"This lesson provides a brief overview of the history of machine learning and artificial intelligence. It covers notable discoveries such as Bayes Theorem, Least Square Theory, Markov Chains, Perceptron, Nearest Neighbor, Backpropagation, and Recurrent Neural Networks. It also discusses key milestones in the history of AI, including Alan Turing's concept of a 'machine that can think,' the Dartmouth Summer Research Project, the 'golden years' of AI, the 'AI Winter,' the rise of expert systems, and the modern era of ML and AI. The lesson emphasizes the importance of understanding the risks and potential effects of these technologies on human lives.\"}\n",
      "{\"kb\": \"Techniques of Machine Learning\", \"content\": \"The process of building, using, and maintaining machine learning models involves several steps: deciding on the question, collecting and preparing data, choosing a training method, training the model, evaluating the model, parameter tuning, and making predictions. The question to ask in machine learning should be one that cannot be easily answered by a rules-based engine. Before building the model, tasks such as collecting and preparing data, selecting feature variables, visualizing data, and splitting the dataset need to be completed. Building the model involves choosing a training method, training the model, and evaluating its quality. Parameter tuning can be done to improve the model's performance. Finally, predictions can be made using new data. It is important to be aware of issues such as overfitting and underfitting. The process of machine learning requires continuous learning and improvement, and it is helpful to draw a flow chart to understand the steps involved.\"}\n",
      "{\"kb\": \"Introduction to machine learning\", \"content\": \"Welcome to this course on classical machine learning for beginners! In this course, you will learn the core concepts of machine learning, the history of ML, ML and fairness, regression ML techniques, classification ML techniques, clustering ML techniques, natural language processing ML techniques, time series forecasting ML techniques, reinforcement learning, and real-world applications for ML. The course will not cover deep learning, neural networks, and AI. Machine learning automates the process of pattern-discovery by finding meaningful insights from data and has applications in various fields such as finance, economics, earth science, and biomedical engineering. Understanding the basics of machine learning is becoming essential in today's world.\"}\n"
     ]
    }
   ],
   "source": [
    "foreach(var file in notesFiles)\n",
    "{\n",
    "    string content = File.ReadAllText(file.FullName);\n",
    "    var jsonResult = await kernel.InvokeAsync( filePlugin[\"Notes\"],new(){[\"input\"] = content});\n",
    "    Console.WriteLine(jsonResult.ToString());\n",
    "    var result = JsonSerializer.Deserialize<KB>(jsonResult.ToString());\n",
    "    kbList.Add(result);\n",
    "}"
   ]
  },
  {
   "cell_type": "code",
   "execution_count": 13,
   "metadata": {
    "dotnet_interactive": {
     "language": "csharp"
    },
    "polyglot_notebook": {
     "kernelName": "csharp"
    },
    "vscode": {
     "languageId": "polyglot-notebook"
    }
   },
   "outputs": [
    {
     "data": {
      "text/html": [
       "<table><thead><tr><th><i>index</i></th><th>value</th></tr></thead><tbody><tr><td>0</td><td><details class=\"dni-treeview\"><summary><span class=\"dni-code-hint\"><code>Submission#7+KB</code></span></summary><div><table><thead><tr></tr></thead><tbody><tr><td>kb</td><td><div class=\"dni-plaintext\"><pre>Alan Turing and the Turing test</pre></div></td></tr><tr><td>content</td><td><div class=\"dni-plaintext\"><pre>Alan Turing is credited with helping to lay the foundation for the concept of a machine that can think. He created the Turing test in 1950, where an interrogator questions both a human and a computer to determine which one is which.</pre></div></td></tr></tbody></table></div></details></td></tr><tr><td>1</td><td><details class=\"dni-treeview\"><summary><span class=\"dni-code-hint\"><code>Submission#7+KB</code></span></summary><div><table><thead><tr></tr></thead><tbody><tr><td>kb</td><td><div class=\"dni-plaintext\"><pre>The Dartmouth Summer Research Project on AI</pre></div></td></tr><tr><td>content</td><td><div class=\"dni-plaintext\"><pre>The term artificial intelligence was coined in 1956 at the Dartmouth College conference. This event marked the birth of AI research.</pre></div></td></tr></tbody></table></div></details></td></tr><tr><td>2</td><td><details class=\"dni-treeview\"><summary><span class=\"dni-code-hint\"><code>Submission#7+KB</code></span></summary><div><table><thead><tr></tr></thead><tbody><tr><td>kb</td><td><div class=\"dni-plaintext\"><pre>The golden years of AI</pre></div></td></tr><tr><td>content</td><td><div class=\"dni-plaintext\"><pre>From 1956 to 1974, known as the Golden Years of AI, there was optimism and hope that AI could solve many problems. Natural language processing research flourished, computation and algorithms advanced, and prototypes of intelligent machines were built.</pre></div></td></tr></tbody></table></div></details></td></tr><tr><td>3</td><td><details class=\"dni-treeview\"><summary><span class=\"dni-code-hint\"><code>Submission#7+KB</code></span></summary><div><table><thead><tr></tr></thead><tbody><tr><td>kb</td><td><div class=\"dni-plaintext\"><pre>The AI winter</pre></div></td></tr><tr><td>content</td><td><div class=\"dni-plaintext\"><pre>In the 1970s, it became apparent that making intelligent machines was more complex than anticipated. Funding dried up, and confidence in the field slowed, marking the beginning of an AI winter.</pre></div></td></tr></tbody></table></div></details></td></tr><tr><td>4</td><td><details class=\"dni-treeview\"><summary><span class=\"dni-code-hint\"><code>Submission#7+KB</code></span></summary><div><table><thead><tr></tr></thead><tbody><tr><td>kb</td><td><div class=\"dni-plaintext\"><pre>Resurgence and fall of AI for expert systems</pre></div></td></tr><tr><td>content</td><td><div class=\"dni-plaintext\"><pre>In the 1980s, there was a resurgence of optimism as expert systems became more successful. However, they were too specialized and unlikely to achieve machine intelligence. The rise of personal computers also competed with these systems.</pre></div></td></tr></tbody></table></div></details></td></tr><tr><td>5</td><td><details class=\"dni-treeview\"><summary><span class=\"dni-code-hint\"><code>Submission#7+KB</code></span></summary><div><table><thead><tr></tr></thead><tbody><tr><td>kb</td><td><div class=\"dni-plaintext\"><pre>Growth in AI driven by more data and more powerful hardware</pre></div></td></tr><tr><td>content</td><td><div class=\"dni-plaintext\"><pre>In the mid-1990s, compute and storage capabilities grew exponentially, enabling the processing of larger data sets. The rise of the internet and smartphones contributed to increasing amounts of data. Throughout the 2000s, significant advancements were made in computer vision and natural language processing.</pre></div></td></tr></tbody></table></div></details></td></tr><tr><td>6</td><td><details class=\"dni-treeview\"><summary><span class=\"dni-code-hint\"><code>Submission#7+KB</code></span></summary><div><table><thead><tr></tr></thead><tbody><tr><td>kb</td><td><div class=\"dni-plaintext\"><pre>Big Data</pre></div></td></tr><tr><td>content</td><td><div class=\"dni-plaintext\"><pre>In the past decade, machine learning has been capable of solving even more problems due to the growth in compute power and the size of data sets. Machine learning now touches almost every part of our lives.</pre></div></td></tr></tbody></table></div></details></td></tr><tr><td>7</td><td><details class=\"dni-treeview\"><summary><span class=\"dni-code-hint\"><code>Submission#7+KB</code></span></summary><div><table><thead><tr></tr></thead><tbody><tr><td>kb</td><td><div class=\"dni-plaintext\"><pre>Increased awareness of ethical and responsible AI</pre></div></td></tr><tr><td>content</td><td><div class=\"dni-plaintext\"><pre>There is an increased awareness of potential ethical issues in machine learning and significant research in the field of responsible AI. The goal is to have AI that is responsible and doesn&#39;t amplify human bias.</pre></div></td></tr></tbody></table></div></details></td></tr><tr><td>8</td><td><details class=\"dni-treeview\"><summary><span class=\"dni-code-hint\"><code>Submission#7+KB</code></span></summary><div><table><thead><tr></tr></thead><tbody><tr><td>kb</td><td><div class=\"dni-plaintext\"><pre>Introducing ML for Beginners</pre></div></td></tr><tr><td>content</td><td><div class=\"dni-plaintext\"><pre>based on the free open source 26 lesson ml for beginners curriculum from Microsoft</pre></div></td></tr></tbody></table></div></details></td></tr><tr><td>9</td><td><details class=\"dni-treeview\"><summary><span class=\"dni-code-hint\"><code>Submission#7+KB</code></span></summary><div><table><thead><tr></tr></thead><tbody><tr><td>kb</td><td><div class=\"dni-plaintext\"><pre>The difference between AI and ML</pre></div></td></tr><tr><td>content</td><td><div class=\"dni-plaintext\"><pre>AI is a science of getting machines to accomplish tasks that typically require human level intelligence</pre></div></td></tr></tbody></table></div></details></td></tr><tr><td>10</td><td><details class=\"dni-treeview\"><summary><span class=\"dni-code-hint\"><code>Submission#7+KB</code></span></summary><div><table><thead><tr></tr></thead><tbody><tr><td>kb</td><td><div class=\"dni-plaintext\"><pre>What you&#39;ll learn in this course</pre></div></td></tr><tr><td>content</td><td><div class=\"dni-plaintext\"><pre>going to cover what we call classical machine learning you&#39;ll learn some Core Concepts of ml a bit of History statistical techniques like regression classification clustering and more</pre></div></td></tr></tbody></table></div></details></td></tr><tr><td>11</td><td><details class=\"dni-treeview\"><summary><span class=\"dni-code-hint\"><code>Submission#7+KB</code></span></summary><div><table><thead><tr></tr></thead><tbody><tr><td>kb</td><td><div class=\"dni-plaintext\"><pre>Advanced Techniques</pre></div></td></tr><tr><td>content</td><td><div class=\"dni-plaintext\"><pre>the concepts you&#39;ll learn here will serve you well as you progress to more</pre></div></td></tr></tbody></table></div></details></td></tr><tr><td>12</td><td><details class=\"dni-treeview\"><summary><span class=\"dni-code-hint\"><code>Submission#7+KB</code></span></summary><div><table><thead><tr></tr></thead><tbody><tr><td>kb</td><td><div class=\"dni-plaintext\"><pre>Why study Machine Learning</pre></div></td></tr><tr><td>content</td><td><div class=\"dni-plaintext\"><pre>Hot Topic because it&#39;s solving complex real-world problems in so many areas Finance earth science space exploration cognitive science and many more Fields have adopted machine learning to solve problems specific to their domains</pre></div></td></tr></tbody></table></div></details></td></tr><tr><td>13</td><td><details class=\"dni-treeview\"><summary><span class=\"dni-code-hint\"><code>Submission#7+KB</code></span></summary><div><table><thead><tr></tr></thead><tbody><tr><td>kb</td><td><div class=\"dni-plaintext\"><pre>Decide if AI is the right approach</pre></div></td></tr><tr><td>content</td><td><div class=\"dni-plaintext\"><pre>traditional software is well suited to solve problems where the solution can be described as a formal set of rules in contrast AI shines in solving problems where the solution can be extracted from data many of the problems we encountered in our daily life can be efficiently solved with traditional programming if an engineer can break up the solution of a problem and Define it using precise rules then traditional programming is a great tool to use but many of the problems we encounter in our day-to-day aren&#39;t quite as easy to Define as a set of rules thankfully for many of those problems we have access to plenty of real life data containing useful information which means that AI can help us find a solution one good example is translating from one language to another writing a set of rules that full encodes all the parallels between two languages is not easy but there are many examples of translation online so AI has been able to do a much better job of translation than previous attempts so our first step when we&#39;re starting a new project should be to analyze the problem and determine which technique is best to solve it if you&#39;re able to obtain plenty of data that contains useful information about your solution then AI is a promising approach once you decided that</pre></div></td></tr></tbody></table></div></details></td></tr><tr><td>14</td><td><details class=\"dni-treeview\"><summary><span class=\"dni-code-hint\"><code>Submission#7+KB</code></span></summary><div><table><thead><tr></tr></thead><tbody><tr><td>kb</td><td><div class=\"dni-plaintext\"><pre>Collect and prepare data</pre></div></td></tr><tr><td>content</td><td><div class=\"dni-plaintext\"><pre>AI is the right method for you you need to collect and prepare your data for example you may need to normalize it or convert it to a different form or remove rows that are missing certain Fields once your data is clean you need to decide about which aspects of your data or features you&#39;re going to use as input to your prediction and which feature you want to predict for example if you have medical data you may decide to use features that describe the patient&#39;s medical history as input and a chance of a particular disease as the output feature you want to predict and finally you need to split your data into training and test sets a usual split is 80 for your training data and 20 for test</pre></div></td></tr></tbody></table></div></details></td></tr><tr><td>15</td><td><details class=\"dni-treeview\"><summary><span class=\"dni-code-hint\"><code>Submission#7+KB</code></span></summary><div><table><thead><tr></tr></thead><tbody><tr><td>kb</td><td><div class=\"dni-plaintext\"><pre>Train your model</pre></div></td></tr><tr><td>content</td><td><div class=\"dni-plaintext\"><pre>next you need to choose a machine learning algorithm which you&#39;ll learn a lot about in the coming videos if you&#39;re undecided between a few good algorithms you may want to try them all and see which one performs best then you need to train your model using the training set you collected earlier and the algorithm you chose training a model may take a while especially if the model is large</pre></div></td></tr></tbody></table></div></details></td></tr><tr><td>16</td><td><details class=\"dni-treeview\"><summary><span class=\"dni-code-hint\"><code>Submission#7+KB</code></span></summary><div><table><thead><tr></tr></thead><tbody><tr><td>kb</td><td><div class=\"dni-plaintext\"><pre>Evaluate your model</pre></div></td></tr><tr><td>content</td><td><div class=\"dni-plaintext\"><pre>once the model is trained you can test it using the test data set that you split earlier it&#39;s important that you test the algorithm with data that it hasn&#39;t seen during training to ensure that it generalizes well to new scenarios</pre></div></td></tr></tbody></table></div></details></td></tr><tr><td>17</td><td><details class=\"dni-treeview\"><summary><span class=\"dni-code-hint\"><code>Submission#7+KB</code></span></summary><div><table><thead><tr></tr></thead><tbody><tr><td>kb</td><td><div class=\"dni-plaintext\"><pre>Tune the hyperparameters</pre></div></td></tr><tr><td>content</td><td><div class=\"dni-plaintext\"><pre>some algorithms contain hyper parameters which are settings that control key aspects of their inner workings choosing good hyper parameters is important because they can make a big difference in your results if you want to be systematic about your hyper parameter search you can write code that tries lots of different combinations and helps you discover the best values for your data once you get good test results it&#39;s time to see how well your model performs within the context of its intended use</pre></div></td></tr></tbody></table></div></details></td></tr><tr><td>18</td><td><details class=\"dni-treeview\"><summary><span class=\"dni-code-hint\"><code>Submission#7+KB</code></span></summary><div><table><thead><tr></tr></thead><tbody><tr><td>kb</td><td><div class=\"dni-plaintext\"><pre>Test the model in the real world</pre></div></td></tr><tr><td>content</td><td><div class=\"dni-plaintext\"><pre>for example this could involve collecting live data from a sensor and using it to make predictions or deploying a model to a few users of your application if it all looks good then you&#39;re ready to release it to production and enjoy its benefits make sure you watch the next video where we&#39;ll start getting Hands-On with machine learning by configuring all the tools we&#39;ll use in the rest of the series I&#39;ll see you there</pre></div></td></tr></tbody></table></div></details></td></tr><tr><td>19</td><td><details class=\"dni-treeview\"><summary><span class=\"dni-code-hint\"><code>Submission#7+KB</code></span></summary><div><table><thead><tr></tr></thead><tbody><tr><td>kb</td><td><div class=\"dni-plaintext\"><pre>History of machine learning</pre></div></td></tr><tr><td>content</td><td><div class=\"dni-plaintext\"><pre>This lesson provides a brief overview of the history of machine learning and artificial intelligence. It covers notable discoveries such as Bayes Theorem, Least Square Theory, Markov Chains, Perceptron, Nearest Neighbor, Backpropagation, and Recurrent Neural Networks. It also discusses key milestones in the history of AI, including Alan Turing&#39;s concept of a &#39;machine that can think,&#39; the Dartmouth Summer Research Project, the &#39;golden years&#39; of AI, the &#39;AI Winter,&#39; the rise of expert systems, and the modern era of ML and AI. The lesson emphasizes the importance of understanding the risks and potential effects of these technologies on human lives.</pre></div></td></tr></tbody></table></div></details></td></tr><tr><td colspan=\"2\"><i>(2 more)</i></td></tr></tbody></table><style>\r\n",
       ".dni-code-hint {\r\n",
       "    font-style: italic;\r\n",
       "    overflow: hidden;\r\n",
       "    white-space: nowrap;\r\n",
       "}\r\n",
       ".dni-treeview {\r\n",
       "    white-space: nowrap;\r\n",
       "}\r\n",
       ".dni-treeview td {\r\n",
       "    vertical-align: top;\r\n",
       "    text-align: start;\r\n",
       "}\r\n",
       "details.dni-treeview {\r\n",
       "    padding-left: 1em;\r\n",
       "}\r\n",
       "table td {\r\n",
       "    text-align: start;\r\n",
       "}\r\n",
       "table tr { \r\n",
       "    vertical-align: top; \r\n",
       "    margin: 0em 0px;\r\n",
       "}\r\n",
       "table tr td pre \r\n",
       "{ \r\n",
       "    vertical-align: top !important; \r\n",
       "    margin: 0em 0px !important;\r\n",
       "} \r\n",
       "table th {\r\n",
       "    text-align: start;\r\n",
       "}\r\n",
       "</style>"
      ]
     },
     "metadata": {},
     "output_type": "display_data"
    }
   ],
   "source": [
    "kbList"
   ]
  },
  {
   "cell_type": "code",
   "execution_count": 14,
   "metadata": {
    "dotnet_interactive": {
     "language": "csharp"
    },
    "polyglot_notebook": {
     "kernelName": "csharp"
    },
    "vscode": {
     "languageId": "polyglot-notebook"
    }
   },
   "outputs": [],
   "source": [
    "#pragma warning disable SKEXP0003\n",
    "#pragma warning disable SKEXP0011\n",
    "#pragma warning disable SKEXP0026\n",
    "\n",
    "\n",
    "var textEmbedding = new AzureOpenAITextEmbeddingGenerationService(\"Your Azure OpenAI Service Embedding Models Deployment Name\" , \"Your Azure OpenAI Service Endpoint\", \"Your Azure OpenAI Service API Key\");\n",
    "\n",
    "var qdrantMemoryBuilder = new MemoryBuilder();\n",
    "qdrantMemoryBuilder.WithTextEmbeddingGeneration(textEmbedding);\n",
    "qdrantMemoryBuilder.WithQdrantMemoryStore(\"http://localhost:6333\", 1536);\n",
    "\n",
    "var qdrantBuilder = qdrantMemoryBuilder.Build();"
   ]
  },
  {
   "cell_type": "code",
   "execution_count": 15,
   "metadata": {
    "dotnet_interactive": {
     "language": "csharp"
    },
    "polyglot_notebook": {
     "kernelName": "csharp"
    },
    "vscode": {
     "languageId": "polyglot-notebook"
    }
   },
   "outputs": [],
   "source": [
    "string MemoryCollectionName = \"kb_collection\";\n",
    "int index = 1;\n",
    "\n",
    "\n",
    "foreach(var item in kbList)\n",
    "{\n",
    "    await qdrantBuilder.SaveInformationAsync(MemoryCollectionName, id: \"index\"+(index++).ToString(), text: item.kb + \" -  \" + item.content);\n",
    "}"
   ]
  },
  {
   "cell_type": "code",
   "execution_count": 16,
   "metadata": {
    "dotnet_interactive": {
     "language": "csharp"
    },
    "polyglot_notebook": {
     "kernelName": "csharp"
    },
    "vscode": {
     "languageId": "polyglot-notebook"
    }
   },
   "outputs": [],
   "source": [
    "var searchResults =  qdrantBuilder.SearchAsync(MemoryCollectionName, \"can you tell me what is different ML and AI\", limit: 1, minRelevanceScore: 0.8);"
   ]
  },
  {
   "cell_type": "code",
   "execution_count": 17,
   "metadata": {
    "dotnet_interactive": {
     "language": "csharp"
    },
    "polyglot_notebook": {
     "kernelName": "csharp"
    },
    "vscode": {
     "languageId": "polyglot-notebook"
    }
   },
   "outputs": [
    {
     "name": "stdout",
     "output_type": "stream",
     "text": [
      "and ML, or machine learning, is a subset of AI that focuses on teaching machines to learn from data and perform tasks without explicitly being programmed. While AI aims to develop machines that can think and reason like humans, ML focuses on developing algorithms and models that enable machines to learn and make predictions or decisions based on patterns in data.\n",
      "\n",
      "AI is a broader field that encompasses various techniques and approaches to mimic human intelligence. It involves understanding natural language, recognizing speech and images, reasoning and making decisions, and even emotions. AI can be categorized into two types: narrow AI and general AI. Narrow AI refers to AI systems that are designed to perform a specific task, such as voice assistants, chatbots, or recommendation systems. General AI, on the other hand, refers to AI systems that can perform any intellectual task that a human being can do.\n",
      "\n",
      "ML, as a subfield of AI, focuses on enabling machines to learn from data and improve their performance over time without being explicitly programmed. Instead of being given specific instructions, ML algorithms learn from examples and experience to make predictions or take actions. The key idea behind ML is that machines can automatically learn and adapt without being explicitly programmed for every possible scenario.\n",
      "\n",
      "ML algorithms can be divided into supervised learning, unsupervised learning, and reinforcement learning. In supervised learning, the algorithm is provided with labeled data, where each example has a corresponding label or target value. The algorithm learns by finding patterns and relationships between the input features and the target variable. This type of learning is commonly used in applications such as image recognition, text classification, and predictive modeling.\n",
      "\n",
      "Unsupervised learning, on the other hand, deals with unlabeled data, where the algorithm has to find patterns or structures in the data without any explicit guidance. Clustering and dimensionality reduction are common techniques used in unsupervised learning. It is often used for tasks like customer segmentation, anomaly detection, and recommendation systems.\n",
      "\n",
      "Reinforcement learning involves developing algorithms that allow machines to learn through trial and error. The algorithm interacts with an environment and learns to take actions that maximize a reward signal and achieve a specific goal. This type of learning is commonly used in robotics, game playing, and optimization problems.\n",
      "\n",
      "In summary, AI is a broad field that aims to develop machines that can think and reason like humans, while ML is a subset of AI that focuses on teaching machines to learn from data and perform tasks without explicit programming. ML algorithms learn from examples and experience to make predictions or take actions, and they can be categorized into supervised learning, unsupervised learning, and reinforcement learning. Both AI and ML have the potential to revolutionize various industries and improve the way we live and work.\n"
     ]
    }
   ],
   "source": [
    "await foreach (var item in searchResults)\n",
    "{\n",
    "    var answer = await kernel.InvokeAsync(answerPlugin[\"Summary\"],new(){[\"input\"] = item.Metadata.Text});\n",
    "    Console.WriteLine(answer.ToString());\n",
    "}"
   ]
  },
  {
   "cell_type": "code",
   "execution_count": 18,
   "metadata": {
    "dotnet_interactive": {
     "language": "csharp"
    },
    "polyglot_notebook": {
     "kernelName": "csharp"
    },
    "vscode": {
     "languageId": "polyglot-notebook"
    }
   },
   "outputs": [],
   "source": [
    "var searchResults =  qdrantBuilder.SearchAsync(MemoryCollectionName, \"do you know 1956: Dartmouth Summer Research Project\", limit: 1, minRelevanceScore: 0.8);"
   ]
  },
  {
   "cell_type": "code",
   "execution_count": 19,
   "metadata": {
    "dotnet_interactive": {
     "language": "csharp"
    },
    "polyglot_notebook": {
     "kernelName": "csharp"
    },
    "vscode": {
     "languageId": "polyglot-notebook"
    }
   },
   "outputs": [
    {
     "name": "stdout",
     "output_type": "stream",
     "text": [
      "The Dartmouth Summer Research Project on AI, which took place in 1956, is widely regarded as the starting point of artificial intelligence (AI) research. It was during this conference at Dartmouth College that the term \"artificial intelligence\" was first coined. This significant event brought together a group of visionaries and experts in various fields to explore the potential of creating machines that could mimic human intelligence. The aim was to develop algorithms and models that could enable computers to think, reason, and solve problems like humans. The scholars at Dartmouth College believed that AI could revolutionize technology and bring about a new era of innovation. This project laid the groundwork for further research and development in AI, which has since progressed rapidly and continues to shape various aspects of our lives today.\n"
     ]
    }
   ],
   "source": [
    "await foreach (var item in searchResults)\n",
    "{\n",
    "    var answer = await kernel.InvokeAsync(answerPlugin[\"Summary\"],new(){[\"input\"] = item.Metadata.Text});\n",
    "    Console.WriteLine(answer.ToString());\n",
    "}"
   ]
  }
 ],
 "metadata": {
  "language_info": {
   "name": "python"
  }
 },
 "nbformat": 4,
 "nbformat_minor": 2
}
