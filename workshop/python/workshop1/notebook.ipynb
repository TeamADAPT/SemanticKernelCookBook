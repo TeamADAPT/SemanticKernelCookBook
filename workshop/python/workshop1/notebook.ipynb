{
 "cells": [
  {
   "cell_type": "code",
   "execution_count": 1,
   "metadata": {},
   "outputs": [
    {
     "name": "stdout",
     "output_type": "stream",
     "text": [
      "Requirement already satisfied: semantic-kernel in /Users/lokinfey/conda/envs/skdev/lib/python3.10/site-packages (0.9.2b1)\n",
      "Requirement already satisfied: aiohttp<4.0,>=3.8 in /Users/lokinfey/conda/envs/skdev/lib/python3.10/site-packages (from semantic-kernel) (3.9.3)\n",
      "Requirement already satisfied: defusedxml<0.8.0,>=0.7.1 in /Users/lokinfey/conda/envs/skdev/lib/python3.10/site-packages (from semantic-kernel) (0.7.1)\n",
      "Requirement already satisfied: grpcio>=1.50.0 in /Users/lokinfey/conda/envs/skdev/lib/python3.10/site-packages (from semantic-kernel) (1.60.1)\n",
      "Requirement already satisfied: motor<4.0.0,>=3.3.2 in /Users/lokinfey/conda/envs/skdev/lib/python3.10/site-packages (from semantic-kernel) (3.3.2)\n",
      "Requirement already satisfied: numpy>=1.25 in /Users/lokinfey/conda/envs/skdev/lib/python3.10/site-packages (from semantic-kernel) (1.26.4)\n",
      "Requirement already satisfied: openai>=1.0 in /Users/lokinfey/conda/envs/skdev/lib/python3.10/site-packages (from semantic-kernel) (1.12.0)\n",
      "Requirement already satisfied: openapi_core<0.19.0,>=0.18.0 in /Users/lokinfey/conda/envs/skdev/lib/python3.10/site-packages (from semantic-kernel) (0.18.2)\n",
      "Requirement already satisfied: prance<24.0.0.0,>=23.6.21.0 in /Users/lokinfey/conda/envs/skdev/lib/python3.10/site-packages (from semantic-kernel) (23.6.21.0)\n",
      "Requirement already satisfied: pydantic<3,>=2 in /Users/lokinfey/conda/envs/skdev/lib/python3.10/site-packages (from semantic-kernel) (2.6.1)\n",
      "Requirement already satisfied: python-dotenv<2.0.0,>=1.0.1 in /Users/lokinfey/conda/envs/skdev/lib/python3.10/site-packages (from semantic-kernel) (1.0.1)\n",
      "Requirement already satisfied: regex<2024.0.0,>=2023.6.3 in /Users/lokinfey/conda/envs/skdev/lib/python3.10/site-packages (from semantic-kernel) (2023.12.25)\n",
      "Requirement already satisfied: scipy>=1.5.0 in /Users/lokinfey/conda/envs/skdev/lib/python3.10/site-packages (from semantic-kernel) (1.12.0)\n",
      "Requirement already satisfied: aiosignal>=1.1.2 in /Users/lokinfey/conda/envs/skdev/lib/python3.10/site-packages (from aiohttp<4.0,>=3.8->semantic-kernel) (1.3.1)\n",
      "Requirement already satisfied: attrs>=17.3.0 in /Users/lokinfey/conda/envs/skdev/lib/python3.10/site-packages (from aiohttp<4.0,>=3.8->semantic-kernel) (23.2.0)\n",
      "Requirement already satisfied: frozenlist>=1.1.1 in /Users/lokinfey/conda/envs/skdev/lib/python3.10/site-packages (from aiohttp<4.0,>=3.8->semantic-kernel) (1.4.1)\n",
      "Requirement already satisfied: multidict<7.0,>=4.5 in /Users/lokinfey/conda/envs/skdev/lib/python3.10/site-packages (from aiohttp<4.0,>=3.8->semantic-kernel) (6.0.5)\n",
      "Requirement already satisfied: yarl<2.0,>=1.0 in /Users/lokinfey/conda/envs/skdev/lib/python3.10/site-packages (from aiohttp<4.0,>=3.8->semantic-kernel) (1.9.4)\n",
      "Requirement already satisfied: async-timeout<5.0,>=4.0 in /Users/lokinfey/conda/envs/skdev/lib/python3.10/site-packages (from aiohttp<4.0,>=3.8->semantic-kernel) (4.0.3)\n",
      "Requirement already satisfied: pymongo<5,>=4.5 in /Users/lokinfey/conda/envs/skdev/lib/python3.10/site-packages (from motor<4.0.0,>=3.3.2->semantic-kernel) (4.6.1)\n",
      "Requirement already satisfied: anyio<5,>=3.5.0 in /Users/lokinfey/conda/envs/skdev/lib/python3.10/site-packages (from openai>=1.0->semantic-kernel) (4.2.0)\n",
      "Requirement already satisfied: distro<2,>=1.7.0 in /Users/lokinfey/conda/envs/skdev/lib/python3.10/site-packages (from openai>=1.0->semantic-kernel) (1.9.0)\n",
      "Requirement already satisfied: httpx<1,>=0.23.0 in /Users/lokinfey/conda/envs/skdev/lib/python3.10/site-packages (from openai>=1.0->semantic-kernel) (0.26.0)\n",
      "Requirement already satisfied: sniffio in /Users/lokinfey/conda/envs/skdev/lib/python3.10/site-packages (from openai>=1.0->semantic-kernel) (1.3.0)\n",
      "Requirement already satisfied: tqdm>4 in /Users/lokinfey/conda/envs/skdev/lib/python3.10/site-packages (from openai>=1.0->semantic-kernel) (4.66.2)\n",
      "Requirement already satisfied: typing-extensions<5,>=4.7 in /Users/lokinfey/conda/envs/skdev/lib/python3.10/site-packages (from openai>=1.0->semantic-kernel) (4.9.0)\n",
      "Requirement already satisfied: asgiref<4.0.0,>=3.6.0 in /Users/lokinfey/conda/envs/skdev/lib/python3.10/site-packages (from openapi_core<0.19.0,>=0.18.0->semantic-kernel) (3.7.2)\n",
      "Requirement already satisfied: isodate in /Users/lokinfey/conda/envs/skdev/lib/python3.10/site-packages (from openapi_core<0.19.0,>=0.18.0->semantic-kernel) (0.6.1)\n",
      "Requirement already satisfied: jsonschema<5.0.0,>=4.18.0 in /Users/lokinfey/conda/envs/skdev/lib/python3.10/site-packages (from openapi_core<0.19.0,>=0.18.0->semantic-kernel) (4.21.1)\n",
      "Requirement already satisfied: jsonschema-spec<0.3.0,>=0.2.3 in /Users/lokinfey/conda/envs/skdev/lib/python3.10/site-packages (from openapi_core<0.19.0,>=0.18.0->semantic-kernel) (0.2.4)\n",
      "Requirement already satisfied: more-itertools in /Users/lokinfey/conda/envs/skdev/lib/python3.10/site-packages (from openapi_core<0.19.0,>=0.18.0->semantic-kernel) (10.2.0)\n",
      "Requirement already satisfied: openapi-schema-validator<0.7.0,>=0.6.0 in /Users/lokinfey/conda/envs/skdev/lib/python3.10/site-packages (from openapi_core<0.19.0,>=0.18.0->semantic-kernel) (0.6.2)\n",
      "Requirement already satisfied: openapi-spec-validator<0.8.0,>=0.7.1 in /Users/lokinfey/conda/envs/skdev/lib/python3.10/site-packages (from openapi_core<0.19.0,>=0.18.0->semantic-kernel) (0.7.1)\n",
      "Requirement already satisfied: parse in /Users/lokinfey/conda/envs/skdev/lib/python3.10/site-packages (from openapi_core<0.19.0,>=0.18.0->semantic-kernel) (1.20.1)\n",
      "Requirement already satisfied: werkzeug in /Users/lokinfey/conda/envs/skdev/lib/python3.10/site-packages (from openapi_core<0.19.0,>=0.18.0->semantic-kernel) (3.0.1)\n",
      "Requirement already satisfied: chardet>=3.0 in /Users/lokinfey/conda/envs/skdev/lib/python3.10/site-packages (from prance<24.0.0.0,>=23.6.21.0->semantic-kernel) (5.2.0)\n",
      "Requirement already satisfied: ruamel.yaml>=0.17.10 in /Users/lokinfey/conda/envs/skdev/lib/python3.10/site-packages (from prance<24.0.0.0,>=23.6.21.0->semantic-kernel) (0.18.6)\n",
      "Requirement already satisfied: requests>=2.25 in /Users/lokinfey/conda/envs/skdev/lib/python3.10/site-packages (from prance<24.0.0.0,>=23.6.21.0->semantic-kernel) (2.31.0)\n",
      "Requirement already satisfied: six~=1.15 in /Users/lokinfey/conda/envs/skdev/lib/python3.10/site-packages (from prance<24.0.0.0,>=23.6.21.0->semantic-kernel) (1.16.0)\n",
      "Requirement already satisfied: packaging>=21.3 in /Users/lokinfey/conda/envs/skdev/lib/python3.10/site-packages (from prance<24.0.0.0,>=23.6.21.0->semantic-kernel) (23.2)\n",
      "Requirement already satisfied: annotated-types>=0.4.0 in /Users/lokinfey/conda/envs/skdev/lib/python3.10/site-packages (from pydantic<3,>=2->semantic-kernel) (0.6.0)\n",
      "Requirement already satisfied: pydantic-core==2.16.2 in /Users/lokinfey/conda/envs/skdev/lib/python3.10/site-packages (from pydantic<3,>=2->semantic-kernel) (2.16.2)\n",
      "Requirement already satisfied: idna>=2.8 in /Users/lokinfey/conda/envs/skdev/lib/python3.10/site-packages (from anyio<5,>=3.5.0->openai>=1.0->semantic-kernel) (3.6)\n",
      "Requirement already satisfied: exceptiongroup>=1.0.2 in /Users/lokinfey/conda/envs/skdev/lib/python3.10/site-packages (from anyio<5,>=3.5.0->openai>=1.0->semantic-kernel) (1.2.0)\n",
      "Requirement already satisfied: certifi in /Users/lokinfey/conda/envs/skdev/lib/python3.10/site-packages (from httpx<1,>=0.23.0->openai>=1.0->semantic-kernel) (2024.2.2)\n",
      "Requirement already satisfied: httpcore==1.* in /Users/lokinfey/conda/envs/skdev/lib/python3.10/site-packages (from httpx<1,>=0.23.0->openai>=1.0->semantic-kernel) (1.0.2)\n",
      "Requirement already satisfied: h11<0.15,>=0.13 in /Users/lokinfey/conda/envs/skdev/lib/python3.10/site-packages (from httpcore==1.*->httpx<1,>=0.23.0->openai>=1.0->semantic-kernel) (0.14.0)\n",
      "Requirement already satisfied: jsonschema-specifications>=2023.03.6 in /Users/lokinfey/conda/envs/skdev/lib/python3.10/site-packages (from jsonschema<5.0.0,>=4.18.0->openapi_core<0.19.0,>=0.18.0->semantic-kernel) (2023.7.1)\n",
      "Requirement already satisfied: referencing>=0.28.4 in /Users/lokinfey/conda/envs/skdev/lib/python3.10/site-packages (from jsonschema<5.0.0,>=4.18.0->openapi_core<0.19.0,>=0.18.0->semantic-kernel) (0.30.2)\n",
      "Requirement already satisfied: rpds-py>=0.7.1 in /Users/lokinfey/conda/envs/skdev/lib/python3.10/site-packages (from jsonschema<5.0.0,>=4.18.0->openapi_core<0.19.0,>=0.18.0->semantic-kernel) (0.18.0)\n",
      "Requirement already satisfied: PyYAML>=5.1 in /Users/lokinfey/conda/envs/skdev/lib/python3.10/site-packages (from jsonschema-spec<0.3.0,>=0.2.3->openapi_core<0.19.0,>=0.18.0->semantic-kernel) (6.0.1)\n",
      "Requirement already satisfied: pathable<0.5.0,>=0.4.1 in /Users/lokinfey/conda/envs/skdev/lib/python3.10/site-packages (from jsonschema-spec<0.3.0,>=0.2.3->openapi_core<0.19.0,>=0.18.0->semantic-kernel) (0.4.3)\n",
      "Requirement already satisfied: rfc3339-validator in /Users/lokinfey/conda/envs/skdev/lib/python3.10/site-packages (from openapi-schema-validator<0.7.0,>=0.6.0->openapi_core<0.19.0,>=0.18.0->semantic-kernel) (0.1.4)\n",
      "Requirement already satisfied: jsonschema-path<0.4.0,>=0.3.1 in /Users/lokinfey/conda/envs/skdev/lib/python3.10/site-packages (from openapi-spec-validator<0.8.0,>=0.7.1->openapi_core<0.19.0,>=0.18.0->semantic-kernel) (0.3.2)\n",
      "Requirement already satisfied: lazy-object-proxy<2.0.0,>=1.7.1 in /Users/lokinfey/conda/envs/skdev/lib/python3.10/site-packages (from openapi-spec-validator<0.8.0,>=0.7.1->openapi_core<0.19.0,>=0.18.0->semantic-kernel) (1.10.0)\n",
      "Requirement already satisfied: dnspython<3.0.0,>=1.16.0 in /Users/lokinfey/conda/envs/skdev/lib/python3.10/site-packages (from pymongo<5,>=4.5->motor<4.0.0,>=3.3.2->semantic-kernel) (2.5.0)\n",
      "Requirement already satisfied: charset-normalizer<4,>=2 in /Users/lokinfey/conda/envs/skdev/lib/python3.10/site-packages (from requests>=2.25->prance<24.0.0.0,>=23.6.21.0->semantic-kernel) (3.3.2)\n",
      "Requirement already satisfied: urllib3<3,>=1.21.1 in /Users/lokinfey/conda/envs/skdev/lib/python3.10/site-packages (from requests>=2.25->prance<24.0.0.0,>=23.6.21.0->semantic-kernel) (2.2.0)\n",
      "Requirement already satisfied: ruamel.yaml.clib>=0.2.7 in /Users/lokinfey/conda/envs/skdev/lib/python3.10/site-packages (from ruamel.yaml>=0.17.10->prance<24.0.0.0,>=23.6.21.0->semantic-kernel) (0.2.8)\n",
      "Requirement already satisfied: MarkupSafe>=2.1.1 in /Users/lokinfey/conda/envs/skdev/lib/python3.10/site-packages (from werkzeug->openapi_core<0.19.0,>=0.18.0->semantic-kernel) (2.1.5)\n",
      "Requirement already satisfied: qdrant_client in /Users/lokinfey/conda/envs/skdev/lib/python3.10/site-packages (1.8.0)\n",
      "Requirement already satisfied: grpcio>=1.41.0 in /Users/lokinfey/conda/envs/skdev/lib/python3.10/site-packages (from qdrant_client) (1.60.1)\n",
      "Requirement already satisfied: grpcio-tools>=1.41.0 in /Users/lokinfey/conda/envs/skdev/lib/python3.10/site-packages (from qdrant_client) (1.60.1)\n",
      "Requirement already satisfied: httpx>=0.14.0 in /Users/lokinfey/conda/envs/skdev/lib/python3.10/site-packages (from httpx[http2]>=0.14.0->qdrant_client) (0.26.0)\n",
      "Requirement already satisfied: numpy>=1.21 in /Users/lokinfey/conda/envs/skdev/lib/python3.10/site-packages (from qdrant_client) (1.26.4)\n",
      "Requirement already satisfied: portalocker<3.0.0,>=2.7.0 in /Users/lokinfey/conda/envs/skdev/lib/python3.10/site-packages (from qdrant_client) (2.8.2)\n",
      "Requirement already satisfied: pydantic>=1.10.8 in /Users/lokinfey/conda/envs/skdev/lib/python3.10/site-packages (from qdrant_client) (2.6.1)\n",
      "Requirement already satisfied: urllib3<3,>=1.26.14 in /Users/lokinfey/conda/envs/skdev/lib/python3.10/site-packages (from qdrant_client) (2.2.0)\n",
      "Requirement already satisfied: protobuf<5.0dev,>=4.21.6 in /Users/lokinfey/conda/envs/skdev/lib/python3.10/site-packages (from grpcio-tools>=1.41.0->qdrant_client) (4.25.2)\n",
      "Requirement already satisfied: setuptools in /Users/lokinfey/conda/envs/skdev/lib/python3.10/site-packages (from grpcio-tools>=1.41.0->qdrant_client) (69.0.3)\n",
      "Requirement already satisfied: anyio in /Users/lokinfey/conda/envs/skdev/lib/python3.10/site-packages (from httpx>=0.14.0->httpx[http2]>=0.14.0->qdrant_client) (4.2.0)\n",
      "Requirement already satisfied: certifi in /Users/lokinfey/conda/envs/skdev/lib/python3.10/site-packages (from httpx>=0.14.0->httpx[http2]>=0.14.0->qdrant_client) (2024.2.2)\n",
      "Requirement already satisfied: httpcore==1.* in /Users/lokinfey/conda/envs/skdev/lib/python3.10/site-packages (from httpx>=0.14.0->httpx[http2]>=0.14.0->qdrant_client) (1.0.2)\n",
      "Requirement already satisfied: idna in /Users/lokinfey/conda/envs/skdev/lib/python3.10/site-packages (from httpx>=0.14.0->httpx[http2]>=0.14.0->qdrant_client) (3.6)\n",
      "Requirement already satisfied: sniffio in /Users/lokinfey/conda/envs/skdev/lib/python3.10/site-packages (from httpx>=0.14.0->httpx[http2]>=0.14.0->qdrant_client) (1.3.0)\n",
      "Requirement already satisfied: h11<0.15,>=0.13 in /Users/lokinfey/conda/envs/skdev/lib/python3.10/site-packages (from httpcore==1.*->httpx>=0.14.0->httpx[http2]>=0.14.0->qdrant_client) (0.14.0)\n",
      "Requirement already satisfied: h2<5,>=3 in /Users/lokinfey/conda/envs/skdev/lib/python3.10/site-packages (from httpx[http2]>=0.14.0->qdrant_client) (4.1.0)\n",
      "Requirement already satisfied: annotated-types>=0.4.0 in /Users/lokinfey/conda/envs/skdev/lib/python3.10/site-packages (from pydantic>=1.10.8->qdrant_client) (0.6.0)\n",
      "Requirement already satisfied: pydantic-core==2.16.2 in /Users/lokinfey/conda/envs/skdev/lib/python3.10/site-packages (from pydantic>=1.10.8->qdrant_client) (2.16.2)\n",
      "Requirement already satisfied: typing-extensions>=4.6.1 in /Users/lokinfey/conda/envs/skdev/lib/python3.10/site-packages (from pydantic>=1.10.8->qdrant_client) (4.9.0)\n",
      "Requirement already satisfied: hyperframe<7,>=6.0 in /Users/lokinfey/conda/envs/skdev/lib/python3.10/site-packages (from h2<5,>=3->httpx[http2]>=0.14.0->qdrant_client) (6.0.1)\n",
      "Requirement already satisfied: hpack<5,>=4.0 in /Users/lokinfey/conda/envs/skdev/lib/python3.10/site-packages (from h2<5,>=3->httpx[http2]>=0.14.0->qdrant_client) (4.0.0)\n",
      "Requirement already satisfied: exceptiongroup>=1.0.2 in /Users/lokinfey/conda/envs/skdev/lib/python3.10/site-packages (from anyio->httpx>=0.14.0->httpx[http2]>=0.14.0->qdrant_client) (1.2.0)\n"
     ]
    }
   ],
   "source": [
    "! pip install semantic-kernel -U\n",
    "! pip install qdrant_client -U"
   ]
  },
  {
   "cell_type": "code",
   "execution_count": 2,
   "metadata": {},
   "outputs": [],
   "source": [
    "import os\n",
    "import json"
   ]
  },
  {
   "cell_type": "code",
   "execution_count": 3,
   "metadata": {},
   "outputs": [],
   "source": [
    "import semantic_kernel as sk\n",
    "from dotenv import load_dotenv\n",
    "import semantic_kernel.connectors.ai.open_ai as skaoai"
   ]
  },
  {
   "cell_type": "code",
   "execution_count": 4,
   "metadata": {},
   "outputs": [],
   "source": [
    "kernel = sk.Kernel()\n",
    "deployment, api_key, endpoint = sk.azure_openai_settings_from_dot_env()"
   ]
  },
  {
   "cell_type": "code",
   "execution_count": 5,
   "metadata": {},
   "outputs": [],
   "source": [
    "chat_service = skaoai.AzureChatCompletion(\"Your Azure OpenAI Service gpt-4-32k Model Delployment Name\",endpoint,api_key=api_key,api_version = \"2023-12-01-preview\")\n",
    "embedding_gen = skaoai.AzureTextEmbedding(\"Your Azure OpenAI Service text-embedding-ada-002 Model Delployment Name\", endpoint,api_key=api_key,api_version = \"2023-12-01-preview\")"
   ]
  },
  {
   "cell_type": "code",
   "execution_count": 6,
   "metadata": {},
   "outputs": [],
   "source": [
    "kernel.add_service(chat_service)\n",
    "\n",
    "\n",
    "kernel.add_service(embedding_gen)"
   ]
  },
  {
   "cell_type": "code",
   "execution_count": 7,
   "metadata": {},
   "outputs": [],
   "source": [
    "base_plugin = \"./plugins\""
   ]
  },
  {
   "cell_type": "code",
   "execution_count": 8,
   "metadata": {},
   "outputs": [],
   "source": [
    "files_plugin = kernel.import_plugin_from_prompt_directory(base_plugin , \"FilePlugin\")"
   ]
  },
  {
   "cell_type": "code",
   "execution_count": 9,
   "metadata": {},
   "outputs": [],
   "source": [
    "nodes_files = os.listdir(\"./data/notes\")\n",
    "transcrips_files = os.listdir(\"./data/transcripts\")"
   ]
  },
  {
   "cell_type": "code",
   "execution_count": 10,
   "metadata": {},
   "outputs": [],
   "source": [
    "kblist = []"
   ]
  },
  {
   "cell_type": "code",
   "execution_count": 11,
   "metadata": {},
   "outputs": [],
   "source": [
    "for f in nodes_files:\n",
    "    file = open(\"./data/notes/\"+f, \"r\") \n",
    "    content = file.read()\n",
    "    notesFunc = files_plugin[\"Notes\"]\n",
    "    result = await kernel.invoke(notesFunc, sk.KernelArguments(input=content))\n",
    "    json_result = json.loads(str(result))\n",
    "    kblist.append(json_result)\n",
    "    file.close()"
   ]
  },
  {
   "cell_type": "code",
   "execution_count": 12,
   "metadata": {},
   "outputs": [],
   "source": [
    "for f in transcrips_files:\n",
    "    file = open(\"./data/transcripts/\"+f, \"r\") \n",
    "    content = file.read()\n",
    "    transcripsFunc = files_plugin[\"Transcrips\"]\n",
    "    result = await kernel.invoke(transcripsFunc, sk.KernelArguments(input=content))\n",
    "    # print(result.result)\n",
    "    json_result = json.loads(str(result))\n",
    "    for item in json_result:\n",
    "        kblist.append(item)\n",
    "    file.close()"
   ]
  },
  {
   "cell_type": "code",
   "execution_count": 13,
   "metadata": {},
   "outputs": [
    {
     "data": {
      "text/plain": [
       "[{'kb': 'History of machine learning',\n",
       "  'content': \"The history of machine learning and artificial intelligence is marked by significant discoveries and periods of progress and stagnation. Notable discoveries include Bayes Theorem (1763, 1812), Least Square Theory (1805), Markov Chains (1913), Perceptron (1957), Nearest Neighbor (1967), Backpropagation (1970), and Recurrent Neural Networks (1982). Key periods include the conceptualization of 'machines that can think' by Alan Turing in 1950, the Dartmouth Summer Research Project in 1956, the 'golden years' of AI from 1956 to 1974, the 'AI Winter' from 1974 to 1980 due to limitations and criticisms, the rise of 'expert systems' in the 1980s, the 'AI Chill' from 1987 to 1993 due to over-specialization, and the resurgence of ML and AI from 1993 to 2011 due to increased data and computational power. Today, ML and AI are integral parts of our lives, necessitating careful understanding of their impacts and ethical considerations.\"},\n",
       " {'kb': 'Techniques of Machine Learning',\n",
       "  'content': \"The process of machine learning involves several steps: deciding on the question, collecting and preparing data, choosing a training method, training the model, evaluating the model, parameter tuning, and prediction. Before building a model, tasks such as data collection and preparation, feature and target selection, data visualization, and dataset splitting are necessary. The model building process involves deciding on a training method, training the model, and evaluating it. The quality of the model can be improved by tweaking its 'hyperparameters' in a process known as parameter tuning. Finally, the model's accuracy is tested using completely new data in the prediction stage.\"},\n",
       " {'kb': 'Introduction to machine learning',\n",
       "  'content': 'This section introduces machine learning, explaining it as a subset of artificial intelligence that uses specialized algorithms to uncover meaningful information and find hidden patterns from perceived data to corroborate the rational decision-making process. It discusses the importance of machine learning in various fields and its applications in real-world scenarios. The section also differentiates between AI, ML, and deep learning, and outlines the core concepts of machine learning that will be covered in the course. It emphasizes that understanding the basics of machine learning is crucial due to its widespread adoption.'},\n",
       " {'kb': 'Alan Turing and the Turing test',\n",
       "  'content': 'Alan Turing laid the foundation for the concept of a machine that can think. He created the Turing test in 1950, which is a test where an interrogator questions both a human and a computer and tries to determine which one is which. If the interrogator cannot tell the difference, then the computer can be considered intelligent.'},\n",
       " {'kb': 'The Dartmouth Summer Research Project on AI',\n",
       "  'content': 'In 1956, the term artificial intelligence was coined at an event called the summer research project on artificial intelligence at Dartmouth College. This conference was the birth of the field of research we know as AI.'},\n",
       " {'kb': 'The golden years of AI',\n",
       "  'content': 'The years from 1956 to 1974 are known as The Golden Ears of AI. During this time, optimism ran high in the hope that AI could solve many problems. Advances were made in computation and algorithms, and prototypes of intelligent machines were built.'},\n",
       " {'kb': 'The AI winter',\n",
       "  'content': 'By the mid-1970s, it had become apparent that the complexity of making intelligent machines had been understated and that its promise had been overblown. Funding dried up and confidence in the field slowed, marking the beginning of what is called an AI winter.'},\n",
       " {'kb': 'Resurgence and fall of AI for expert systems',\n",
       "  'content': 'In the 1980s, as computers became more powerful, expert systems became more successful. However, by the late 80s, it was becoming apparent that expert systems had become too specialized and were unlikely to achieve machine intelligence.'},\n",
       " {'kb': 'Growth in AI driven by more data and more powerful hardware',\n",
       "  'content': 'Things began to change in the mid-1990s as compute and storage capabilities grew exponentially, making it possible to process much larger data sets than ever before. The rise of the internet and the popularity of smartphones both contributed to increasing amounts of data.'},\n",
       " {'kb': 'Big Data',\n",
       "  'content': 'In the past decade, compute power and the size of data sets have continued to grow and machine learning has become capable of solving even more problems. Today, machine learning touches almost every part of our lives.'},\n",
       " {'kb': 'Increased awareness of ethical and responsible AI',\n",
       "  'content': \"This era has also been marked by an increased awareness of potential ethical issues in machine learning and by significant research in the field of responsible AI. We want the benefits of AI, but we also want AI that is responsible and doesn't amplify human bias.\"},\n",
       " {'kb': 'Introducing ML for Beginners',\n",
       "  'content': \"based on the free open source 26 lesson ml for beginners curriculum from Microsoft which can be found at AKA dot Ms slash ml-beginners machine learning is one of the most popular Technologies these days I'm sure you've heard this term if you have any sort of familiarity with technology no matter what domain you work in however the mechanics of machine learning are a mystery to most people and the subject can sometimes feel overwhelming in this course you'll start right from the beginning and you'll learn about it step by step to practical Hands-On coding examples\"},\n",
       " {'kb': 'The difference between AI and ML',\n",
       "  'content': \"start by talking about the difference between artificial intelligence and machine learning AI is a science of getting machines to accomplish tasks that typically require human level intelligence many different techniques have been proposed for AI but the most successful and popular approach these days is machine learning unlike other AI techniques ml uses specialized algorithms to make decisions by learning from data so machine learning is really a subset of artificial intelligence you've also probably heard of deep learning which is a subset of machine learning that relies on neural networks to learn from data\"},\n",
       " {'kb': \"What you'll learn in this course\",\n",
       "  'content': \"going to cover what we call classical machine learning you'll learn some Core Concepts of ml a bit of History statistical techniques like regression classification clustering and more the concepts you'll learn here will serve you well as you progress to more Advanced Techniques\"},\n",
       " {'kb': \"What you won't learn in this course\",\n",
       "  'content': \"keep in mind that this course won't cover data science deep learning neural networks and AI techniques other than ml Microsoft offers two additional courses for you to learn more about these areas data science for beginners available at AKA dot Ms slash data science beginners and AI for beginners available at aka.ms Ai and beginners machine learning is a\"},\n",
       " {'kb': 'Why study Machine Learning',\n",
       "  'content': \"Hot Topic because it's solving complex real-world problems in so many areas Finance earth science space exploration cognitive science and many more Fields have adopted machine learning to solve problems specific to their domains for example you can use machine learning to predict the likelihood of disease from a patient's medical history to anticipate weather events to understand the sentiment of a text and to detect fake news and stop the spread of propaganda applications of machine learning are almost everywhere and are as ubiquitous as the data that is Flowing from our devices and systems because of how useful it is understanding the basics of machine learning is going to help you no matter what domain you're coming from\"},\n",
       " {'kb': 'Decide if AI is the right approach',\n",
       "  'content': 'AI is suitable for problems where solutions can be extracted from data. If a problem can be defined using precise rules, traditional programming is a better approach. If there is plenty of data containing useful information about the solution, AI is a promising approach.',\n",
       "  'summary': 'AI for data-driven problems'},\n",
       " {'kb': 'Collect and prepare data',\n",
       "  'content': 'After deciding AI is the right method, collect and prepare your data. This may involve normalizing it, converting it to a different form, or removing rows with missing fields. Decide which aspects of your data or features to use as input to your prediction and which feature to predict. Split your data into training and test sets.',\n",
       "  'summary': 'Collect, prepare, split data'},\n",
       " {'kb': 'Train your model',\n",
       "  'content': 'Choose a machine learning algorithm. If undecided between a few good algorithms, try them all and see which one performs best. Train your model using the training set you collected earlier and the algorithm you chose. Training a model may take a while, especially if the model is large.',\n",
       "  'summary': 'Choose algorithm, train model'},\n",
       " {'kb': 'Evaluate your model',\n",
       "  'content': \"Once the model is trained, test it using the test data set that you split earlier. It's important to test the algorithm with data that it hasn't seen during training to ensure that it generalizes well to new scenarios.\",\n",
       "  'summary': 'Test trained model'},\n",
       " {'kb': 'Tune the hyperparameters',\n",
       "  'content': 'Some algorithms contain hyperparameters, which are settings that control key aspects of their inner workings. Choosing good hyperparameters is important because they can make a big difference in your results. If you want to be systematic about your hyperparameter search, you can write code that tries lots of different combinations and helps you discover the best values for your data.',\n",
       "  'summary': 'Choose, test hyperparameters'},\n",
       " {'kb': 'Test the model in the real world',\n",
       "  'content': \"Once you get good test results, it's time to see how well your model performs within the context of its intended use. This could involve collecting live data from a sensor and using it to make predictions or deploying a model to a few users of your application. If it all looks good, then you're ready to release it to production and enjoy its benefits.\",\n",
       "  'summary': 'Deploy, test model in real-world'}]"
      ]
     },
     "execution_count": 13,
     "metadata": {},
     "output_type": "execute_result"
    }
   ],
   "source": [
    "kblist"
   ]
  },
  {
   "cell_type": "code",
   "execution_count": 14,
   "metadata": {},
   "outputs": [],
   "source": [
    "base_vectordb = 'aboutMLKBDemoDemo'"
   ]
  },
  {
   "cell_type": "code",
   "execution_count": 15,
   "metadata": {},
   "outputs": [],
   "source": [
    "\n",
    "from semantic_kernel.connectors.memory.qdrant import QdrantMemoryStore\n",
    "from semantic_kernel.memory.semantic_text_memory import SemanticTextMemory"
   ]
  },
  {
   "cell_type": "code",
   "execution_count": 16,
   "metadata": {},
   "outputs": [],
   "source": [
    "qdrant_store = QdrantMemoryStore(vector_size=1536, url=\"http://localhost\",port=6333)\n",
    "await qdrant_store.create_collection(base_vectordb)"
   ]
  },
  {
   "cell_type": "code",
   "execution_count": 17,
   "metadata": {},
   "outputs": [],
   "source": [
    "memory = SemanticTextMemory(storage=qdrant_store, embeddings_generator=embedding_gen)"
   ]
  },
  {
   "cell_type": "code",
   "execution_count": 18,
   "metadata": {},
   "outputs": [],
   "source": [
    "import uuid"
   ]
  },
  {
   "cell_type": "code",
   "execution_count": 19,
   "metadata": {},
   "outputs": [
    {
     "data": {
      "text/plain": [
       "UUID('73074634-cf19-4178-a22b-08ec7ee8fa91')"
      ]
     },
     "execution_count": 19,
     "metadata": {},
     "output_type": "execute_result"
    }
   ],
   "source": [
    "uuid.uuid4()"
   ]
  },
  {
   "cell_type": "code",
   "execution_count": 20,
   "metadata": {},
   "outputs": [],
   "source": [
    "for item in kblist:\n",
    "    content = item[\"kb\"] + ' - ' + item[\"content\"]\n",
    "    id =str(uuid.uuid4())\n",
    "    await memory.save_information(base_vectordb, id=id, text=content)"
   ]
  },
  {
   "cell_type": "code",
   "execution_count": 21,
   "metadata": {},
   "outputs": [],
   "source": [
    "ask = \"can you tell me what is different ML and AI\"\n",
    "\n",
    "memories = await memory.search(\n",
    "    base_vectordb, ask, limit=1, min_relevance_score=0.8\n",
    ")"
   ]
  },
  {
   "cell_type": "code",
   "execution_count": 22,
   "metadata": {},
   "outputs": [
    {
     "name": "stdout",
     "output_type": "stream",
     "text": [
      "Top Result: The difference between AI and ML - start by talking about the difference between artificial intelligence and machine learning AI is a science of getting machines to accomplish tasks that typically require human level intelligence many different techniques have been proposed for AI but the most successful and popular approach these days is machine learning unlike other AI techniques ml uses specialized algorithms to make decisions by learning from data so machine learning is really a subset of artificial intelligence you've also probably heard of deep learning which is a subset of machine learning that relies on neural networks to learn from data with score 0.8983348\n"
     ]
    }
   ],
   "source": [
    "result = ''\n",
    "for item in memories:\n",
    "    print(f\"Top Result: {item.text} with score {item.relevance}\")\n",
    "    result = item.text"
   ]
  },
  {
   "cell_type": "code",
   "execution_count": 23,
   "metadata": {},
   "outputs": [],
   "source": [
    "answer_plugin = kernel.import_plugin_from_prompt_directory(base_plugin , \"AnswerPlugin\")"
   ]
  },
  {
   "cell_type": "code",
   "execution_count": 24,
   "metadata": {},
   "outputs": [],
   "source": [
    "answerFunc = answer_plugin[\"Summary\"]"
   ]
  },
  {
   "cell_type": "code",
   "execution_count": 25,
   "metadata": {},
   "outputs": [],
   "source": [
    "summary_result = await kernel.invoke(answerFunc, sk.KernelArguments(input=result))"
   ]
  },
  {
   "cell_type": "code",
   "execution_count": 26,
   "metadata": {},
   "outputs": [
    {
     "data": {
      "text/plain": [
       "'Artificial Intelligence (AI) and Machine Learning (ML) are both fields of computer science. AI is about making machines perform tasks that usually need human intelligence. On the other hand, ML, a subset of AI, uses specific algorithms to learn from data and make decisions. Deep learning, a part of ML, uses neural networks to learn from data. So, the hierarchy is AI contains ML, which in turn contains deep learning.'"
      ]
     },
     "execution_count": 26,
     "metadata": {},
     "output_type": "execute_result"
    }
   ],
   "source": [
    "str(summary_result)"
   ]
  }
 ],
 "metadata": {
  "kernelspec": {
   "display_name": "pydev",
   "language": "python",
   "name": "python3"
  },
  "language_info": {
   "codemirror_mode": {
    "name": "ipython",
    "version": 3
   },
   "file_extension": ".py",
   "mimetype": "text/x-python",
   "name": "python",
   "nbconvert_exporter": "python",
   "pygments_lexer": "ipython3",
   "version": "3.10.12"
  }
 },
 "nbformat": 4,
 "nbformat_minor": 2
}
