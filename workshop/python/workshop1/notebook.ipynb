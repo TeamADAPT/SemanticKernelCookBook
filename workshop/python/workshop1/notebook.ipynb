{
 "cells": [
  {
   "cell_type": "code",
   "execution_count": 12,
   "metadata": {},
   "outputs": [
    {
     "name": "stdout",
     "output_type": "stream",
     "text": [
      "Requirement already satisfied: semantic-kernel in /Users/lokinfey/conda/envs/pydev/lib/python3.10/site-packages (0.5.1.dev0)\n",
      "Requirement already satisfied: aiofiles<24.0.0,>=23.1.0 in /Users/lokinfey/conda/envs/pydev/lib/python3.10/site-packages (from semantic-kernel) (23.2.1)\n",
      "Requirement already satisfied: aiohttp<4.0,>=3.8 in /Users/lokinfey/conda/envs/pydev/lib/python3.10/site-packages (from semantic-kernel) (3.8.5)\n",
      "Requirement already satisfied: motor<4.0.0,>=3.3.1 in /Users/lokinfey/conda/envs/pydev/lib/python3.10/site-packages (from semantic-kernel) (3.3.2)\n",
      "Requirement already satisfied: numpy<2.0.0,>=1.24.2 in /Users/lokinfey/conda/envs/pydev/lib/python3.10/site-packages (from semantic-kernel) (1.26.0)\n",
      "Requirement already satisfied: openai>=1.0 in /Users/lokinfey/conda/envs/pydev/lib/python3.10/site-packages (from semantic-kernel) (1.12.0)\n",
      "Requirement already satisfied: openapi_core<0.19.0,>=0.18.0 in /Users/lokinfey/conda/envs/pydev/lib/python3.10/site-packages (from semantic-kernel) (0.18.1)\n",
      "Requirement already satisfied: prance<24.0.0.0,>=23.6.21.0 in /Users/lokinfey/conda/envs/pydev/lib/python3.10/site-packages (from semantic-kernel) (23.6.21.0)\n",
      "Requirement already satisfied: pydantic>2 in /Users/lokinfey/conda/envs/pydev/lib/python3.10/site-packages (from semantic-kernel) (2.5.2)\n",
      "Requirement already satisfied: python-dotenv==1.0.0 in /Users/lokinfey/conda/envs/pydev/lib/python3.10/site-packages (from semantic-kernel) (1.0.0)\n",
      "Requirement already satisfied: regex<2024.0.0,>=2023.6.3 in /Users/lokinfey/conda/envs/pydev/lib/python3.10/site-packages (from semantic-kernel) (2023.8.8)\n",
      "Requirement already satisfied: attrs>=17.3.0 in /Users/lokinfey/conda/envs/pydev/lib/python3.10/site-packages (from aiohttp<4.0,>=3.8->semantic-kernel) (23.1.0)\n",
      "Requirement already satisfied: charset-normalizer<4.0,>=2.0 in /Users/lokinfey/conda/envs/pydev/lib/python3.10/site-packages (from aiohttp<4.0,>=3.8->semantic-kernel) (3.3.0)\n",
      "Requirement already satisfied: multidict<7.0,>=4.5 in /Users/lokinfey/conda/envs/pydev/lib/python3.10/site-packages (from aiohttp<4.0,>=3.8->semantic-kernel) (6.0.4)\n",
      "Requirement already satisfied: async-timeout<5.0,>=4.0.0a3 in /Users/lokinfey/conda/envs/pydev/lib/python3.10/site-packages (from aiohttp<4.0,>=3.8->semantic-kernel) (4.0.3)\n",
      "Requirement already satisfied: yarl<2.0,>=1.0 in /Users/lokinfey/conda/envs/pydev/lib/python3.10/site-packages (from aiohttp<4.0,>=3.8->semantic-kernel) (1.9.2)\n",
      "Requirement already satisfied: frozenlist>=1.1.1 in /Users/lokinfey/conda/envs/pydev/lib/python3.10/site-packages (from aiohttp<4.0,>=3.8->semantic-kernel) (1.4.0)\n",
      "Requirement already satisfied: aiosignal>=1.1.2 in /Users/lokinfey/conda/envs/pydev/lib/python3.10/site-packages (from aiohttp<4.0,>=3.8->semantic-kernel) (1.3.1)\n",
      "Requirement already satisfied: pymongo<5,>=4.5 in /Users/lokinfey/conda/envs/pydev/lib/python3.10/site-packages (from motor<4.0.0,>=3.3.1->semantic-kernel) (4.6.0)\n",
      "Requirement already satisfied: anyio<5,>=3.5.0 in /Users/lokinfey/conda/envs/pydev/lib/python3.10/site-packages (from openai>=1.0->semantic-kernel) (3.7.1)\n",
      "Requirement already satisfied: distro<2,>=1.7.0 in /Users/lokinfey/conda/envs/pydev/lib/python3.10/site-packages (from openai>=1.0->semantic-kernel) (1.8.0)\n",
      "Requirement already satisfied: httpx<1,>=0.23.0 in /Users/lokinfey/conda/envs/pydev/lib/python3.10/site-packages (from openai>=1.0->semantic-kernel) (0.25.1)\n",
      "Requirement already satisfied: sniffio in /Users/lokinfey/conda/envs/pydev/lib/python3.10/site-packages (from openai>=1.0->semantic-kernel) (1.3.0)\n",
      "Requirement already satisfied: tqdm>4 in /Users/lokinfey/conda/envs/pydev/lib/python3.10/site-packages (from openai>=1.0->semantic-kernel) (4.66.1)\n",
      "Requirement already satisfied: typing-extensions<5,>=4.7 in /Users/lokinfey/conda/envs/pydev/lib/python3.10/site-packages (from openai>=1.0->semantic-kernel) (4.8.0)\n",
      "Requirement already satisfied: asgiref<4.0.0,>=3.6.0 in /Users/lokinfey/conda/envs/pydev/lib/python3.10/site-packages (from openapi_core<0.19.0,>=0.18.0->semantic-kernel) (3.7.2)\n",
      "Requirement already satisfied: isodate in /Users/lokinfey/conda/envs/pydev/lib/python3.10/site-packages (from openapi_core<0.19.0,>=0.18.0->semantic-kernel) (0.6.1)\n",
      "Requirement already satisfied: jsonschema<5.0.0,>=4.18.0 in /Users/lokinfey/conda/envs/pydev/lib/python3.10/site-packages (from openapi_core<0.19.0,>=0.18.0->semantic-kernel) (4.19.1)\n",
      "Requirement already satisfied: jsonschema-spec<0.3.0,>=0.2.3 in /Users/lokinfey/conda/envs/pydev/lib/python3.10/site-packages (from openapi_core<0.19.0,>=0.18.0->semantic-kernel) (0.2.4)\n",
      "Requirement already satisfied: more-itertools in /Users/lokinfey/conda/envs/pydev/lib/python3.10/site-packages (from openapi_core<0.19.0,>=0.18.0->semantic-kernel) (10.1.0)\n",
      "Requirement already satisfied: openapi-schema-validator<0.7.0,>=0.6.0 in /Users/lokinfey/conda/envs/pydev/lib/python3.10/site-packages (from openapi_core<0.19.0,>=0.18.0->semantic-kernel) (0.6.2)\n",
      "Requirement already satisfied: openapi-spec-validator<0.7.0,>=0.6.0 in /Users/lokinfey/conda/envs/pydev/lib/python3.10/site-packages (from openapi_core<0.19.0,>=0.18.0->semantic-kernel) (0.6.0)\n",
      "Requirement already satisfied: parse in /Users/lokinfey/conda/envs/pydev/lib/python3.10/site-packages (from openapi_core<0.19.0,>=0.18.0->semantic-kernel) (1.19.1)\n",
      "Requirement already satisfied: werkzeug in /Users/lokinfey/conda/envs/pydev/lib/python3.10/site-packages (from openapi_core<0.19.0,>=0.18.0->semantic-kernel) (2.3.7)\n",
      "Requirement already satisfied: chardet>=3.0 in /Users/lokinfey/conda/envs/pydev/lib/python3.10/site-packages (from prance<24.0.0.0,>=23.6.21.0->semantic-kernel) (5.2.0)\n",
      "Requirement already satisfied: ruamel.yaml>=0.17.10 in /Users/lokinfey/conda/envs/pydev/lib/python3.10/site-packages (from prance<24.0.0.0,>=23.6.21.0->semantic-kernel) (0.17.35)\n",
      "Requirement already satisfied: requests>=2.25 in /Users/lokinfey/conda/envs/pydev/lib/python3.10/site-packages (from prance<24.0.0.0,>=23.6.21.0->semantic-kernel) (2.31.0)\n",
      "Requirement already satisfied: six~=1.15 in /Users/lokinfey/conda/envs/pydev/lib/python3.10/site-packages (from prance<24.0.0.0,>=23.6.21.0->semantic-kernel) (1.16.0)\n",
      "Requirement already satisfied: packaging>=21.3 in /Users/lokinfey/conda/envs/pydev/lib/python3.10/site-packages (from prance<24.0.0.0,>=23.6.21.0->semantic-kernel) (23.1)\n",
      "Requirement already satisfied: annotated-types>=0.4.0 in /Users/lokinfey/conda/envs/pydev/lib/python3.10/site-packages (from pydantic>2->semantic-kernel) (0.6.0)\n",
      "Requirement already satisfied: pydantic-core==2.14.5 in /Users/lokinfey/conda/envs/pydev/lib/python3.10/site-packages (from pydantic>2->semantic-kernel) (2.14.5)\n",
      "Requirement already satisfied: idna>=2.8 in /Users/lokinfey/conda/envs/pydev/lib/python3.10/site-packages (from anyio<5,>=3.5.0->openai>=1.0->semantic-kernel) (3.4)\n",
      "Requirement already satisfied: exceptiongroup in /Users/lokinfey/conda/envs/pydev/lib/python3.10/site-packages (from anyio<5,>=3.5.0->openai>=1.0->semantic-kernel) (1.1.3)\n",
      "Requirement already satisfied: certifi in /Users/lokinfey/conda/envs/pydev/lib/python3.10/site-packages (from httpx<1,>=0.23.0->openai>=1.0->semantic-kernel) (2023.7.22)\n",
      "Requirement already satisfied: httpcore in /Users/lokinfey/conda/envs/pydev/lib/python3.10/site-packages (from httpx<1,>=0.23.0->openai>=1.0->semantic-kernel) (1.0.2)\n",
      "Requirement already satisfied: jsonschema-specifications>=2023.03.6 in /Users/lokinfey/conda/envs/pydev/lib/python3.10/site-packages (from jsonschema<5.0.0,>=4.18.0->openapi_core<0.19.0,>=0.18.0->semantic-kernel) (2023.7.1)\n",
      "Requirement already satisfied: referencing>=0.28.4 in /Users/lokinfey/conda/envs/pydev/lib/python3.10/site-packages (from jsonschema<5.0.0,>=4.18.0->openapi_core<0.19.0,>=0.18.0->semantic-kernel) (0.30.2)\n",
      "Requirement already satisfied: rpds-py>=0.7.1 in /Users/lokinfey/conda/envs/pydev/lib/python3.10/site-packages (from jsonschema<5.0.0,>=4.18.0->openapi_core<0.19.0,>=0.18.0->semantic-kernel) (0.10.3)\n",
      "Requirement already satisfied: PyYAML>=5.1 in /Users/lokinfey/conda/envs/pydev/lib/python3.10/site-packages (from jsonschema-spec<0.3.0,>=0.2.3->openapi_core<0.19.0,>=0.18.0->semantic-kernel) (6.0.1)\n",
      "Requirement already satisfied: pathable<0.5.0,>=0.4.1 in /Users/lokinfey/conda/envs/pydev/lib/python3.10/site-packages (from jsonschema-spec<0.3.0,>=0.2.3->openapi_core<0.19.0,>=0.18.0->semantic-kernel) (0.4.3)\n",
      "Requirement already satisfied: rfc3339-validator in /Users/lokinfey/conda/envs/pydev/lib/python3.10/site-packages (from openapi-schema-validator<0.7.0,>=0.6.0->openapi_core<0.19.0,>=0.18.0->semantic-kernel) (0.1.4)\n",
      "Requirement already satisfied: lazy-object-proxy<2.0.0,>=1.7.1 in /Users/lokinfey/conda/envs/pydev/lib/python3.10/site-packages (from openapi-spec-validator<0.7.0,>=0.6.0->openapi_core<0.19.0,>=0.18.0->semantic-kernel) (1.9.0)\n",
      "Requirement already satisfied: dnspython<3.0.0,>=1.16.0 in /Users/lokinfey/conda/envs/pydev/lib/python3.10/site-packages (from pymongo<5,>=4.5->motor<4.0.0,>=3.3.1->semantic-kernel) (2.4.2)\n",
      "Requirement already satisfied: urllib3<3,>=1.21.1 in /Users/lokinfey/conda/envs/pydev/lib/python3.10/site-packages (from requests>=2.25->prance<24.0.0.0,>=23.6.21.0->semantic-kernel) (1.26.18)\n",
      "Requirement already satisfied: ruamel.yaml.clib>=0.2.7 in /Users/lokinfey/conda/envs/pydev/lib/python3.10/site-packages (from ruamel.yaml>=0.17.10->prance<24.0.0.0,>=23.6.21.0->semantic-kernel) (0.2.8)\n",
      "Requirement already satisfied: MarkupSafe>=2.1.1 in /Users/lokinfey/conda/envs/pydev/lib/python3.10/site-packages (from werkzeug->openapi_core<0.19.0,>=0.18.0->semantic-kernel) (2.1.3)\n",
      "Requirement already satisfied: h11<0.15,>=0.13 in /Users/lokinfey/conda/envs/pydev/lib/python3.10/site-packages (from httpcore->httpx<1,>=0.23.0->openai>=1.0->semantic-kernel) (0.14.0)\n",
      "Requirement already satisfied: qdrant_client in /Users/lokinfey/conda/envs/pydev/lib/python3.10/site-packages (1.7.3)\n",
      "Requirement already satisfied: grpcio>=1.41.0 in /Users/lokinfey/conda/envs/pydev/lib/python3.10/site-packages (from qdrant_client) (1.59.3)\n",
      "Requirement already satisfied: grpcio-tools>=1.41.0 in /Users/lokinfey/conda/envs/pydev/lib/python3.10/site-packages (from qdrant_client) (1.59.3)\n",
      "Requirement already satisfied: httpx[http2]>=0.14.0 in /Users/lokinfey/conda/envs/pydev/lib/python3.10/site-packages (from qdrant_client) (0.25.1)\n",
      "Requirement already satisfied: numpy>=1.21 in /Users/lokinfey/conda/envs/pydev/lib/python3.10/site-packages (from qdrant_client) (1.26.0)\n",
      "Requirement already satisfied: portalocker<3.0.0,>=2.7.0 in /Users/lokinfey/conda/envs/pydev/lib/python3.10/site-packages (from qdrant_client) (2.8.2)\n",
      "Requirement already satisfied: pydantic>=1.10.8 in /Users/lokinfey/conda/envs/pydev/lib/python3.10/site-packages (from qdrant_client) (2.5.2)\n",
      "Requirement already satisfied: urllib3<3,>=1.26.14 in /Users/lokinfey/conda/envs/pydev/lib/python3.10/site-packages (from qdrant_client) (1.26.18)\n",
      "Requirement already satisfied: protobuf<5.0dev,>=4.21.6 in /Users/lokinfey/conda/envs/pydev/lib/python3.10/site-packages (from grpcio-tools>=1.41.0->qdrant_client) (4.24.3)\n",
      "Requirement already satisfied: setuptools in /Users/lokinfey/conda/envs/pydev/lib/python3.10/site-packages (from grpcio-tools>=1.41.0->qdrant_client) (68.2.2)\n",
      "Requirement already satisfied: anyio in /Users/lokinfey/conda/envs/pydev/lib/python3.10/site-packages (from httpx[http2]>=0.14.0->qdrant_client) (3.7.1)\n",
      "Requirement already satisfied: certifi in /Users/lokinfey/conda/envs/pydev/lib/python3.10/site-packages (from httpx[http2]>=0.14.0->qdrant_client) (2023.7.22)\n",
      "Requirement already satisfied: httpcore in /Users/lokinfey/conda/envs/pydev/lib/python3.10/site-packages (from httpx[http2]>=0.14.0->qdrant_client) (1.0.2)\n",
      "Requirement already satisfied: idna in /Users/lokinfey/conda/envs/pydev/lib/python3.10/site-packages (from httpx[http2]>=0.14.0->qdrant_client) (3.4)\n",
      "Requirement already satisfied: sniffio in /Users/lokinfey/conda/envs/pydev/lib/python3.10/site-packages (from httpx[http2]>=0.14.0->qdrant_client) (1.3.0)\n",
      "Requirement already satisfied: h2<5,>=3 in /Users/lokinfey/conda/envs/pydev/lib/python3.10/site-packages (from httpx[http2]>=0.14.0->qdrant_client) (4.1.0)\n",
      "Requirement already satisfied: annotated-types>=0.4.0 in /Users/lokinfey/conda/envs/pydev/lib/python3.10/site-packages (from pydantic>=1.10.8->qdrant_client) (0.6.0)\n",
      "Requirement already satisfied: pydantic-core==2.14.5 in /Users/lokinfey/conda/envs/pydev/lib/python3.10/site-packages (from pydantic>=1.10.8->qdrant_client) (2.14.5)\n",
      "Requirement already satisfied: typing-extensions>=4.6.1 in /Users/lokinfey/conda/envs/pydev/lib/python3.10/site-packages (from pydantic>=1.10.8->qdrant_client) (4.8.0)\n",
      "Requirement already satisfied: hyperframe<7,>=6.0 in /Users/lokinfey/conda/envs/pydev/lib/python3.10/site-packages (from h2<5,>=3->httpx[http2]>=0.14.0->qdrant_client) (6.0.1)\n",
      "Requirement already satisfied: hpack<5,>=4.0 in /Users/lokinfey/conda/envs/pydev/lib/python3.10/site-packages (from h2<5,>=3->httpx[http2]>=0.14.0->qdrant_client) (4.0.0)\n",
      "Requirement already satisfied: exceptiongroup in /Users/lokinfey/conda/envs/pydev/lib/python3.10/site-packages (from anyio->httpx[http2]>=0.14.0->qdrant_client) (1.1.3)\n",
      "Requirement already satisfied: h11<0.15,>=0.13 in /Users/lokinfey/conda/envs/pydev/lib/python3.10/site-packages (from httpcore->httpx[http2]>=0.14.0->qdrant_client) (0.14.0)\n"
     ]
    }
   ],
   "source": [
    "! pip install semantic-kernel -U\n",
    "! pip install qdrant_client -U"
   ]
  },
  {
   "cell_type": "code",
   "execution_count": 13,
   "metadata": {},
   "outputs": [],
   "source": [
    "import os\n",
    "import json"
   ]
  },
  {
   "cell_type": "code",
   "execution_count": 14,
   "metadata": {},
   "outputs": [],
   "source": [
    "import semantic_kernel as sk\n",
    "from dotenv import load_dotenv\n",
    "import semantic_kernel.connectors.ai.open_ai as skaoai"
   ]
  },
  {
   "cell_type": "code",
   "execution_count": 15,
   "metadata": {},
   "outputs": [],
   "source": [
    "kernel = sk.Kernel()\n",
    "deployment, api_key, endpoint = sk.azure_openai_settings_from_dot_env()"
   ]
  },
  {
   "cell_type": "code",
   "execution_count": 16,
   "metadata": {},
   "outputs": [
    {
     "data": {
      "text/plain": [
       "Kernel(plugins=KernelPluginCollection(plugins={}), prompt_template_engine=PromptTemplateEngine(), memory=NullMemory(), text_completion_services={'azure_chat_competion_service': <function Kernel.add_text_completion_service.<locals>.<lambda> at 0x1305b60e0>}, chat_services={'azure_chat_competion_service': <function Kernel.add_chat_service.<locals>.<lambda> at 0x1305b6050>}, text_embedding_generation_services={'embeddings_services': <function Kernel.add_text_embedding_generation_service.<locals>.<lambda> at 0x1305b4ee0>}, default_text_completion_service='azure_chat_competion_service', default_chat_service='azure_chat_competion_service', default_text_embedding_generation_service='embeddings_services', retry_mechanism=PassThroughWithoutRetry(), function_invoking_handlers={}, function_invoked_handlers={})"
      ]
     },
     "execution_count": 16,
     "metadata": {},
     "output_type": "execute_result"
    }
   ],
   "source": [
    "kernel.add_chat_service(\"azure_chat_competion_service\", skaoai.AzureChatCompletion(\"Your Azure OpenAI Service gpt-4-32k Model Delployment Name\",endpoint,api_key=api_key,api_version = \"2023-12-01-preview\"))\n",
    "\n",
    "\n",
    "kernel.add_text_embedding_generation_service(\n",
    "        \"embeddings_services\", skaoai.AzureTextEmbedding(\"Your Azure OpenAI Service text-embedding-ada-002 Model Delployment Name\", endpoint,api_key=api_key,api_version = \"2023-07-01-preview\")\n",
    ")"
   ]
  },
  {
   "cell_type": "code",
   "execution_count": 17,
   "metadata": {},
   "outputs": [],
   "source": [
    "base_plugin = \"./plugins\""
   ]
  },
  {
   "cell_type": "code",
   "execution_count": 18,
   "metadata": {},
   "outputs": [],
   "source": [
    "files_plugin = kernel.import_semantic_plugin_from_directory(base_plugin , \"FilePlugin\")"
   ]
  },
  {
   "cell_type": "code",
   "execution_count": 19,
   "metadata": {},
   "outputs": [],
   "source": [
    "nodes_files = os.listdir(\"./data/notes\")\n",
    "transcrips_files = os.listdir(\"./data/transcripts\")"
   ]
  },
  {
   "cell_type": "code",
   "execution_count": 20,
   "metadata": {},
   "outputs": [],
   "source": [
    "kblist = []"
   ]
  },
  {
   "cell_type": "code",
   "execution_count": 21,
   "metadata": {},
   "outputs": [
    {
     "name": "stdout",
     "output_type": "stream",
     "text": [
      "{\"kb\": \"History of machine learning\", \"content\": \"The history of machine learning and artificial intelligence is marked by significant milestones. Notable discoveries include Bayes Theorem (1763, 1812), Least Square Theory (1805), Markov Chains (1913), Perceptron (1957), Nearest Neighbor (1967), Backpropagation (1970), and Recurrent Neural Networks (1982). Alan Turing laid the foundation for the concept of a 'machine that can think' in 1950. The Dartmouth Summer Research Project in 1956 was a seminal event for AI as a field. The period from 1956 to 1974 is often referred to as 'The golden years' of AI. However, by the mid-1970s, the complexity of creating 'intelligent machines' had been understated and its promise overblown, leading to an 'AI Winter'. The 1980s saw the proliferation of 'expert systems'. The period from 1993 to 2011 saw a new era for ML and AI to solve some of the problems caused earlier by the lack of data and compute power. Today, machine learning and AI touch almost every part of our lives.\"}\n",
      "{\"kb\": \"Techniques of Machine Learning\", \"content\": \"The process of machine learning involves several steps: deciding on the question, collecting and preparing data, choosing a training method, training the model, evaluating the model, parameter tuning, and prediction. Before building a model, tasks such as data collection and preparation, feature and target selection, data visualization, and dataset splitting are necessary. The model is built using training data and a chosen method. The model's quality is evaluated using test data. If necessary, the model can be improved by tweaking its 'hyperparameters'. Finally, new data is used to test the model's accuracy.\"}\n",
      "{\"kb\": \"Introduction to machine learning\", \"content\": \"This course introduces the basics of machine learning (ML), a subset of artificial intelligence (AI) that uses algorithms to find hidden patterns in data. The learning process of the human brain is compared to ML, with the concept of brain plasticity highlighted. The course covers core concepts of ML, its history, fairness, regression, classification, clustering, natural language processing, time series forecasting, and reinforcement learning techniques. It also discusses real-world applications of ML, such as predicting disease likelihood, weather events, text sentiment, and detecting fake news. However, it does not cover deep learning, neural networks, and AI. The importance of understanding ML basics due to its widespread adoption is emphasized.\"}\n"
     ]
    }
   ],
   "source": [
    "for f in nodes_files:\n",
    "    file = open(\"./data/notes/\"+f, \"r\") \n",
    "    content = file.read()\n",
    "    notesFunc = files_plugin[\"Notes\"]\n",
    "    result = await notesFunc(content)\n",
    "    print(result.result.replace(\"\\n\", \" \")) \n",
    "    json_result = json.loads(result.result)\n",
    "    kblist.append(json_result)\n",
    "    file.close()"
   ]
  },
  {
   "cell_type": "code",
   "execution_count": 22,
   "metadata": {},
   "outputs": [
    {
     "name": "stdout",
     "output_type": "stream",
     "text": [
      "[\n",
      "{\"kb\": \"Alan Turing and the Turing test\", \"content\": \"Alan Turing, Turing test, machine intelligence, interrogator, human and computer\"},\n",
      "{\"kb\": \"The Dartmouth Summer Research Project on AI\", \"content\": \"Artificial intelligence, Dartmouth College, summer research, AI field, 1956 to 1974\"},\n",
      "{\"kb\": \"The golden years of AI\", \"content\": \"AI optimism, Marvin Minsky, natural language processing, micro worlds, intelligent machines\"},\n",
      "{\"kb\": \"The AI winter\", \"content\": \"Complexity of AI, limited compute power, lack of data, ethics of AI, AI winter\"},\n",
      "{\"kb\": \"Resurgence and fall of AI for expert systems\", \"content\": \"Expert systems, resurgence in AI, rule-based inference systems, machine intelligence, personal computers\"},\n",
      "{\"kb\": \"Growth in AI driven by more data and more powerful hardware\", \"content\": \"Compute and storage capabilities, internet, smartphones, machine learning, computer vision\"},\n",
      "{\"kb\": \"Big Data\", \"content\": \"Compute power, size of data sets, machine learning, solving problems, everyday life\"},\n",
      "{\"kb\": \"Increased awareness of ethical and responsible AI\", \"content\": \"Ethical issues, machine learning, responsible AI, human bias, building and maintaining models\"}\n",
      "]\n",
      "[\n",
      "{\"kb\": \"Introducing ML for Beginners\", \"content\": \"Open source curriculum, popular technology, mechanics mystery, step-by-step learning, practical coding examples\"},\n",
      "{\"kb\": \"The difference between AI and ML\", \"content\": \"AI accomplishes human tasks, ML subset of AI, ML uses algorithms, deep learning subset of ML, neural networks learning\"},\n",
      "{\"kb\": \"What you'll learn in this course\", \"content\": \"Classical machine learning, core concepts, history, statistical techniques, regression, classification, clustering\"},\n",
      "{\"kb\": \"What you won't learn in this course\", \"content\": \"No data science, deep learning, neural networks, AI techniques, other courses available\"},\n",
      "{\"kb\": \"Why study Machine Learning\", \"content\": \"Solves complex problems, used in many fields, predicts disease likelihood, anticipates weather, detects fake news\"}\n",
      "]\n",
      "[\n",
      "{\"kb\": \"Decide if AI is the right approach\", \"content\": \"AI is suitable for problems where solutions can be extracted from data. If a problem can be defined using precise rules, traditional programming is a better approach. AI is a promising approach if you have plenty of data containing useful information about your solution.\"},\n",
      "\n",
      "{\"kb\": \"Collect and prepare data\", \"content\": \"After deciding AI is the right method, collect and prepare your data. This may involve normalizing it, converting it to a different form, or removing rows with missing fields. Decide which aspects of your data will be used as input to your prediction and which feature you want to predict. Split your data into training and test sets.\"},\n",
      "\n",
      "{\"kb\": \"Train your model\", \"content\": \"Choose a machine learning algorithm and train your model using the training set. Training a model may take a while, especially if the model is large.\"},\n",
      "\n",
      "{\"kb\": \"Evaluate your model\", \"content\": \"After the model is trained, test it using the test data set. It's important to test the algorithm with data that it hasn't seen during training to ensure that it generalizes well to new scenarios.\"},\n",
      "\n",
      "{\"kb\": \"Tune the hyperparameters\", \"content\": \"Some algorithms contain hyperparameters that control key aspects of their inner workings. Choosing good hyperparameters is important as they can make a big difference in your results. Write code that tries different combinations to discover the best values for your data.\"},\n",
      "\n",
      "{\"kb\": \"Test the model in the real world\", \"content\": \"After getting good test results, test your model in the context of its intended use. This could involve collecting live data from a sensor and using it to make predictions, or deploying a model to a few users of your application. If it all looks good, you're ready to release it to production.\"}\n",
      "]\n"
     ]
    }
   ],
   "source": [
    "for f in transcrips_files:\n",
    "    file = open(\"./data/transcripts/\"+f, \"r\") \n",
    "    content = file.read()\n",
    "    transcripsFunc = files_plugin[\"Transcrips\"]\n",
    "    result = await transcripsFunc(content)\n",
    "    print(result.result)\n",
    "    json_result = json.loads(result.result)\n",
    "    for item in json_result:\n",
    "        kblist.append(item)\n",
    "    file.close()"
   ]
  },
  {
   "cell_type": "code",
   "execution_count": 23,
   "metadata": {},
   "outputs": [
    {
     "data": {
      "text/plain": [
       "[{'kb': 'History of machine learning',\n",
       "  'content': \"The history of machine learning and artificial intelligence is marked by significant milestones. Notable discoveries include Bayes Theorem (1763, 1812), Least Square Theory (1805), Markov Chains (1913), Perceptron (1957), Nearest Neighbor (1967), Backpropagation (1970), and Recurrent Neural Networks (1982). Alan Turing laid the foundation for the concept of a 'machine that can think' in 1950. The Dartmouth Summer Research Project in 1956 was a seminal event for AI as a field. The period from 1956 to 1974 is often referred to as 'The golden years' of AI. However, by the mid-1970s, the complexity of creating 'intelligent machines' had been understated and its promise overblown, leading to an 'AI Winter'. The 1980s saw the proliferation of 'expert systems'. The period from 1993 to 2011 saw a new era for ML and AI to solve some of the problems caused earlier by the lack of data and compute power. Today, machine learning and AI touch almost every part of our lives.\"},\n",
       " {'kb': 'Techniques of Machine Learning',\n",
       "  'content': \"The process of machine learning involves several steps: deciding on the question, collecting and preparing data, choosing a training method, training the model, evaluating the model, parameter tuning, and prediction. Before building a model, tasks such as data collection and preparation, feature and target selection, data visualization, and dataset splitting are necessary. The model is built using training data and a chosen method. The model's quality is evaluated using test data. If necessary, the model can be improved by tweaking its 'hyperparameters'. Finally, new data is used to test the model's accuracy.\"},\n",
       " {'kb': 'Introduction to machine learning',\n",
       "  'content': 'This course introduces the basics of machine learning (ML), a subset of artificial intelligence (AI) that uses algorithms to find hidden patterns in data. The learning process of the human brain is compared to ML, with the concept of brain plasticity highlighted. The course covers core concepts of ML, its history, fairness, regression, classification, clustering, natural language processing, time series forecasting, and reinforcement learning techniques. It also discusses real-world applications of ML, such as predicting disease likelihood, weather events, text sentiment, and detecting fake news. However, it does not cover deep learning, neural networks, and AI. The importance of understanding ML basics due to its widespread adoption is emphasized.'},\n",
       " {'kb': 'Alan Turing and the Turing test',\n",
       "  'content': 'Alan Turing, Turing test, machine intelligence, interrogator, human and computer'},\n",
       " {'kb': 'The Dartmouth Summer Research Project on AI',\n",
       "  'content': 'Artificial intelligence, Dartmouth College, summer research, AI field, 1956 to 1974'},\n",
       " {'kb': 'The golden years of AI',\n",
       "  'content': 'AI optimism, Marvin Minsky, natural language processing, micro worlds, intelligent machines'},\n",
       " {'kb': 'The AI winter',\n",
       "  'content': 'Complexity of AI, limited compute power, lack of data, ethics of AI, AI winter'},\n",
       " {'kb': 'Resurgence and fall of AI for expert systems',\n",
       "  'content': 'Expert systems, resurgence in AI, rule-based inference systems, machine intelligence, personal computers'},\n",
       " {'kb': 'Growth in AI driven by more data and more powerful hardware',\n",
       "  'content': 'Compute and storage capabilities, internet, smartphones, machine learning, computer vision'},\n",
       " {'kb': 'Big Data',\n",
       "  'content': 'Compute power, size of data sets, machine learning, solving problems, everyday life'},\n",
       " {'kb': 'Increased awareness of ethical and responsible AI',\n",
       "  'content': 'Ethical issues, machine learning, responsible AI, human bias, building and maintaining models'},\n",
       " {'kb': 'Introducing ML for Beginners',\n",
       "  'content': 'Open source curriculum, popular technology, mechanics mystery, step-by-step learning, practical coding examples'},\n",
       " {'kb': 'The difference between AI and ML',\n",
       "  'content': 'AI accomplishes human tasks, ML subset of AI, ML uses algorithms, deep learning subset of ML, neural networks learning'},\n",
       " {'kb': \"What you'll learn in this course\",\n",
       "  'content': 'Classical machine learning, core concepts, history, statistical techniques, regression, classification, clustering'},\n",
       " {'kb': \"What you won't learn in this course\",\n",
       "  'content': 'No data science, deep learning, neural networks, AI techniques, other courses available'},\n",
       " {'kb': 'Why study Machine Learning',\n",
       "  'content': 'Solves complex problems, used in many fields, predicts disease likelihood, anticipates weather, detects fake news'},\n",
       " {'kb': 'Decide if AI is the right approach',\n",
       "  'content': 'AI is suitable for problems where solutions can be extracted from data. If a problem can be defined using precise rules, traditional programming is a better approach. AI is a promising approach if you have plenty of data containing useful information about your solution.'},\n",
       " {'kb': 'Collect and prepare data',\n",
       "  'content': 'After deciding AI is the right method, collect and prepare your data. This may involve normalizing it, converting it to a different form, or removing rows with missing fields. Decide which aspects of your data will be used as input to your prediction and which feature you want to predict. Split your data into training and test sets.'},\n",
       " {'kb': 'Train your model',\n",
       "  'content': 'Choose a machine learning algorithm and train your model using the training set. Training a model may take a while, especially if the model is large.'},\n",
       " {'kb': 'Evaluate your model',\n",
       "  'content': \"After the model is trained, test it using the test data set. It's important to test the algorithm with data that it hasn't seen during training to ensure that it generalizes well to new scenarios.\"},\n",
       " {'kb': 'Tune the hyperparameters',\n",
       "  'content': 'Some algorithms contain hyperparameters that control key aspects of their inner workings. Choosing good hyperparameters is important as they can make a big difference in your results. Write code that tries different combinations to discover the best values for your data.'},\n",
       " {'kb': 'Test the model in the real world',\n",
       "  'content': \"After getting good test results, test your model in the context of its intended use. This could involve collecting live data from a sensor and using it to make predictions, or deploying a model to a few users of your application. If it all looks good, you're ready to release it to production.\"}]"
      ]
     },
     "execution_count": 23,
     "metadata": {},
     "output_type": "execute_result"
    }
   ],
   "source": [
    "kblist"
   ]
  },
  {
   "cell_type": "code",
   "execution_count": 24,
   "metadata": {},
   "outputs": [],
   "source": [
    "base_vectordb = 'aboutMLKBDemoDemo'"
   ]
  },
  {
   "cell_type": "code",
   "execution_count": 25,
   "metadata": {},
   "outputs": [],
   "source": [
    "\n",
    "from semantic_kernel.connectors.memory.qdrant import QdrantMemoryStore"
   ]
  },
  {
   "cell_type": "code",
   "execution_count": 26,
   "metadata": {},
   "outputs": [],
   "source": [
    "qdrant_store = QdrantMemoryStore(vector_size=1536, url=\"http://localhost\",port=6333)\n",
    "await qdrant_store.create_collection(base_vectordb)"
   ]
  },
  {
   "cell_type": "code",
   "execution_count": 27,
   "metadata": {},
   "outputs": [],
   "source": [
    "kernel.register_memory_store(memory_store=qdrant_store)"
   ]
  },
  {
   "cell_type": "code",
   "execution_count": 28,
   "metadata": {},
   "outputs": [],
   "source": [
    "import uuid"
   ]
  },
  {
   "cell_type": "code",
   "execution_count": 29,
   "metadata": {},
   "outputs": [
    {
     "data": {
      "text/plain": [
       "UUID('0c05f6de-e1bf-4d32-be38-d7fdd9706a17')"
      ]
     },
     "execution_count": 29,
     "metadata": {},
     "output_type": "execute_result"
    }
   ],
   "source": [
    "uuid.uuid4()"
   ]
  },
  {
   "cell_type": "code",
   "execution_count": 30,
   "metadata": {},
   "outputs": [],
   "source": [
    "for item in kblist:\n",
    "    content = item[\"kb\"] + ' - ' + item[\"content\"]\n",
    "    id =str(uuid.uuid4())\n",
    "    await kernel.memory.save_information(base_vectordb, id=id, text=content)"
   ]
  },
  {
   "cell_type": "code",
   "execution_count": 31,
   "metadata": {},
   "outputs": [],
   "source": [
    "ask = \"can you tell me what is different ML and AI\"\n",
    "\n",
    "memories = await kernel.memory.search(\n",
    "    base_vectordb, ask, limit=1, min_relevance_score=0.8\n",
    ")"
   ]
  },
  {
   "cell_type": "code",
   "execution_count": 32,
   "metadata": {},
   "outputs": [
    {
     "name": "stdout",
     "output_type": "stream",
     "text": [
      "Top Result: The difference between AI and ML - AI accomplishes human tasks, ML subset of AI, ML uses algorithms, deep learning subset of ML, neural networks learning with score 0.86017144\n"
     ]
    }
   ],
   "source": [
    "result = ''\n",
    "for memory in memories:\n",
    "    print(f\"Top Result: {memory.text} with score {memory.relevance}\")\n",
    "    result = memory.text"
   ]
  },
  {
   "cell_type": "code",
   "execution_count": 33,
   "metadata": {},
   "outputs": [],
   "source": [
    "answer_plugin = kernel.import_semantic_plugin_from_directory(base_plugin , \"AnswerPlugin\")"
   ]
  },
  {
   "cell_type": "code",
   "execution_count": 34,
   "metadata": {},
   "outputs": [],
   "source": [
    "answerFunc = answer_plugin[\"Summary\"]"
   ]
  },
  {
   "cell_type": "code",
   "execution_count": 35,
   "metadata": {},
   "outputs": [],
   "source": [
    "summary_result = await answerFunc(result)"
   ]
  },
  {
   "cell_type": "code",
   "execution_count": 36,
   "metadata": {},
   "outputs": [
    {
     "data": {
      "text/plain": [
       "\"AI, or Artificial Intelligence, is a broad concept that involves machines performing tasks in a way that mimics human intelligence. Machine Learning (ML), a subset of AI, involves the use of algorithms to allow machines to learn from data. Deep Learning, a further subset of ML, involves the use of neural networks to mimic the human brain's learning process. In essence, all these technologies work together to enable machines to perform tasks that would normally require human intelligence.\""
      ]
     },
     "execution_count": 36,
     "metadata": {},
     "output_type": "execute_result"
    }
   ],
   "source": [
    "summary_result.result"
   ]
  }
 ],
 "metadata": {
  "kernelspec": {
   "display_name": "pydev",
   "language": "python",
   "name": "python3"
  },
  "language_info": {
   "codemirror_mode": {
    "name": "ipython",
    "version": 3
   },
   "file_extension": ".py",
   "mimetype": "text/x-python",
   "name": "python",
   "nbconvert_exporter": "python",
   "pygments_lexer": "ipython3",
   "version": "3.10.12"
  }
 },
 "nbformat": 4,
 "nbformat_minor": 2
}
