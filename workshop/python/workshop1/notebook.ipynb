{
 "cells": [
  {
   "cell_type": "code",
   "execution_count": 1,
   "metadata": {},
   "outputs": [
    {
     "name": "stdout",
     "output_type": "stream",
     "text": [
      "Requirement already satisfied: semantic-kernel in /Users/lokinfey/conda/envs/pydev/lib/python3.10/site-packages (0.9.4b1)\n",
      "Requirement already satisfied: aiohttp<4.0,>=3.8 in /Users/lokinfey/conda/envs/pydev/lib/python3.10/site-packages (from semantic-kernel) (3.8.5)\n",
      "Requirement already satisfied: defusedxml<0.8.0,>=0.7.1 in /Users/lokinfey/conda/envs/pydev/lib/python3.10/site-packages (from semantic-kernel) (0.7.1)\n",
      "Requirement already satisfied: grpcio>=1.50.0 in /Users/lokinfey/conda/envs/pydev/lib/python3.10/site-packages (from semantic-kernel) (1.62.1)\n",
      "Requirement already satisfied: jinja2<4.0.0,>=3.1.3 in /Users/lokinfey/conda/envs/pydev/lib/python3.10/site-packages (from semantic-kernel) (3.1.3)\n",
      "Requirement already satisfied: motor<4.0.0,>=3.3.2 in /Users/lokinfey/conda/envs/pydev/lib/python3.10/site-packages (from semantic-kernel) (3.3.2)\n",
      "Requirement already satisfied: nest-asyncio<2.0.0,>=1.6.0 in /Users/lokinfey/conda/envs/pydev/lib/python3.10/site-packages (from semantic-kernel) (1.6.0)\n",
      "Requirement already satisfied: numpy>=1.25 in /Users/lokinfey/conda/envs/pydev/lib/python3.10/site-packages (from semantic-kernel) (1.26.0)\n",
      "Requirement already satisfied: openai>=1.0 in /Users/lokinfey/conda/envs/pydev/lib/python3.10/site-packages (from semantic-kernel) (1.3.9)\n",
      "Requirement already satisfied: openapi_core<0.20,>=0.18 in /Users/lokinfey/conda/envs/pydev/lib/python3.10/site-packages (from semantic-kernel) (0.18.1)\n",
      "Requirement already satisfied: prance<24.0.0.0,>=23.6.21.0 in /Users/lokinfey/conda/envs/pydev/lib/python3.10/site-packages (from semantic-kernel) (23.6.21.0)\n",
      "Requirement already satisfied: pybars4<0.10.0,>=0.9.13 in /Users/lokinfey/conda/envs/pydev/lib/python3.10/site-packages (from semantic-kernel) (0.9.13)\n",
      "Requirement already satisfied: pydantic<3,>=2 in /Users/lokinfey/conda/envs/pydev/lib/python3.10/site-packages (from semantic-kernel) (2.5.2)\n",
      "Requirement already satisfied: python-dotenv<2.0.0,>=1.0.1 in /Users/lokinfey/conda/envs/pydev/lib/python3.10/site-packages (from semantic-kernel) (1.0.1)\n",
      "Requirement already satisfied: regex<2024.0.0,>=2023.6.3 in /Users/lokinfey/conda/envs/pydev/lib/python3.10/site-packages (from semantic-kernel) (2023.8.8)\n",
      "Requirement already satisfied: scipy>=1.5.0 in /Users/lokinfey/conda/envs/pydev/lib/python3.10/site-packages (from semantic-kernel) (1.11.3)\n",
      "Requirement already satisfied: attrs>=17.3.0 in /Users/lokinfey/conda/envs/pydev/lib/python3.10/site-packages (from aiohttp<4.0,>=3.8->semantic-kernel) (23.1.0)\n",
      "Requirement already satisfied: charset-normalizer<4.0,>=2.0 in /Users/lokinfey/conda/envs/pydev/lib/python3.10/site-packages (from aiohttp<4.0,>=3.8->semantic-kernel) (3.3.0)\n",
      "Requirement already satisfied: multidict<7.0,>=4.5 in /Users/lokinfey/conda/envs/pydev/lib/python3.10/site-packages (from aiohttp<4.0,>=3.8->semantic-kernel) (6.0.4)\n",
      "Requirement already satisfied: async-timeout<5.0,>=4.0.0a3 in /Users/lokinfey/conda/envs/pydev/lib/python3.10/site-packages (from aiohttp<4.0,>=3.8->semantic-kernel) (4.0.3)\n",
      "Requirement already satisfied: yarl<2.0,>=1.0 in /Users/lokinfey/conda/envs/pydev/lib/python3.10/site-packages (from aiohttp<4.0,>=3.8->semantic-kernel) (1.9.2)\n",
      "Requirement already satisfied: frozenlist>=1.1.1 in /Users/lokinfey/conda/envs/pydev/lib/python3.10/site-packages (from aiohttp<4.0,>=3.8->semantic-kernel) (1.4.0)\n",
      "Requirement already satisfied: aiosignal>=1.1.2 in /Users/lokinfey/conda/envs/pydev/lib/python3.10/site-packages (from aiohttp<4.0,>=3.8->semantic-kernel) (1.3.1)\n",
      "Requirement already satisfied: MarkupSafe>=2.0 in /Users/lokinfey/conda/envs/pydev/lib/python3.10/site-packages (from jinja2<4.0.0,>=3.1.3->semantic-kernel) (2.1.3)\n",
      "Requirement already satisfied: pymongo<5,>=4.5 in /Users/lokinfey/conda/envs/pydev/lib/python3.10/site-packages (from motor<4.0.0,>=3.3.2->semantic-kernel) (4.6.1)\n",
      "Requirement already satisfied: anyio<5,>=3.5.0 in /Users/lokinfey/conda/envs/pydev/lib/python3.10/site-packages (from openai>=1.0->semantic-kernel) (4.0.0)\n",
      "Requirement already satisfied: distro<2,>=1.7.0 in /Users/lokinfey/conda/envs/pydev/lib/python3.10/site-packages (from openai>=1.0->semantic-kernel) (1.8.0)\n",
      "Requirement already satisfied: httpx<1,>=0.23.0 in /Users/lokinfey/conda/envs/pydev/lib/python3.10/site-packages (from openai>=1.0->semantic-kernel) (0.25.2)\n",
      "Requirement already satisfied: sniffio in /Users/lokinfey/conda/envs/pydev/lib/python3.10/site-packages (from openai>=1.0->semantic-kernel) (1.3.0)\n",
      "Requirement already satisfied: tqdm>4 in /Users/lokinfey/conda/envs/pydev/lib/python3.10/site-packages (from openai>=1.0->semantic-kernel) (4.66.1)\n",
      "Requirement already satisfied: typing-extensions<5,>=4.5 in /Users/lokinfey/conda/envs/pydev/lib/python3.10/site-packages (from openai>=1.0->semantic-kernel) (4.8.0)\n",
      "Requirement already satisfied: asgiref<4.0.0,>=3.6.0 in /Users/lokinfey/conda/envs/pydev/lib/python3.10/site-packages (from openapi_core<0.20,>=0.18->semantic-kernel) (3.7.2)\n",
      "Requirement already satisfied: isodate in /Users/lokinfey/conda/envs/pydev/lib/python3.10/site-packages (from openapi_core<0.20,>=0.18->semantic-kernel) (0.6.1)\n",
      "Requirement already satisfied: jsonschema<5.0.0,>=4.18.0 in /Users/lokinfey/conda/envs/pydev/lib/python3.10/site-packages (from openapi_core<0.20,>=0.18->semantic-kernel) (4.19.1)\n",
      "Requirement already satisfied: jsonschema-spec<0.3.0,>=0.2.3 in /Users/lokinfey/conda/envs/pydev/lib/python3.10/site-packages (from openapi_core<0.20,>=0.18->semantic-kernel) (0.2.4)\n",
      "Requirement already satisfied: more-itertools in /Users/lokinfey/conda/envs/pydev/lib/python3.10/site-packages (from openapi_core<0.20,>=0.18->semantic-kernel) (10.1.0)\n",
      "Requirement already satisfied: openapi-schema-validator<0.7.0,>=0.6.0 in /Users/lokinfey/conda/envs/pydev/lib/python3.10/site-packages (from openapi_core<0.20,>=0.18->semantic-kernel) (0.6.1)\n",
      "Requirement already satisfied: openapi-spec-validator<0.7.0,>=0.6.0 in /Users/lokinfey/conda/envs/pydev/lib/python3.10/site-packages (from openapi_core<0.20,>=0.18->semantic-kernel) (0.6.0)\n",
      "Requirement already satisfied: parse in /Users/lokinfey/conda/envs/pydev/lib/python3.10/site-packages (from openapi_core<0.20,>=0.18->semantic-kernel) (1.19.1)\n",
      "Requirement already satisfied: werkzeug in /Users/lokinfey/conda/envs/pydev/lib/python3.10/site-packages (from openapi_core<0.20,>=0.18->semantic-kernel) (3.0.0)\n",
      "Requirement already satisfied: chardet>=3.0 in /Users/lokinfey/conda/envs/pydev/lib/python3.10/site-packages (from prance<24.0.0.0,>=23.6.21.0->semantic-kernel) (5.2.0)\n",
      "Requirement already satisfied: ruamel.yaml>=0.17.10 in /Users/lokinfey/conda/envs/pydev/lib/python3.10/site-packages (from prance<24.0.0.0,>=23.6.21.0->semantic-kernel) (0.17.35)\n",
      "Requirement already satisfied: requests>=2.25 in /Users/lokinfey/conda/envs/pydev/lib/python3.10/site-packages (from prance<24.0.0.0,>=23.6.21.0->semantic-kernel) (2.31.0)\n",
      "Requirement already satisfied: six~=1.15 in /Users/lokinfey/conda/envs/pydev/lib/python3.10/site-packages (from prance<24.0.0.0,>=23.6.21.0->semantic-kernel) (1.16.0)\n",
      "Requirement already satisfied: packaging>=21.3 in /Users/lokinfey/conda/envs/pydev/lib/python3.10/site-packages (from prance<24.0.0.0,>=23.6.21.0->semantic-kernel) (23.1)\n",
      "Requirement already satisfied: PyMeta3>=0.5.1 in /Users/lokinfey/conda/envs/pydev/lib/python3.10/site-packages (from pybars4<0.10.0,>=0.9.13->semantic-kernel) (0.5.1)\n",
      "Requirement already satisfied: annotated-types>=0.4.0 in /Users/lokinfey/conda/envs/pydev/lib/python3.10/site-packages (from pydantic<3,>=2->semantic-kernel) (0.6.0)\n",
      "Requirement already satisfied: pydantic-core==2.14.5 in /Users/lokinfey/conda/envs/pydev/lib/python3.10/site-packages (from pydantic<3,>=2->semantic-kernel) (2.14.5)\n",
      "Requirement already satisfied: idna>=2.8 in /Users/lokinfey/conda/envs/pydev/lib/python3.10/site-packages (from anyio<5,>=3.5.0->openai>=1.0->semantic-kernel) (3.4)\n",
      "Requirement already satisfied: exceptiongroup>=1.0.2 in /Users/lokinfey/conda/envs/pydev/lib/python3.10/site-packages (from anyio<5,>=3.5.0->openai>=1.0->semantic-kernel) (1.1.3)\n",
      "Requirement already satisfied: certifi in /Users/lokinfey/conda/envs/pydev/lib/python3.10/site-packages (from httpx<1,>=0.23.0->openai>=1.0->semantic-kernel) (2023.7.22)\n",
      "Requirement already satisfied: httpcore==1.* in /Users/lokinfey/conda/envs/pydev/lib/python3.10/site-packages (from httpx<1,>=0.23.0->openai>=1.0->semantic-kernel) (1.0.2)\n",
      "Requirement already satisfied: h11<0.15,>=0.13 in /Users/lokinfey/conda/envs/pydev/lib/python3.10/site-packages (from httpcore==1.*->httpx<1,>=0.23.0->openai>=1.0->semantic-kernel) (0.14.0)\n",
      "Requirement already satisfied: jsonschema-specifications>=2023.03.6 in /Users/lokinfey/conda/envs/pydev/lib/python3.10/site-packages (from jsonschema<5.0.0,>=4.18.0->openapi_core<0.20,>=0.18->semantic-kernel) (2023.7.1)\n",
      "Requirement already satisfied: referencing>=0.28.4 in /Users/lokinfey/conda/envs/pydev/lib/python3.10/site-packages (from jsonschema<5.0.0,>=4.18.0->openapi_core<0.20,>=0.18->semantic-kernel) (0.30.2)\n",
      "Requirement already satisfied: rpds-py>=0.7.1 in /Users/lokinfey/conda/envs/pydev/lib/python3.10/site-packages (from jsonschema<5.0.0,>=4.18.0->openapi_core<0.20,>=0.18->semantic-kernel) (0.10.3)\n",
      "Requirement already satisfied: PyYAML>=5.1 in /Users/lokinfey/conda/envs/pydev/lib/python3.10/site-packages (from jsonschema-spec<0.3.0,>=0.2.3->openapi_core<0.20,>=0.18->semantic-kernel) (6.0.1)\n",
      "Requirement already satisfied: pathable<0.5.0,>=0.4.1 in /Users/lokinfey/conda/envs/pydev/lib/python3.10/site-packages (from jsonschema-spec<0.3.0,>=0.2.3->openapi_core<0.20,>=0.18->semantic-kernel) (0.4.3)\n",
      "Requirement already satisfied: rfc3339-validator in /Users/lokinfey/conda/envs/pydev/lib/python3.10/site-packages (from openapi-schema-validator<0.7.0,>=0.6.0->openapi_core<0.20,>=0.18->semantic-kernel) (0.1.4)\n",
      "Requirement already satisfied: lazy-object-proxy<2.0.0,>=1.7.1 in /Users/lokinfey/conda/envs/pydev/lib/python3.10/site-packages (from openapi-spec-validator<0.7.0,>=0.6.0->openapi_core<0.20,>=0.18->semantic-kernel) (1.9.0)\n",
      "Requirement already satisfied: dnspython<3.0.0,>=1.16.0 in /Users/lokinfey/conda/envs/pydev/lib/python3.10/site-packages (from pymongo<5,>=4.5->motor<4.0.0,>=3.3.2->semantic-kernel) (2.4.2)\n",
      "Requirement already satisfied: urllib3<3,>=1.21.1 in /Users/lokinfey/conda/envs/pydev/lib/python3.10/site-packages (from requests>=2.25->prance<24.0.0.0,>=23.6.21.0->semantic-kernel) (2.0.5)\n",
      "Requirement already satisfied: ruamel.yaml.clib>=0.2.7 in /Users/lokinfey/conda/envs/pydev/lib/python3.10/site-packages (from ruamel.yaml>=0.17.10->prance<24.0.0.0,>=23.6.21.0->semantic-kernel) (0.2.8)\n",
      "Requirement already satisfied: qdrant_client in /Users/lokinfey/conda/envs/pydev/lib/python3.10/site-packages (1.8.2)\n",
      "Requirement already satisfied: grpcio>=1.41.0 in /Users/lokinfey/conda/envs/pydev/lib/python3.10/site-packages (from qdrant_client) (1.62.1)\n",
      "Requirement already satisfied: grpcio-tools>=1.41.0 in /Users/lokinfey/conda/envs/pydev/lib/python3.10/site-packages (from qdrant_client) (1.62.1)\n",
      "Requirement already satisfied: httpx[http2]>=0.20.0 in /Users/lokinfey/conda/envs/pydev/lib/python3.10/site-packages (from qdrant_client) (0.25.2)\n",
      "Requirement already satisfied: numpy>=1.21 in /Users/lokinfey/conda/envs/pydev/lib/python3.10/site-packages (from qdrant_client) (1.26.0)\n",
      "Requirement already satisfied: portalocker<3.0.0,>=2.7.0 in /Users/lokinfey/conda/envs/pydev/lib/python3.10/site-packages (from qdrant_client) (2.8.2)\n",
      "Requirement already satisfied: pydantic>=1.10.8 in /Users/lokinfey/conda/envs/pydev/lib/python3.10/site-packages (from qdrant_client) (2.5.2)\n",
      "Requirement already satisfied: urllib3<3,>=1.26.14 in /Users/lokinfey/conda/envs/pydev/lib/python3.10/site-packages (from qdrant_client) (2.0.5)\n",
      "Requirement already satisfied: protobuf<5.0dev,>=4.21.6 in /Users/lokinfey/conda/envs/pydev/lib/python3.10/site-packages (from grpcio-tools>=1.41.0->qdrant_client) (4.24.3)\n",
      "Requirement already satisfied: setuptools in /Users/lokinfey/conda/envs/pydev/lib/python3.10/site-packages (from grpcio-tools>=1.41.0->qdrant_client) (68.2.2)\n",
      "Requirement already satisfied: anyio in /Users/lokinfey/conda/envs/pydev/lib/python3.10/site-packages (from httpx[http2]>=0.20.0->qdrant_client) (4.0.0)\n",
      "Requirement already satisfied: certifi in /Users/lokinfey/conda/envs/pydev/lib/python3.10/site-packages (from httpx[http2]>=0.20.0->qdrant_client) (2023.7.22)\n",
      "Requirement already satisfied: httpcore==1.* in /Users/lokinfey/conda/envs/pydev/lib/python3.10/site-packages (from httpx[http2]>=0.20.0->qdrant_client) (1.0.2)\n",
      "Requirement already satisfied: idna in /Users/lokinfey/conda/envs/pydev/lib/python3.10/site-packages (from httpx[http2]>=0.20.0->qdrant_client) (3.4)\n",
      "Requirement already satisfied: sniffio in /Users/lokinfey/conda/envs/pydev/lib/python3.10/site-packages (from httpx[http2]>=0.20.0->qdrant_client) (1.3.0)\n",
      "Requirement already satisfied: h2<5,>=3 in /Users/lokinfey/conda/envs/pydev/lib/python3.10/site-packages (from httpx[http2]>=0.20.0->qdrant_client) (4.1.0)\n",
      "Requirement already satisfied: h11<0.15,>=0.13 in /Users/lokinfey/conda/envs/pydev/lib/python3.10/site-packages (from httpcore==1.*->httpx[http2]>=0.20.0->qdrant_client) (0.14.0)\n",
      "Requirement already satisfied: annotated-types>=0.4.0 in /Users/lokinfey/conda/envs/pydev/lib/python3.10/site-packages (from pydantic>=1.10.8->qdrant_client) (0.6.0)\n",
      "Requirement already satisfied: pydantic-core==2.14.5 in /Users/lokinfey/conda/envs/pydev/lib/python3.10/site-packages (from pydantic>=1.10.8->qdrant_client) (2.14.5)\n",
      "Requirement already satisfied: typing-extensions>=4.6.1 in /Users/lokinfey/conda/envs/pydev/lib/python3.10/site-packages (from pydantic>=1.10.8->qdrant_client) (4.8.0)\n",
      "Requirement already satisfied: hyperframe<7,>=6.0 in /Users/lokinfey/conda/envs/pydev/lib/python3.10/site-packages (from h2<5,>=3->httpx[http2]>=0.20.0->qdrant_client) (6.0.1)\n",
      "Requirement already satisfied: hpack<5,>=4.0 in /Users/lokinfey/conda/envs/pydev/lib/python3.10/site-packages (from h2<5,>=3->httpx[http2]>=0.20.0->qdrant_client) (4.0.0)\n",
      "Requirement already satisfied: exceptiongroup>=1.0.2 in /Users/lokinfey/conda/envs/pydev/lib/python3.10/site-packages (from anyio->httpx[http2]>=0.20.0->qdrant_client) (1.1.3)\n"
     ]
    }
   ],
   "source": [
    "! pip install semantic-kernel -U\n",
    "! pip install qdrant_client -U"
   ]
  },
  {
   "cell_type": "code",
   "execution_count": 2,
   "metadata": {},
   "outputs": [],
   "source": [
    "import os\n",
    "import json"
   ]
  },
  {
   "cell_type": "code",
   "execution_count": 3,
   "metadata": {},
   "outputs": [],
   "source": [
    "import semantic_kernel as sk\n",
    "from dotenv import load_dotenv\n",
    "import semantic_kernel.connectors.ai.open_ai as skaoai"
   ]
  },
  {
   "cell_type": "code",
   "execution_count": 4,
   "metadata": {},
   "outputs": [],
   "source": [
    "kernel = sk.Kernel()\n",
    "deployment, api_key, endpoint = sk.azure_openai_settings_from_dot_env()"
   ]
  },
  {
   "cell_type": "code",
   "execution_count": 5,
   "metadata": {},
   "outputs": [],
   "source": [
    "chat_service = skaoai.AzureChatCompletion(\"Your Azure OpenAI Service gpt-4-32k Model Delployment Name\",endpoint,api_key=api_key,api_version = \"2023-12-01-preview\")\n",
    "embedding_gen = skaoai.AzureTextEmbedding(\"Your Azure OpenAI Service text-embedding-ada-002 Model Delployment Name\", endpoint,api_key=api_key,api_version = \"2023-12-01-preview\")"
   ]
  },
  {
   "cell_type": "code",
   "execution_count": 6,
   "metadata": {},
   "outputs": [],
   "source": [
    "kernel.add_service(chat_service)\n",
    "\n",
    "\n",
    "kernel.add_service(embedding_gen)"
   ]
  },
  {
   "cell_type": "code",
   "execution_count": 7,
   "metadata": {},
   "outputs": [],
   "source": [
    "base_plugin = \"./plugins\""
   ]
  },
  {
   "cell_type": "code",
   "execution_count": 8,
   "metadata": {},
   "outputs": [],
   "source": [
    "files_plugin = kernel.import_plugin_from_prompt_directory(base_plugin , \"FilePlugin\")"
   ]
  },
  {
   "cell_type": "code",
   "execution_count": 9,
   "metadata": {},
   "outputs": [],
   "source": [
    "nodes_files = os.listdir(\"./data/notes\")\n",
    "transcrips_files = os.listdir(\"./data/transcripts\")"
   ]
  },
  {
   "cell_type": "code",
   "execution_count": 10,
   "metadata": {},
   "outputs": [],
   "source": [
    "kblist = []"
   ]
  },
  {
   "cell_type": "code",
   "execution_count": 11,
   "metadata": {},
   "outputs": [
    {
     "name": "stderr",
     "output_type": "stream",
     "text": [
      "Error parsing XML of prompt: not well-formed (invalid token): line 3, column 50\n",
      "Error parsing XML of prompt: not well-formed (invalid token): line 3, column 50\n",
      "Error parsing XML of prompt: not well-formed (invalid token): line 3, column 50\n"
     ]
    }
   ],
   "source": [
    "for f in nodes_files:\n",
    "    file = open(\"./data/notes/\"+f, \"r\") \n",
    "    content = file.read()\n",
    "    notesFunc = files_plugin[\"Notes\"]\n",
    "    result = await kernel.invoke(notesFunc, sk.KernelArguments(input=content))\n",
    "    json_result = json.loads(str(result))\n",
    "    kblist.append(json_result)\n",
    "    file.close()"
   ]
  },
  {
   "cell_type": "code",
   "execution_count": 12,
   "metadata": {},
   "outputs": [],
   "source": [
    "for f in transcrips_files:\n",
    "    file = open(\"./data/transcripts/\"+f, \"r\") \n",
    "    content = file.read()\n",
    "    transcripsFunc = files_plugin[\"Transcrips\"]\n",
    "    result = await kernel.invoke(transcripsFunc, sk.KernelArguments(input=content))\n",
    "    # print(result.result)\n",
    "    json_result = json.loads(str(result))\n",
    "    for item in json_result:\n",
    "        kblist.append(item)\n",
    "    file.close()"
   ]
  },
  {
   "cell_type": "code",
   "execution_count": 13,
   "metadata": {},
   "outputs": [
    {
     "data": {
      "text/plain": [
       "[{'kb': 'History of machine learning',\n",
       "  'content': \"The history of machine learning and artificial intelligence is marked by significant discoveries and periods of progress and stagnation. Notable discoveries include Bayes Theorem (1763, 1812), Least Square Theory (1805), Markov Chains (1913), Perceptron (1957), Nearest Neighbor (1967), Backpropagation (1970), and Recurrent Neural Networks (1982). Key periods include the conceptualization of 'machines that can think' by Alan Turing in 1950, the Dartmouth Summer Research Project in 1956, the 'golden years' of AI from 1956 to 1974, the 'AI Winter' from 1974 to 1980 due to limitations and criticisms, the rise of 'expert systems' in the 1980s, the 'AI Chill' from 1987 to 1993 due to over-specialization, and the resurgence of ML and AI from 1993 to 2011 due to increased data and computational power. Today, ML and AI are integral parts of our lives, necessitating careful understanding of their impacts and ethical considerations.\"},\n",
       " {'kb': 'Techniques of Machine Learning',\n",
       "  'content': \"The process of machine learning involves several steps: deciding on the question, collecting and preparing data, choosing a training method, training the model, evaluating the model, parameter tuning, and prediction. Before building a model, tasks such as data collection and preparation, feature and target selection, data visualization, and dataset splitting are necessary. The model is built using training data and a chosen training method. The model's quality is evaluated using test data. If necessary, the model can be improved by tweaking its 'hyperparameters'. Finally, new data is used to test the model's accuracy.\"},\n",
       " {'kb': 'Introduction to machine learning',\n",
       "  'content': \"This content introduces machine learning (ML), a subset of artificial intelligence (AI) that uses specialized algorithms to uncover meaningful information and find hidden patterns from perceived data. It explains the importance of ML in today's technology-driven world and its applications in various fields such as finance, economics, earth science, space exploration, biomedical engineering, cognitive science, and humanities. The course covers core concepts of ML, history of ML, ML and fairness, regression ML techniques, classification ML techniques, clustering ML techniques, natural language processing ML techniques, time series forecasting ML techniques, reinforcement learning, and real-world applications for ML. However, it does not cover deep learning, neural networks, and AI. The course also emphasizes the importance of understanding the basics of ML due to its widespread adoption.\"},\n",
       " {'kb': 'Alan Turing and the Turing test',\n",
       "  'content': \"Alan Turing's foundation for machine intelligence, Turing test creation\"},\n",
       " {'kb': 'The Dartmouth Summer Research Project on AI',\n",
       "  'content': 'Birth of AI research field at Dartmouth College'},\n",
       " {'kb': 'The golden years of AI',\n",
       "  'content': 'Optimism, advances in computation, algorithms, intelligent machines'},\n",
       " {'kb': 'The AI winter',\n",
       "  'content': 'Complexity of AI, lack of data, ethical questions, funding issues'},\n",
       " {'kb': 'Resurgence and fall of AI for expert systems',\n",
       "  'content': 'Success of expert systems, rise of personal computers'},\n",
       " {'kb': 'Growth in AI driven by more data and more powerful hardware',\n",
       "  'content': 'Increase in data, experiments in machine learning'},\n",
       " {'kb': 'Big Data',\n",
       "  'content': 'Growth in compute power, machine learning solving problems'},\n",
       " {'kb': 'Increased awareness of ethical and responsible AI',\n",
       "  'content': 'Potential ethical issues, research in responsible AI'},\n",
       " {'kb': 'Introducing ML for Beginners',\n",
       "  'content': \"Based on Microsoft's open source curriculum. Machine learning is popular but often misunderstood. Course starts from basics with practical examples.\"},\n",
       " {'kb': 'The difference between AI and ML',\n",
       "  'content': 'AI is about machines accomplishing human-level tasks. Machine learning, a subset of AI, uses algorithms to learn from data. Deep learning is a subset of machine learning.'},\n",
       " {'kb': \"What you'll learn in this course\",\n",
       "  'content': 'Covers classical machine learning. Includes core concepts, history, statistical techniques like regression, classification, clustering.'},\n",
       " {'kb': \"What you won't learn in this course\",\n",
       "  'content': \"Course doesn't cover data science, deep learning, neural networks, and non-ML AI techniques. Microsoft offers additional courses for these areas.\"},\n",
       " {'kb': 'Why study Machine Learning',\n",
       "  'content': 'Solves complex problems in many fields. Applications are almost everywhere, as ubiquitous as data from our devices and systems.'},\n",
       " {'kb': 'Decide if AI is the right approach',\n",
       "  'content': 'AI is suitable for problems where solutions can be extracted from data. If a problem can be defined using precise rules, traditional programming is a better choice. AI is a promising approach if you have plenty of data containing useful information about your solution.'},\n",
       " {'kb': 'Collect and prepare data',\n",
       "  'content': 'After deciding AI is the right method, collect and prepare your data. This may involve normalizing it, converting it to a different form, or removing rows with missing fields. Decide which aspects of your data will be used as input to your prediction and which feature you want to predict. Split your data into training and test sets.'},\n",
       " {'kb': 'Train your model',\n",
       "  'content': 'Choose a machine learning algorithm and train your model using the training set. Training a model may take a while, especially if the model is large.'},\n",
       " {'kb': 'Evaluate your model',\n",
       "  'content': \"After the model is trained, test it using the test data set. It's important to test the algorithm with data that it hasn't seen during training to ensure that it generalizes well to new scenarios.\"},\n",
       " {'kb': 'Tune the hyperparameters',\n",
       "  'content': 'Some algorithms contain hyperparameters that control key aspects of their inner workings. Choosing good hyperparameters is important as they can make a big difference in your results. Write code that tries different combinations to discover the best values for your data.'},\n",
       " {'kb': 'Test the model in the real world',\n",
       "  'content': \"After getting good test results, test your model in the context of its intended use. This could involve collecting live data from a sensor and using it to make predictions, or deploying a model to a few users of your application. If it all looks good, you're ready to release it to production.\"}]"
      ]
     },
     "execution_count": 13,
     "metadata": {},
     "output_type": "execute_result"
    }
   ],
   "source": [
    "kblist"
   ]
  },
  {
   "cell_type": "code",
   "execution_count": 14,
   "metadata": {},
   "outputs": [],
   "source": [
    "base_vectordb = 'aboutMLKBDemoDemo'"
   ]
  },
  {
   "cell_type": "code",
   "execution_count": 15,
   "metadata": {},
   "outputs": [],
   "source": [
    "\n",
    "from semantic_kernel.connectors.memory.qdrant import QdrantMemoryStore\n",
    "from semantic_kernel.memory.semantic_text_memory import SemanticTextMemory"
   ]
  },
  {
   "cell_type": "code",
   "execution_count": 16,
   "metadata": {},
   "outputs": [],
   "source": [
    "qdrant_store = QdrantMemoryStore(vector_size=1536, url=\"http://localhost\",port=6333)\n",
    "await qdrant_store.create_collection(base_vectordb)"
   ]
  },
  {
   "cell_type": "code",
   "execution_count": 17,
   "metadata": {},
   "outputs": [],
   "source": [
    "memory = SemanticTextMemory(storage=qdrant_store, embeddings_generator=embedding_gen)"
   ]
  },
  {
   "cell_type": "code",
   "execution_count": 18,
   "metadata": {},
   "outputs": [],
   "source": [
    "import uuid"
   ]
  },
  {
   "cell_type": "code",
   "execution_count": 19,
   "metadata": {},
   "outputs": [
    {
     "data": {
      "text/plain": [
       "UUID('6f25a53d-c468-455d-aae6-7863defd6736')"
      ]
     },
     "execution_count": 19,
     "metadata": {},
     "output_type": "execute_result"
    }
   ],
   "source": [
    "uuid.uuid4()"
   ]
  },
  {
   "cell_type": "code",
   "execution_count": 20,
   "metadata": {},
   "outputs": [],
   "source": [
    "for item in kblist:\n",
    "    content = item[\"kb\"] + ' - ' + item[\"content\"]\n",
    "    id =str(uuid.uuid4())\n",
    "    await memory.save_information(base_vectordb, id=id, text=content)"
   ]
  },
  {
   "cell_type": "code",
   "execution_count": 21,
   "metadata": {},
   "outputs": [],
   "source": [
    "ask = \"can you tell me what is different ML and AI\"\n",
    "\n",
    "memories = await memory.search(\n",
    "    base_vectordb, ask, limit=1, min_relevance_score=0.8\n",
    ")"
   ]
  },
  {
   "cell_type": "code",
   "execution_count": 22,
   "metadata": {},
   "outputs": [
    {
     "name": "stdout",
     "output_type": "stream",
     "text": [
      "Top Result: The difference between AI and ML - AI is about machines accomplishing human-level tasks. Machine learning, a subset of AI, uses algorithms to learn from data. Deep learning is a subset of machine learning. with score 0.89043534\n"
     ]
    }
   ],
   "source": [
    "result = ''\n",
    "for item in memories:\n",
    "    print(f\"Top Result: {item.text} with score {item.relevance}\")\n",
    "    result = item.text"
   ]
  },
  {
   "cell_type": "code",
   "execution_count": 23,
   "metadata": {},
   "outputs": [],
   "source": [
    "answer_plugin = kernel.import_plugin_from_prompt_directory(base_plugin , \"AnswerPlugin\")"
   ]
  },
  {
   "cell_type": "code",
   "execution_count": 24,
   "metadata": {},
   "outputs": [],
   "source": [
    "answerFunc = answer_plugin[\"Summary\"]"
   ]
  },
  {
   "cell_type": "code",
   "execution_count": 25,
   "metadata": {},
   "outputs": [],
   "source": [
    "summary_result = await kernel.invoke(answerFunc, sk.KernelArguments(input=result))"
   ]
  },
  {
   "cell_type": "code",
   "execution_count": 26,
   "metadata": {},
   "outputs": [
    {
     "data": {
      "text/plain": [
       "'AI, or Artificial Intelligence, refers to machines performing tasks at a human level. Machine Learning, a part of AI, involves the use of algorithms that allow machines to learn from data. Deep Learning, a further subset of Machine Learning, is a more advanced form of learning. In simple terms, AI is the broad concept, Machine Learning is a way to achieve AI, and Deep Learning is a more complex method within Machine Learning.'"
      ]
     },
     "execution_count": 26,
     "metadata": {},
     "output_type": "execute_result"
    }
   ],
   "source": [
    "str(summary_result)"
   ]
  }
 ],
 "metadata": {
  "kernelspec": {
   "display_name": "pydev",
   "language": "python",
   "name": "python3"
  },
  "language_info": {
   "codemirror_mode": {
    "name": "ipython",
    "version": 3
   },
   "file_extension": ".py",
   "mimetype": "text/x-python",
   "name": "python",
   "nbconvert_exporter": "python",
   "pygments_lexer": "ipython3",
   "version": "3.10.12"
  }
 },
 "nbformat": 4,
 "nbformat_minor": 2
}
