{
 "cells": [
  {
   "cell_type": "code",
   "execution_count": 1,
   "metadata": {},
   "outputs": [
    {
     "name": "stdout",
     "output_type": "stream",
     "text": [
      "Collecting PyPDF2\n",
      "  Downloading pypdf2-3.0.1-py3-none-any.whl.metadata (6.8 kB)\n",
      "Downloading pypdf2-3.0.1-py3-none-any.whl (232 kB)\n",
      "\u001b[2K   \u001b[90m━━━━━━━━━━━━━━━━━━━━━━━━━━━━━━━━━━━━━━━\u001b[0m \u001b[32m232.6/232.6 kB\u001b[0m \u001b[31m862.8 kB/s\u001b[0m eta \u001b[36m0:00:00\u001b[0ma \u001b[36m0:00:01\u001b[0m\n",
      "\u001b[?25hInstalling collected packages: PyPDF2\n",
      "Successfully installed PyPDF2-3.0.1\n"
     ]
    }
   ],
   "source": [
    "! pip install PyPDF2 -U"
   ]
  },
  {
   "cell_type": "code",
   "execution_count": 2,
   "metadata": {},
   "outputs": [],
   "source": [
    "import PyPDF2"
   ]
  },
  {
   "cell_type": "code",
   "execution_count": 3,
   "metadata": {},
   "outputs": [],
   "source": [
    "def read_pdf(input1: str) -> str:\n",
    "  pdf = open(input1, 'rb')\n",
    "  pdfReader = PyPDF2.PdfReader(pdf)\n",
    "  pages = len(pdfReader.pages)\n",
    "  md_content = \"\"\n",
    "  for i in range(pages):\n",
    "    pageObj = pdfReader.pages[i]\n",
    "    if i > 0:\n",
    "        md_content += \"\\n\\n\"\n",
    "    content = pageObj.extract_text()\n",
    "    md_content += content\n",
    "    if i == pages -1:\n",
    "        md_content += \"\\n\\n## **谢谢**\"\n",
    "  pdf.close()\n",
    "  return md_content"
   ]
  },
  {
   "cell_type": "code",
   "execution_count": 4,
   "metadata": {},
   "outputs": [],
   "source": [
    "content = read_pdf('./docs/session1.pdf')"
   ]
  },
  {
   "cell_type": "code",
   "execution_count": 5,
   "metadata": {},
   "outputs": [
    {
     "data": {
      "text/plain": [
       "'第一节  从非职业化到职业化：教育发展不同历史阶段中的教师  一、非形式化教育中的教师 （一）非形式化教育 简单地说来，所谓非形式化教育，即在一般社会生活中通过社会互动对下一代进行的教育，这种教育形式最为典型的代表，是家庭或家族中的长者对幼者的养护、教导和指导。 （二）教育者的特点 ➢ “教师”还没有从他（或她）的一般社会身份（如父母）中独立出来，成为一种专门的、独立的社会职能，也就是说，教师还没有职业化。在非形式化教育中，教师并不依靠教育别人来维持自己的生计，他们有赖以维系自己生活的职业（如农民、手工业者） ，只是兼带地对下一代发挥教育者的功能。 ➢ 在教师职业化之前，教育者和受教育者之间建立关系，通常依靠血缘纽带，社会中的成年人往往只对与自己有血缘关系的未成年人（如自己的子女、孙子、孙女等）进行教育，未成年人也只能向与自己有血缘关系的成年人学习。 这一方面使得教育者与受教育者之间，保持了密切的个人关系，但在另一方面，也大大地限制了教育和被教育的范围。 ➢ 在这样的教育活动中，身为教育者的成年人并不需要专门为了教育活动接受训练和准备，他们主要是依靠自己在社会生活中积累的生活经验进行教育，这使得教育的内容和过程难免狭隘。在非形式化教育活动中，教育者通常也并不专门地为了下一代的教育而专门设计课程、组织教学活动，教育活动缺乏组织性，也限制了教育活动的效率。   二、形式化教育中的教师 （一）形式化教育的特点 ➢ 有了相对稳定的教育场所（如孔子的私学或柏拉图的学园） ；  ➢ 相对稳定的教育内容；  ➢ 也有了相对稳定的师生关系。 （二）教育者的特点 ➢ 首先，教师虽然已经部分地职业化，但并没有专职化。 ➢ 其次，教师所教的学生，已经不再限于与自己有血缘关系的人，教育对象的范围大大拓展。 ➢ 第三，教师所教授学生的内容，已经非常丰富和复杂，因此，教师需要经过专门的知识积累和准备，才能胜任教育工作，单靠个人的生活经验已经不足以满足需要了。  三、制度化教育中的教师 （一）教育者的特点 ➢ 首先，教师不但职业化，而且专职化。 ➢ 其次，教师和学生之间教与学关系的建立，主要依赖“制度的安排”   而不是个人的努力。 ➢ 第三，在制度化的学校教育中，教师所教的内容复杂而系统，而且富 于变化。 \\n\\n（二）相应的局限性 •首先，专职化也有可能限制教师的生活经验范围，容易造成教师的教育活动与发展迅速的社会生活之间的脱节。 •其次，由于现代社会发展的速度越来越快，教育内容常常表现出很大的不稳定性，要经常根据社会发展的需要和本学习领域的发展做出调整。 •第三，由制度安排的师生关系，很容易使得师生之间变成冷冰冰的“工作关系” ，缺少必要的以密切的个人关系为基础的人文关怀；这种制度化的工作关系，也容易降低教师对学生的影响力，尤其是在思想品德方面的影响力。  （三）总结教师角色的性质和教育工作的性质： ✓ 教育者逐渐从非经常性地从事教育工作，到专门地、职业化地从事教育工作。 ✓ 教育者的工作安排，在历史的发展过程中，经历了从随意性的安排到自觉地组织的变化。 ✓ 在教育的历史发展过程中，教育工作经历了从简单到复杂的演变过程，进入20世纪后半期以后，教育工作的复杂化速度也越来越快。4. 教育工作的复杂化，不但要求教师在从业之前必需进行较长时间的专业准备，而且也要求教师在从业之后，仍然不断地自我更新，以适应不断变化的教育工作的要求。    \\n\\n## **谢谢**'"
      ]
     },
     "execution_count": 5,
     "metadata": {},
     "output_type": "execute_result"
    }
   ],
   "source": [
    "content"
   ]
  },
  {
   "cell_type": "code",
   "execution_count": 6,
   "metadata": {},
   "outputs": [
    {
     "name": "stdout",
     "output_type": "stream",
     "text": [
      "Requirement already satisfied: semantic-kernel in /Users/lokinfey/conda/envs/skdev/lib/python3.10/site-packages (0.9.2b1)\n",
      "Requirement already satisfied: aiohttp<4.0,>=3.8 in /Users/lokinfey/conda/envs/skdev/lib/python3.10/site-packages (from semantic-kernel) (3.9.3)\n",
      "Requirement already satisfied: defusedxml<0.8.0,>=0.7.1 in /Users/lokinfey/conda/envs/skdev/lib/python3.10/site-packages (from semantic-kernel) (0.7.1)\n",
      "Requirement already satisfied: grpcio>=1.50.0 in /Users/lokinfey/conda/envs/skdev/lib/python3.10/site-packages (from semantic-kernel) (1.60.1)\n",
      "Requirement already satisfied: motor<4.0.0,>=3.3.2 in /Users/lokinfey/conda/envs/skdev/lib/python3.10/site-packages (from semantic-kernel) (3.3.2)\n",
      "Requirement already satisfied: numpy>=1.25 in /Users/lokinfey/conda/envs/skdev/lib/python3.10/site-packages (from semantic-kernel) (1.26.4)\n",
      "Requirement already satisfied: openai>=1.0 in /Users/lokinfey/conda/envs/skdev/lib/python3.10/site-packages (from semantic-kernel) (1.12.0)\n",
      "Requirement already satisfied: openapi_core<0.19.0,>=0.18.0 in /Users/lokinfey/conda/envs/skdev/lib/python3.10/site-packages (from semantic-kernel) (0.18.2)\n",
      "Requirement already satisfied: prance<24.0.0.0,>=23.6.21.0 in /Users/lokinfey/conda/envs/skdev/lib/python3.10/site-packages (from semantic-kernel) (23.6.21.0)\n",
      "Requirement already satisfied: pydantic<3,>=2 in /Users/lokinfey/conda/envs/skdev/lib/python3.10/site-packages (from semantic-kernel) (2.6.1)\n",
      "Requirement already satisfied: python-dotenv<2.0.0,>=1.0.1 in /Users/lokinfey/conda/envs/skdev/lib/python3.10/site-packages (from semantic-kernel) (1.0.1)\n",
      "Requirement already satisfied: regex<2024.0.0,>=2023.6.3 in /Users/lokinfey/conda/envs/skdev/lib/python3.10/site-packages (from semantic-kernel) (2023.12.25)\n",
      "Requirement already satisfied: scipy>=1.5.0 in /Users/lokinfey/conda/envs/skdev/lib/python3.10/site-packages (from semantic-kernel) (1.12.0)\n",
      "Requirement already satisfied: aiosignal>=1.1.2 in /Users/lokinfey/conda/envs/skdev/lib/python3.10/site-packages (from aiohttp<4.0,>=3.8->semantic-kernel) (1.3.1)\n",
      "Requirement already satisfied: attrs>=17.3.0 in /Users/lokinfey/conda/envs/skdev/lib/python3.10/site-packages (from aiohttp<4.0,>=3.8->semantic-kernel) (23.2.0)\n",
      "Requirement already satisfied: frozenlist>=1.1.1 in /Users/lokinfey/conda/envs/skdev/lib/python3.10/site-packages (from aiohttp<4.0,>=3.8->semantic-kernel) (1.4.1)\n",
      "Requirement already satisfied: multidict<7.0,>=4.5 in /Users/lokinfey/conda/envs/skdev/lib/python3.10/site-packages (from aiohttp<4.0,>=3.8->semantic-kernel) (6.0.5)\n",
      "Requirement already satisfied: yarl<2.0,>=1.0 in /Users/lokinfey/conda/envs/skdev/lib/python3.10/site-packages (from aiohttp<4.0,>=3.8->semantic-kernel) (1.9.4)\n",
      "Requirement already satisfied: async-timeout<5.0,>=4.0 in /Users/lokinfey/conda/envs/skdev/lib/python3.10/site-packages (from aiohttp<4.0,>=3.8->semantic-kernel) (4.0.3)\n",
      "Requirement already satisfied: pymongo<5,>=4.5 in /Users/lokinfey/conda/envs/skdev/lib/python3.10/site-packages (from motor<4.0.0,>=3.3.2->semantic-kernel) (4.6.1)\n",
      "Requirement already satisfied: anyio<5,>=3.5.0 in /Users/lokinfey/conda/envs/skdev/lib/python3.10/site-packages (from openai>=1.0->semantic-kernel) (4.2.0)\n",
      "Requirement already satisfied: distro<2,>=1.7.0 in /Users/lokinfey/conda/envs/skdev/lib/python3.10/site-packages (from openai>=1.0->semantic-kernel) (1.9.0)\n",
      "Requirement already satisfied: httpx<1,>=0.23.0 in /Users/lokinfey/conda/envs/skdev/lib/python3.10/site-packages (from openai>=1.0->semantic-kernel) (0.26.0)\n",
      "Requirement already satisfied: sniffio in /Users/lokinfey/conda/envs/skdev/lib/python3.10/site-packages (from openai>=1.0->semantic-kernel) (1.3.0)\n",
      "Requirement already satisfied: tqdm>4 in /Users/lokinfey/conda/envs/skdev/lib/python3.10/site-packages (from openai>=1.0->semantic-kernel) (4.66.2)\n",
      "Requirement already satisfied: typing-extensions<5,>=4.7 in /Users/lokinfey/conda/envs/skdev/lib/python3.10/site-packages (from openai>=1.0->semantic-kernel) (4.9.0)\n",
      "Requirement already satisfied: asgiref<4.0.0,>=3.6.0 in /Users/lokinfey/conda/envs/skdev/lib/python3.10/site-packages (from openapi_core<0.19.0,>=0.18.0->semantic-kernel) (3.7.2)\n",
      "Requirement already satisfied: isodate in /Users/lokinfey/conda/envs/skdev/lib/python3.10/site-packages (from openapi_core<0.19.0,>=0.18.0->semantic-kernel) (0.6.1)\n",
      "Requirement already satisfied: jsonschema<5.0.0,>=4.18.0 in /Users/lokinfey/conda/envs/skdev/lib/python3.10/site-packages (from openapi_core<0.19.0,>=0.18.0->semantic-kernel) (4.21.1)\n",
      "Requirement already satisfied: jsonschema-spec<0.3.0,>=0.2.3 in /Users/lokinfey/conda/envs/skdev/lib/python3.10/site-packages (from openapi_core<0.19.0,>=0.18.0->semantic-kernel) (0.2.4)\n",
      "Requirement already satisfied: more-itertools in /Users/lokinfey/conda/envs/skdev/lib/python3.10/site-packages (from openapi_core<0.19.0,>=0.18.0->semantic-kernel) (10.2.0)\n",
      "Requirement already satisfied: openapi-schema-validator<0.7.0,>=0.6.0 in /Users/lokinfey/conda/envs/skdev/lib/python3.10/site-packages (from openapi_core<0.19.0,>=0.18.0->semantic-kernel) (0.6.2)\n",
      "Requirement already satisfied: openapi-spec-validator<0.8.0,>=0.7.1 in /Users/lokinfey/conda/envs/skdev/lib/python3.10/site-packages (from openapi_core<0.19.0,>=0.18.0->semantic-kernel) (0.7.1)\n",
      "Requirement already satisfied: parse in /Users/lokinfey/conda/envs/skdev/lib/python3.10/site-packages (from openapi_core<0.19.0,>=0.18.0->semantic-kernel) (1.20.1)\n",
      "Requirement already satisfied: werkzeug in /Users/lokinfey/conda/envs/skdev/lib/python3.10/site-packages (from openapi_core<0.19.0,>=0.18.0->semantic-kernel) (3.0.1)\n",
      "Requirement already satisfied: chardet>=3.0 in /Users/lokinfey/conda/envs/skdev/lib/python3.10/site-packages (from prance<24.0.0.0,>=23.6.21.0->semantic-kernel) (5.2.0)\n",
      "Requirement already satisfied: ruamel.yaml>=0.17.10 in /Users/lokinfey/conda/envs/skdev/lib/python3.10/site-packages (from prance<24.0.0.0,>=23.6.21.0->semantic-kernel) (0.18.6)\n",
      "Requirement already satisfied: requests>=2.25 in /Users/lokinfey/conda/envs/skdev/lib/python3.10/site-packages (from prance<24.0.0.0,>=23.6.21.0->semantic-kernel) (2.31.0)\n",
      "Requirement already satisfied: six~=1.15 in /Users/lokinfey/conda/envs/skdev/lib/python3.10/site-packages (from prance<24.0.0.0,>=23.6.21.0->semantic-kernel) (1.16.0)\n",
      "Requirement already satisfied: packaging>=21.3 in /Users/lokinfey/conda/envs/skdev/lib/python3.10/site-packages (from prance<24.0.0.0,>=23.6.21.0->semantic-kernel) (23.2)\n",
      "Requirement already satisfied: annotated-types>=0.4.0 in /Users/lokinfey/conda/envs/skdev/lib/python3.10/site-packages (from pydantic<3,>=2->semantic-kernel) (0.6.0)\n",
      "Requirement already satisfied: pydantic-core==2.16.2 in /Users/lokinfey/conda/envs/skdev/lib/python3.10/site-packages (from pydantic<3,>=2->semantic-kernel) (2.16.2)\n",
      "Requirement already satisfied: idna>=2.8 in /Users/lokinfey/conda/envs/skdev/lib/python3.10/site-packages (from anyio<5,>=3.5.0->openai>=1.0->semantic-kernel) (3.6)\n",
      "Requirement already satisfied: exceptiongroup>=1.0.2 in /Users/lokinfey/conda/envs/skdev/lib/python3.10/site-packages (from anyio<5,>=3.5.0->openai>=1.0->semantic-kernel) (1.2.0)\n",
      "Requirement already satisfied: certifi in /Users/lokinfey/conda/envs/skdev/lib/python3.10/site-packages (from httpx<1,>=0.23.0->openai>=1.0->semantic-kernel) (2024.2.2)\n",
      "Requirement already satisfied: httpcore==1.* in /Users/lokinfey/conda/envs/skdev/lib/python3.10/site-packages (from httpx<1,>=0.23.0->openai>=1.0->semantic-kernel) (1.0.2)\n",
      "Requirement already satisfied: h11<0.15,>=0.13 in /Users/lokinfey/conda/envs/skdev/lib/python3.10/site-packages (from httpcore==1.*->httpx<1,>=0.23.0->openai>=1.0->semantic-kernel) (0.14.0)\n",
      "Requirement already satisfied: jsonschema-specifications>=2023.03.6 in /Users/lokinfey/conda/envs/skdev/lib/python3.10/site-packages (from jsonschema<5.0.0,>=4.18.0->openapi_core<0.19.0,>=0.18.0->semantic-kernel) (2023.7.1)\n",
      "Requirement already satisfied: referencing>=0.28.4 in /Users/lokinfey/conda/envs/skdev/lib/python3.10/site-packages (from jsonschema<5.0.0,>=4.18.0->openapi_core<0.19.0,>=0.18.0->semantic-kernel) (0.30.2)\n",
      "Requirement already satisfied: rpds-py>=0.7.1 in /Users/lokinfey/conda/envs/skdev/lib/python3.10/site-packages (from jsonschema<5.0.0,>=4.18.0->openapi_core<0.19.0,>=0.18.0->semantic-kernel) (0.18.0)\n",
      "Requirement already satisfied: PyYAML>=5.1 in /Users/lokinfey/conda/envs/skdev/lib/python3.10/site-packages (from jsonschema-spec<0.3.0,>=0.2.3->openapi_core<0.19.0,>=0.18.0->semantic-kernel) (6.0.1)\n",
      "Requirement already satisfied: pathable<0.5.0,>=0.4.1 in /Users/lokinfey/conda/envs/skdev/lib/python3.10/site-packages (from jsonschema-spec<0.3.0,>=0.2.3->openapi_core<0.19.0,>=0.18.0->semantic-kernel) (0.4.3)\n",
      "Requirement already satisfied: rfc3339-validator in /Users/lokinfey/conda/envs/skdev/lib/python3.10/site-packages (from openapi-schema-validator<0.7.0,>=0.6.0->openapi_core<0.19.0,>=0.18.0->semantic-kernel) (0.1.4)\n",
      "Requirement already satisfied: jsonschema-path<0.4.0,>=0.3.1 in /Users/lokinfey/conda/envs/skdev/lib/python3.10/site-packages (from openapi-spec-validator<0.8.0,>=0.7.1->openapi_core<0.19.0,>=0.18.0->semantic-kernel) (0.3.2)\n",
      "Requirement already satisfied: lazy-object-proxy<2.0.0,>=1.7.1 in /Users/lokinfey/conda/envs/skdev/lib/python3.10/site-packages (from openapi-spec-validator<0.8.0,>=0.7.1->openapi_core<0.19.0,>=0.18.0->semantic-kernel) (1.10.0)\n",
      "Requirement already satisfied: dnspython<3.0.0,>=1.16.0 in /Users/lokinfey/conda/envs/skdev/lib/python3.10/site-packages (from pymongo<5,>=4.5->motor<4.0.0,>=3.3.2->semantic-kernel) (2.5.0)\n",
      "Requirement already satisfied: charset-normalizer<4,>=2 in /Users/lokinfey/conda/envs/skdev/lib/python3.10/site-packages (from requests>=2.25->prance<24.0.0.0,>=23.6.21.0->semantic-kernel) (3.3.2)\n",
      "Requirement already satisfied: urllib3<3,>=1.21.1 in /Users/lokinfey/conda/envs/skdev/lib/python3.10/site-packages (from requests>=2.25->prance<24.0.0.0,>=23.6.21.0->semantic-kernel) (2.2.0)\n",
      "Requirement already satisfied: ruamel.yaml.clib>=0.2.7 in /Users/lokinfey/conda/envs/skdev/lib/python3.10/site-packages (from ruamel.yaml>=0.17.10->prance<24.0.0.0,>=23.6.21.0->semantic-kernel) (0.2.8)\n",
      "Requirement already satisfied: MarkupSafe>=2.1.1 in /Users/lokinfey/conda/envs/skdev/lib/python3.10/site-packages (from werkzeug->openapi_core<0.19.0,>=0.18.0->semantic-kernel) (2.1.5)\n"
     ]
    }
   ],
   "source": [
    "! pip install semantic-kernel -U"
   ]
  },
  {
   "cell_type": "code",
   "execution_count": 7,
   "metadata": {},
   "outputs": [],
   "source": [
    "import semantic_kernel as sk\n",
    "from dotenv import load_dotenv\n",
    "import semantic_kernel.connectors.ai.open_ai as skaoai"
   ]
  },
  {
   "cell_type": "code",
   "execution_count": 8,
   "metadata": {},
   "outputs": [],
   "source": [
    "kernel = sk.Kernel()\n",
    "deployment, api_key, endpoint = sk.azure_openai_settings_from_dot_env()"
   ]
  },
  {
   "cell_type": "code",
   "execution_count": 9,
   "metadata": {},
   "outputs": [],
   "source": [
    "kernel.add_service(skaoai.AzureChatCompletion(\"Your Azure OpenAI Service gpt-35-turbo-16k Model Delployment Name\",endpoint,api_key=api_key,api_version = \"2023-12-01-preview\"))"
   ]
  },
  {
   "cell_type": "code",
   "execution_count": 10,
   "metadata": {},
   "outputs": [],
   "source": [
    "base_plugin = \"./plugins\""
   ]
  },
  {
   "cell_type": "markdown",
   "metadata": {},
   "source": [
    "Plugin 如何写？我们重新了解下"
   ]
  },
  {
   "cell_type": "code",
   "execution_count": 11,
   "metadata": {},
   "outputs": [],
   "source": [
    "tools_plugin = kernel.import_plugin_from_prompt_directory(base_plugin,\"ToolsPlugin\")"
   ]
  },
  {
   "cell_type": "code",
   "execution_count": 12,
   "metadata": {},
   "outputs": [],
   "source": [
    "# variables = sk.ContextVariables()\n",
    "\n",
    "# variables[\"input\"]= content\n",
    "ppt_func = tools_plugin[\"PPT\"]"
   ]
  },
  {
   "cell_type": "code",
   "execution_count": 13,
   "metadata": {},
   "outputs": [],
   "source": [
    "result = await kernel.invoke(ppt_func, sk.KernelArguments(input=content))"
   ]
  },
  {
   "cell_type": "code",
   "execution_count": 14,
   "metadata": {},
   "outputs": [
    {
     "name": "stdout",
     "output_type": "stream",
     "text": [
      "### **第一节 从非职业化到职业化：教育发展不同历史阶段中的教师**\n",
      "\n",
      "---\n",
      "\n",
      "### **一、非形式化教育中的教师**\n",
      "\n",
      "---\n",
      "\n",
      "### **(一)非形式化教育**\n",
      "\n",
      "简单地说来，所谓非形式化教育，即在一般社会生活中通过社会互动对下一代进行的教育，这种教育形式最为典型的代表，是家庭或家族中的长者对幼者的养护、教导和指导。\n",
      "\n",
      "---\n",
      "\n",
      "### **(二)教育者的特点**\n",
      "\n",
      "- “教师”还没有从他（或她）的一般社会身份（如父母）中独立出来，成为一种专门的、独立的社会职能，也就是说，教师还没有职业化。在非形式化教育中，教师并不依靠教育别人来维持自己的生计，他们有赖以维系自己生活的职业（如农民、手工业者），只是兼带地对下一代发挥教育者的功能。\n",
      "\n",
      "- 在教师职业化之前，教育者和受教育者之间建立关系，通常依靠血缘纽带，社会中的成年人往往只对与自己有血缘关系的未成年人（如自己的子女、孙子、孙女等）进行教育，未成年人也只能向与自己有血缘关系的成年人学习。 这一方面使得教育者与受教育者之间，保持了密切的个人关系，但在另一方面，也大大地限制了教育和被教育的范围。\n",
      "\n",
      "- 在这样的教育活动中，身为教育者的成年人并不需要专门为了教育活动接受训练和准备，他们主要是依靠自己在社会生活中积累的生活经验进行教育，这使得教育的内容和过程难免狭隘。在非形式化教育活动中，教育者通常也并不专门地为了下一代的教育而专门设计课程、组织教学活动，教育活动缺乏组织性，也限制了教育活动的效率。\n",
      "\n",
      "---\n",
      "\n",
      "### **二、形式化教育中的教师**\n",
      "\n",
      "---\n",
      "\n",
      "### **(一)形式化教育的特点**\n",
      "\n",
      "- 有了相对稳定的教育场所（如孔子的私学或柏拉图的学园）；\n",
      "- 相对稳定的教育内容；\n",
      "- 也有了相对稳定的师生关系。\n",
      "\n",
      "---\n",
      "\n",
      "### **(二)教育者的特点**\n",
      "\n",
      "- 首先，教师虽然已经部分地职业化，但并没有专职化。\n",
      "- 其次，教师所教的学生，已经不再限于与自己有血缘关系的人，教育对象的范围大大拓展。\n",
      "- 第三，教师所教授学生的内容，已经非常丰富和复杂，因此，教师需要经过专门的知识积累和准备，才能胜任教育工作，单靠个人的生活经验已经不足以满足需要了。\n",
      "\n",
      "---\n",
      "\n",
      "### **三、制度化教育中的教师**\n",
      "\n",
      "---\n",
      "\n",
      "### **(一)教育者的特点**\n",
      "\n",
      "- 首先，教师不但职业化，而且专职化。\n",
      "- 其次，教师和学生之间教与学关系的建立，主要依赖“制度的安排”而不是个人的努力。\n",
      "- 第三，在制度化的学校教育中，教师所教的内容复杂而系统，而且富于变化。\n",
      "\n",
      "---\n",
      "\n",
      "### **(二)相应的局限性**\n",
      "\n",
      "- 首先，专职化也有可能限制教师的生活经验范围，容易造成教师的教育活动与发展迅速的社会生活之间的脱节。\n",
      "- 其次，由于现代社会发展的速度越来越快，教育内容常常表现出很大的不稳定性，要经常根据社会发展的需要和本学习领域的发展做出调整。\n",
      "- 第三，由制度安排的师生关系，很容易使得师生之间变成冷冰冰的“工作关系”，缺少必要的以密切的个人关系为基础的人文关怀；这种制度化的工作关系，也容易降低教师对学生的影响力，尤其是在思想品德方面的影响力。\n",
      "\n",
      "---\n",
      "\n",
      "### **(三)总结教师角色的性质和教育工作的性质**\n",
      "\n",
      "- 教育者逐渐从非经常性地从事教育工作，到专门地、职业化地从事教育工作。\n",
      "- 教育者的工作安排，在历史的发展过程中，经历了从随意性的安排到自觉地组织的变化。\n",
      "- 在教育的历史发展过程中，教育工作经历了从简单到复杂的演变过程，进入20世纪后半期以后，教育工作的复杂化速度也越来越快。\n",
      "\n",
      "---\n",
      "\n",
      "### **4. 教育工作的复杂化**\n",
      "\n",
      "教育工作的复杂化，不但要求教师在从业之前必需进行较长时间的专业准备，而且也要求教师在从业之后，仍然不断地自我更新，以适应不断变化的教育工作的要求。\n",
      "\n",
      "---\n",
      "\n",
      "## **谢谢**\n"
     ]
    }
   ],
   "source": [
    "print(result)"
   ]
  },
  {
   "cell_type": "code",
   "execution_count": 15,
   "metadata": {},
   "outputs": [],
   "source": [
    "ppt_content =\"---\\nmarp: true\\n---\\n\" + str(result)"
   ]
  },
  {
   "cell_type": "code",
   "execution_count": 16,
   "metadata": {},
   "outputs": [
    {
     "data": {
      "text/plain": [
       "'---\\nmarp: true\\n---\\n### **第一节 从非职业化到职业化：教育发展不同历史阶段中的教师**\\n\\n---\\n\\n### **一、非形式化教育中的教师**\\n\\n---\\n\\n### **(一)非形式化教育**\\n\\n简单地说来，所谓非形式化教育，即在一般社会生活中通过社会互动对下一代进行的教育，这种教育形式最为典型的代表，是家庭或家族中的长者对幼者的养护、教导和指导。\\n\\n---\\n\\n### **(二)教育者的特点**\\n\\n- “教师”还没有从他（或她）的一般社会身份（如父母）中独立出来，成为一种专门的、独立的社会职能，也就是说，教师还没有职业化。在非形式化教育中，教师并不依靠教育别人来维持自己的生计，他们有赖以维系自己生活的职业（如农民、手工业者），只是兼带地对下一代发挥教育者的功能。\\n\\n- 在教师职业化之前，教育者和受教育者之间建立关系，通常依靠血缘纽带，社会中的成年人往往只对与自己有血缘关系的未成年人（如自己的子女、孙子、孙女等）进行教育，未成年人也只能向与自己有血缘关系的成年人学习。 这一方面使得教育者与受教育者之间，保持了密切的个人关系，但在另一方面，也大大地限制了教育和被教育的范围。\\n\\n- 在这样的教育活动中，身为教育者的成年人并不需要专门为了教育活动接受训练和准备，他们主要是依靠自己在社会生活中积累的生活经验进行教育，这使得教育的内容和过程难免狭隘。在非形式化教育活动中，教育者通常也并不专门地为了下一代的教育而专门设计课程、组织教学活动，教育活动缺乏组织性，也限制了教育活动的效率。\\n\\n---\\n\\n### **二、形式化教育中的教师**\\n\\n---\\n\\n### **(一)形式化教育的特点**\\n\\n- 有了相对稳定的教育场所（如孔子的私学或柏拉图的学园）；\\n- 相对稳定的教育内容；\\n- 也有了相对稳定的师生关系。\\n\\n---\\n\\n### **(二)教育者的特点**\\n\\n- 首先，教师虽然已经部分地职业化，但并没有专职化。\\n- 其次，教师所教的学生，已经不再限于与自己有血缘关系的人，教育对象的范围大大拓展。\\n- 第三，教师所教授学生的内容，已经非常丰富和复杂，因此，教师需要经过专门的知识积累和准备，才能胜任教育工作，单靠个人的生活经验已经不足以满足需要了。\\n\\n---\\n\\n### **三、制度化教育中的教师**\\n\\n---\\n\\n### **(一)教育者的特点**\\n\\n- 首先，教师不但职业化，而且专职化。\\n- 其次，教师和学生之间教与学关系的建立，主要依赖“制度的安排”而不是个人的努力。\\n- 第三，在制度化的学校教育中，教师所教的内容复杂而系统，而且富于变化。\\n\\n---\\n\\n### **(二)相应的局限性**\\n\\n- 首先，专职化也有可能限制教师的生活经验范围，容易造成教师的教育活动与发展迅速的社会生活之间的脱节。\\n- 其次，由于现代社会发展的速度越来越快，教育内容常常表现出很大的不稳定性，要经常根据社会发展的需要和本学习领域的发展做出调整。\\n- 第三，由制度安排的师生关系，很容易使得师生之间变成冷冰冰的“工作关系”，缺少必要的以密切的个人关系为基础的人文关怀；这种制度化的工作关系，也容易降低教师对学生的影响力，尤其是在思想品德方面的影响力。\\n\\n---\\n\\n### **(三)总结教师角色的性质和教育工作的性质**\\n\\n- 教育者逐渐从非经常性地从事教育工作，到专门地、职业化地从事教育工作。\\n- 教育者的工作安排，在历史的发展过程中，经历了从随意性的安排到自觉地组织的变化。\\n- 在教育的历史发展过程中，教育工作经历了从简单到复杂的演变过程，进入20世纪后半期以后，教育工作的复杂化速度也越来越快。\\n\\n---\\n\\n### **4. 教育工作的复杂化**\\n\\n教育工作的复杂化，不但要求教师在从业之前必需进行较长时间的专业准备，而且也要求教师在从业之后，仍然不断地自我更新，以适应不断变化的教育工作的要求。\\n\\n---\\n\\n## **谢谢**'"
      ]
     },
     "execution_count": 16,
     "metadata": {},
     "output_type": "execute_result"
    }
   ],
   "source": [
    "ppt_content"
   ]
  },
  {
   "cell_type": "code",
   "execution_count": 17,
   "metadata": {},
   "outputs": [],
   "source": [
    "f = open(\"myfile.md\", \"w\")"
   ]
  },
  {
   "cell_type": "code",
   "execution_count": 18,
   "metadata": {},
   "outputs": [],
   "source": [
    "f = open(\"myfile.md\", \"a\")\n",
    "f.write(ppt_content)\n",
    "f.close()"
   ]
  },
  {
   "cell_type": "code",
   "execution_count": 19,
   "metadata": {},
   "outputs": [
    {
     "name": "stdout",
     "output_type": "stream",
     "text": [
      "\u001b[7m[  INFO ]\u001b[27m Converting 1 markdown...\n",
      "\u001b[7m[  INFO ]\u001b[27m myfile.md => myfile.pptx\n"
     ]
    }
   ],
   "source": [
    "! marp myfile.md -o myfile.pptx"
   ]
  }
 ],
 "metadata": {
  "kernelspec": {
   "display_name": "pydev",
   "language": "python",
   "name": "python3"
  },
  "language_info": {
   "codemirror_mode": {
    "name": "ipython",
    "version": 3
   },
   "file_extension": ".py",
   "mimetype": "text/x-python",
   "name": "python",
   "nbconvert_exporter": "python",
   "pygments_lexer": "ipython3",
   "version": "3.10.12"
  }
 },
 "nbformat": 4,
 "nbformat_minor": 2
}
